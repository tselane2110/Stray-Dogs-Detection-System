{
  "cells": [
    {
      "cell_type": "markdown",
      "metadata": {
        "id": "view-in-github",
        "colab_type": "text"
      },
      "source": [
        "<a href=\"https://colab.research.google.com/github/tselane2110/stray-dogs-detection-system/blob/main/Model%20Training/data_preprocessing_1.ipynb\" target=\"_parent\"><img src=\"https://colab.research.google.com/assets/colab-badge.svg\" alt=\"Open In Colab\"/></a>"
      ]
    },
    {
      "cell_type": "markdown",
      "source": [
        "# ReadMe:  (basic introduction of our code)\n",
        "\n",
        "* The actual dataset that I used is from kaggle : https://www.kaggle.com/datasets/jessicali9530/stanford-dogs-dataset\n",
        "\n",
        "* It has 120 different folders for each kind of dog, with 20k images in total.\n",
        "\n",
        "* We did data-cleaining as in deleting the folders of the dog-breeds which I did not need. So final number of folders was 40. With almost 7k+ something total images.\n",
        "\n",
        "* We then converted the annotations into yolov5 format. The total number of images then reduced to 6876.\n",
        "\n",
        "* Then we splitted our dataset into train, validation and test.\n",
        "\n",
        "* We then chunked out train-data because it was too much for Colab to handle (code was crashing), into 5 chunks, each of almost 1100 images approximately.\n",
        "\n",
        "* For training, I trained the 1st chunk, it's best weight was then used for the training of the 2nd chunk, and the same for repeated for the other 2 remaining chunks.\n",
        "\n",
        "* The final best weight (of chunk4) was used for deploying the model.\n",
        "\n"
      ],
      "metadata": {
        "id": "ViQXtqEt5X9z"
      }
    },
    {
      "cell_type": "markdown",
      "source": [
        "# 1. Preparing data:"
      ],
      "metadata": {
        "id": "q7o5NyMh8BoN"
      }
    },
    {
      "cell_type": "markdown",
      "metadata": {
        "id": "ui2hdJw0W_V0"
      },
      "source": [
        "* upload the fypdataset.zip and annotations.zip file"
      ]
    },
    {
      "cell_type": "code",
      "execution_count": null,
      "metadata": {
        "id": "TlPO-yu5ka9I"
      },
      "outputs": [],
      "source": [
        "!unzip /content/fypdataset.zip"
      ]
    },
    {
      "cell_type": "markdown",
      "metadata": {
        "id": "MZa2mnpLXEc4"
      },
      "source": [
        "* functions to convert annotation files from xml to txt (yolov5 version)"
      ]
    },
    {
      "cell_type": "code",
      "source": [
        "import glob\n",
        "import os\n",
        "import pickle\n",
        "import xml.etree.ElementTree as ET\n",
        "from os import listdir, getcwd\n",
        "from os.path import join\n",
        "\n",
        "dirs = ['fypdataset']\n",
        "classes = [\n",
        "           \"Chihuahua\", \"toy_terrier\", \"Rhodesian_ridgeback\", \"basset\", \"beagle\", \"bloodhound\", \"bluetick\", \"black-and-tan_coonhound\", \"Walker_hound\", \"English_foxhound\", \"redbone\", \"Italian_greyhound\", \"whippet\", \"Ibizan_hound\", \"Saluki\", \"Weimaraner\", \"Staffordshire_bullterrier\", \"American_Staffordshire_terrier\", \"golden_retriever\", \"Labrador_retriever\", \"Chesapeake_Bay_retriever\", \"German_short-haired_pointer\", \"Brittany_spaniel\", \"kuvasz\", \"schipperke\", \"malinois\", \"kelpie\", \"Rottweiler\", \"miniature_pinscher\", \"EntleBucher\", \"boxer\", \"Great_Dane\", \"Saint_Bernard\", \"Eskimo_dog\", \"basenji\", \"Leonberg\", \"Pembroke\", \"Cardigan\", \"Mexican_hairless\", \"dingo\", \"African_hunting_dog\"       ]\n",
        "\n",
        "def getImagesInDir(dir_path):\n",
        "    image_list = []\n",
        "    for filename in os.listdir(dir_path+\"/images\"):\n",
        "      image_list.append(filename)\n",
        "\n",
        "    return image_list\n",
        "\n",
        "def convert(size, box):\n",
        "    dw = 1./(size[0])\n",
        "    dh = 1./(size[1])\n",
        "    x = (box[0] + box[1])/2.0 - 1\n",
        "    y = (box[2] + box[3])/2.0 - 1\n",
        "    w = box[1] - box[0]\n",
        "    h = box[3] - box[2]\n",
        "    x = x*dw\n",
        "    w = w*dw\n",
        "    y = y*dh\n",
        "    h = h*dh\n",
        "    return (x,y,w,h)\n",
        "\n",
        "def convert_annotation(dir_path, output_path, image_path):\n",
        "    basename = os.path.basename(image_path)\n",
        "    basename_no_ext = os.path.splitext(basename)[0]\n",
        "    # image_path is like n02085620_10074.jpg\n",
        "    # basename_no_ext is like n02085620_10074\n",
        "    # dir_path is /content/fypdataset/\n",
        "    # output_path is /content/fypdataset/yolo\n",
        "    # in_file should be: /content/fypdataset/labels/n02085620_10074\n",
        "    in_file = open(dir_path + '/labels/' + basename_no_ext)\n",
        "    out_file = open(output_path + \"/\" + basename_no_ext + '.txt', 'w')\n",
        "    tree = ET.parse(in_file)\n",
        "    root = tree.getroot()\n",
        "    size = root.find('size')\n",
        "    w = int(size.find('width').text)\n",
        "    h = int(size.find('height').text)\n",
        "\n",
        "    for obj in root.iter('object'):\n",
        "        difficult = obj.find('difficult').text\n",
        "        cls = obj.find('name').text\n",
        "        if cls not in classes or int(difficult)==1:\n",
        "            continue\n",
        "        cls_id = 0\n",
        "        xmlbox = obj.find('bndbox')\n",
        "        b = (float(xmlbox.find('xmin').text), float(xmlbox.find('xmax').text),\n",
        "             float(xmlbox.find('ymin').text), float(xmlbox.find('ymax').text))\n",
        "        bb = convert((w,h), b)\n",
        "        out_file.write(str(cls_id) + \" \" + \" \".join([str(a) for a in bb]) + '\\n')\n",
        "\n",
        "cwd = getcwd()\n",
        "\n",
        "for dir_path in dirs:\n",
        "    full_dir_path = cwd + '/' + dir_path\n",
        "    print(full_dir_path)\n",
        "    output_path = full_dir_path +'/yolo'\n",
        "    print(output_path)\n",
        "\n",
        "    if not os.path.exists(output_path):\n",
        "        os.makedirs(output_path)\n",
        "        print(\"output path created!\")\n",
        "\n",
        "    image_paths = getImagesInDir(full_dir_path)\n",
        "    list_file = open(full_dir_path + '.txt', 'w')\n",
        "\n",
        "    for image_path in image_paths:\n",
        "        list_file.write(image_path + '\\n')\n",
        "        convert_annotation(full_dir_path, output_path, image_path)\n",
        "    list_file.close()\n",
        "\n",
        "    print(\"Finished processing: \" + dir_path)"
      ],
      "metadata": {
        "id": "HqPeehgbtdoo",
        "colab": {
          "base_uri": "https://localhost:8080/"
        },
        "outputId": "5c2750d2-4523-4dc1-b4f0-908351128439"
      },
      "execution_count": null,
      "outputs": [
        {
          "output_type": "stream",
          "name": "stdout",
          "text": [
            "/content/fypdataset\n",
            "/content/fypdataset/yolo\n",
            "Finished processing: fypdataset\n"
          ]
        }
      ]
    },
    {
      "cell_type": "markdown",
      "source": [
        "* train, val, test split:"
      ],
      "metadata": {
        "id": "-SCw9xA_67k1"
      }
    },
    {
      "cell_type": "code",
      "source": [
        "# code to confirm my logic XD\n",
        "\n",
        "list=[1,2,3]\n",
        "\n",
        "for i in list:\n",
        "  print(i)"
      ],
      "metadata": {
        "colab": {
          "base_uri": "https://localhost:8080/"
        },
        "id": "_ueuM2HPGj9v",
        "outputId": "9a622741-c87b-4c0e-b063-ef4adf879b36"
      },
      "execution_count": null,
      "outputs": [
        {
          "output_type": "stream",
          "name": "stdout",
          "text": [
            "1\n",
            "2\n",
            "3\n"
          ]
        }
      ]
    },
    {
      "cell_type": "code",
      "execution_count": null,
      "metadata": {
        "id": "eiTue97jV6o8",
        "colab": {
          "base_uri": "https://localhost:8080/"
        },
        "outputId": "d3de8ded-264c-4f19-b427-96ca10833074"
      },
      "outputs": [
        {
          "output_type": "stream",
          "name": "stdout",
          "text": [
            "no of images:  6876\n",
            "no of labels:  6876\n"
          ]
        }
      ],
      "source": [
        "from sklearn.model_selection import train_test_split\n",
        "import re\n",
        "# split the image data into train, val, and test sets\n",
        "\n",
        "path_to_annotation_files = []\n",
        "path_to_image_files = []\n",
        "annotation_root= \"/content/fypdataset/yolo\"\n",
        "root_path = \"/content/fypdataset\"\n",
        "for class_id in os.listdir(annotation_root):\n",
        "  annotation_path = os.path.join(annotation_root, class_id)       #/content/fypdataset/yolo/n02085620_1298.txt\n",
        "  text=class_id                         # we need i == n02110806_3971.jpg\n",
        "  d=re.search ('\\d+_\\d+', text)\n",
        "  if d.group(0)!=None:\n",
        "    b=d.group(0)\n",
        "    x=\"n\"+b+\".jpg\"     #x= n02085620_1298.jpg\n",
        "  image_path = os.path.join(root_path, \"images/\"+x)   #/content/fypdataset/images/n02085620_1298.jpg\n",
        "  path_to_annotation_files.append(annotation_path)\n",
        "  path_to_image_files.append(image_path)\n",
        "\n",
        "\n",
        "\n",
        "print(\"no of images: \", len(path_to_annotation_files))\n",
        "print(\"no of labels: \", len(path_to_image_files))\n",
        "\n",
        "train_images, val_images, train_annotations, val_annotations= train_test_split(path_to_image_files, path_to_annotation_files,\n",
        "                                                                               test_size=0.2, random_state=1)\n",
        "\n",
        "val_images, test_images, val_annotations, test_annotations=train_test_split(val_images, val_annotations,\n",
        "                                                                           test_size=0.5, random_state=1)\n",
        "\n"
      ]
    },
    {
      "cell_type": "code",
      "source": [
        "print(train_images) #/content/fypdataset/images/n02085620_10074.jpg\n",
        "print(train_annotations) #/content/fypdataset/yolo/n02085620_1073.txt"
      ],
      "metadata": {
        "id": "8Jqq1bUJTSic"
      },
      "execution_count": null,
      "outputs": []
    },
    {
      "cell_type": "markdown",
      "metadata": {
        "id": "B11Ga5JRoxkv"
      },
      "source": [
        "# moving the train, test and val split files into their respective folders:\n",
        "\n",
        "* I created 2 new folders as images1 and labels1 in fypdataset folder, and then I created training, testing and validation folders within each of them. So that I can delete the old images and yolo folder (I also deleted the initial labels/annotations folder)"
      ]
    },
    {
      "cell_type": "code",
      "execution_count": null,
      "metadata": {
        "id": "UNu7NsT5HxFP"
      },
      "outputs": [],
      "source": [
        "import shutil\n",
        "\n",
        "def moves_files_to_folder(list_of_files, destination_folder):\n",
        "  for f in list_of_files:\n",
        "    try:\n",
        "      shutil.copy(f, destination_folder)\n",
        "    except:\n",
        "      print(f)\n",
        "      assert False\n",
        "\n",
        "moves_files_to_folder(train_images, \"/content/fypdataset/images1/training\")\n",
        "moves_files_to_folder(val_images, \"/content/fypdataset/images1/validation\")\n",
        "moves_files_to_folder(test_images, \"/content/fypdataset/images1/testing\")\n",
        "moves_files_to_folder(train_annotations, \"/content/fypdataset/labels1/training\")\n",
        "moves_files_to_folder(val_annotations, \"/content/fypdataset/labels1/validation\")\n",
        "moves_files_to_folder(test_annotations, \"/content/fypdataset/labels1/testing\")\n",
        "\n"
      ]
    },
    {
      "cell_type": "markdown",
      "source": [
        "# Now deleting the old images and yolo folder:"
      ],
      "metadata": {
        "id": "Q3VNnSwfeV1s"
      }
    },
    {
      "cell_type": "code",
      "source": [
        "shutil.rmtree(\"/content/fypdataset/images\")\n",
        "shutil.rmtree(\"/content/fypdataset/yolo\")"
      ],
      "metadata": {
        "id": "S5hnBhRbeaPs"
      },
      "execution_count": null,
      "outputs": []
    },
    {
      "cell_type": "markdown",
      "source": [
        "# chunking data into multiple training files for comparatively quick training:\n",
        "\n",
        "\n",
        "* create 5 folders as training1, training2, training3, training4 and training5 in both, images and labels folder.\n",
        "\n",
        "**NOTE: I chunked my data into multiple folders because back then, I did not know that I can just use FREE GPU and give the whole dataset for training in one go!**"
      ],
      "metadata": {
        "id": "EYBqmOYECRFz"
      }
    },
    {
      "cell_type": "code",
      "source": [
        "# importing dataset again: (if you reconnected your runtime/ reuploaded your fypdataset.zip)\n",
        "\n",
        "!unzip /content/fypdataset.zip\n"
      ],
      "metadata": {
        "id": "yQe35Z9iLsav"
      },
      "execution_count": null,
      "outputs": []
    },
    {
      "cell_type": "code",
      "source": [
        "# for image training data:\n",
        "import os\n",
        "\n",
        "path= \"/content/content/fypdataset/images/training\"\n",
        "j=0\n",
        "\n",
        "chunki1=[]\n",
        "chunki2=[]\n",
        "chunki3=[]\n",
        "chunki4=[]\n",
        "chunki5=[]\n",
        "\n",
        "\n",
        "for i in os.listdir(path):\n",
        "  if j>=0 and j<1100:\n",
        "    chunki1.append(i)\n",
        "\n",
        "  if j>=1100 and j<2200:\n",
        "    chunki2.append(i)\n",
        "\n",
        "  if j>=2200 and j<3300:\n",
        "    chunki3.append(i)\n",
        "\n",
        "  if j>=3300 and j<4400:\n",
        "    chunki4.append(i)\n",
        "\n",
        "  if j>=4400 and j<5500:\n",
        "    chunki5.append(i)\n",
        "  j+=1\n",
        "\n",
        "\n"
      ],
      "metadata": {
        "id": "5i0XkQ9XCQVW"
      },
      "execution_count": null,
      "outputs": []
    },
    {
      "cell_type": "code",
      "source": [
        "# print(\"chunk1: \\n\", chunki1)\n",
        "print(\"chunk2: \\n\", chunki2)\n",
        "print(\"chunk3: \\n\", chunki3)\n",
        "print(\"chunk4: \\n\", chunki4)\n",
        "print(\"chunk5: \\n\", chunki5)"
      ],
      "metadata": {
        "id": "AqPO4bwOMynQ"
      },
      "execution_count": null,
      "outputs": []
    },
    {
      "cell_type": "code",
      "source": [
        "# now divide the data into content/fypdataset/images/training1, training2, training3, training4\n",
        "#newchunki1=[]\n",
        "newchunki2=[]\n",
        "newchunki3=[]\n",
        "newchunki4=[]\n",
        "newchunki5=[]\n",
        "\n",
        "# for i in chunki1:\n",
        "#   newchunki1.append(\"/content/fypdataset/images/training/\"+i)\n",
        "\n",
        "for i in chunki2:\n",
        "  newchunki2.append(\"/content/content/fypdataset/images/training/\"+i)\n",
        "\n",
        "for i in chunki3:\n",
        "  newchunki3.append(\"/content/content/fypdataset/images/training/\"+i)\n",
        "\n",
        "for i in chunki4:\n",
        "  newchunki4.append(\"/content/content/fypdataset/images/training/\"+i)\n",
        "\n",
        "for i in chunki5:\n",
        "  newchunki5.append(\"/content/content/fypdataset/images/training/\"+i)\n",
        "\n",
        "\n",
        "# moves_files_to_folder(newchunki1, \"/content/fypdataset/images/training1\")\n",
        "moves_files_to_folder(newchunki2, \"/content/content/fypdataset/images/training2\")\n",
        "moves_files_to_folder(newchunki3, \"/content/content/fypdataset/images/training3\")\n",
        "moves_files_to_folder(newchunki4, \"/content/content/fypdataset/images/training4\")\n",
        "moves_files_to_folder(newchunki5, \"/content/content/fypdataset/images/training5\")\n"
      ],
      "metadata": {
        "id": "Owd28_vbYH5M"
      },
      "execution_count": null,
      "outputs": []
    },
    {
      "cell_type": "code",
      "source": [
        "# for labels training data:\n",
        "\n",
        "\n",
        "#chunkl1=[]\n",
        "chunkl2=[]\n",
        "chunkl3=[]\n",
        "chunkl4=[]\n",
        "chunkl5=[]\n",
        "\n",
        "# for i in chunki1:\n",
        "#   base = os.path.splitext(i)[0]\n",
        "#   chunkl1.append(base+\".txt\")\n",
        "\n",
        "for i in chunki2:\n",
        "  base = os.path.splitext(i)[0]\n",
        "  chunkl2.append(base+\".txt\")\n",
        "\n",
        "for i in chunki3:\n",
        "  base = os.path.splitext(i)[0]\n",
        "  chunkl3.append(base+\".txt\")\n",
        "\n",
        "for i in chunki4:\n",
        "  base = os.path.splitext(i)[0]\n",
        "  chunkl4.append(base+\".txt\")\n",
        "\n",
        "for i in chunki5:\n",
        "  base = os.path.splitext(i)[0]\n",
        "  chunkl5.append(base+\".txt\")\n",
        "\n"
      ],
      "metadata": {
        "id": "FhFkVJqDCQe5"
      },
      "execution_count": null,
      "outputs": []
    },
    {
      "cell_type": "code",
      "source": [
        "#print(\"chunk1: \\n\", chunkl1)\n",
        "print(\"chunk2: \\n\", chunkl2)\n",
        "print(\"chunk3: \\n\", chunkl3)\n",
        "print(\"chunk4: \\n\", chunkl4)\n",
        "print(\"chunk5: \\n\", chunkl5)"
      ],
      "metadata": {
        "id": "jwsA0gTyMNNy",
        "colab": {
          "base_uri": "https://localhost:8080/"
        },
        "outputId": "f4fb5b8b-1bd6-4e05-ce19-fa952e75625d"
      },
      "execution_count": null,
      "outputs": [
        {
          "output_type": "stream",
          "name": "stdout",
          "text": [
            "chunk2: \n",
            " ['n02087394_3314.txt', 'n02116738_8738.txt', 'n02093256_5646.txt', 'n02088632_874.txt', 'n02089078_1681.txt', 'n02113023_436.txt', 'n02091831_12653.txt', 'n02089078_2957.txt', 'n02108089_959.txt', 'n02104029_3787.txt', 'n02104365_740.txt', 'n02107312_4996.txt', 'n02108000_1600.txt', 'n02088466_7178.txt', 'n02099712_4550.txt', 'n02113978_1823.txt', 'n02091032_11998.txt', 'n02108000_3002.txt', 'n02088632_4584.txt', 'n02109047_20229.txt', 'n02110806_757.txt', 'n02088466_7269.txt', 'n02106550_7767.txt', 'n02090379_1964.txt', 'n02115641_6183.txt', 'n02091032_4012.txt', 'n02088466_5784.txt', 'n02100236_1652.txt', 'n02093256_911.txt', 'n02091831_4259.txt', 'n02091134_2349.txt', 'n02099849_2646.txt', 'n02091244_5637.txt', 'n02089078_2025.txt', 'n02088466_1671.txt', 'n02099849_4413.txt', 'n02105412_2085.txt', 'n02107312_5665.txt', 'n02093256_6177.txt', 'n02088466_2934.txt', 'n02088364_4493.txt', 'n02113978_2337.txt', 'n02116738_3024.txt', 'n02106550_148.txt', 'n02104365_6575.txt', 'n02106550_10588.txt', 'n02090379_5466.txt', 'n02104365_8398.txt', 'n02088632_3828.txt', 'n02113186_10519.txt', 'n02105412_4669.txt', 'n02109525_370.txt', 'n02111129_2211.txt', 'n02113978_2727.txt', 'n02105162_8072.txt', 'n02113978_1349.txt', 'n02088364_10575.txt', 'n02089973_1490.txt', 'n02087046_3953.txt', 'n02111129_3799.txt', 'n02099712_6426.txt', 'n02100236_3283.txt', 'n02108000_827.txt', 'n02089973_2322.txt', 'n02089973_533.txt', 'n02088238_13683.txt', 'n02089078_3648.txt', 'n02105162_7621.txt', 'n02091831_1036.txt', 'n02091244_3552.txt', 'n02099601_6331.txt', 'n02091831_2995.txt', 'n02091244_2601.txt', 'n02099601_4651.txt', 'n02093256_1549.txt', 'n02113023_724.txt', 'n02101388_6282.txt', 'n02090379_3427.txt', 'n02111129_2235.txt', 'n02089973_97.txt', 'n02111129_4442.txt', 'n02088632_2661.txt', 'n02113023_4391.txt', 'n02110806_3781.txt', 'n02085620_9357.txt', 'n02115641_12148.txt', 'n02091831_573.txt', 'n02091134_18403.txt', 'n02088364_15690.txt', 'n02088364_6211.txt', 'n02113186_12499.txt', 'n02093256_5325.txt', 'n02089078_1825.txt', 'n02101388_5625.txt', 'n02099712_1383.txt', 'n02091134_11765.txt', 'n02089867_1345.txt', 'n02090379_3738.txt', 'n02108000_1874.txt', 'n02105162_5423.txt', 'n02093428_19906.txt', 'n02104029_3991.txt', 'n02116738_4834.txt', 'n02099601_5764.txt', 'n02107312_6029.txt', 'n02104029_4814.txt', 'n02107312_5385.txt', 'n02109961_1076.txt', 'n02105162_5417.txt', 'n02092339_289.txt', 'n02116738_385.txt', 'n02093428_11926.txt', 'n02093256_7075.txt', 'n02108089_11687.txt', 'n02116738_1627.txt', 'n02089973_3671.txt', 'n02087046_224.txt', 'n02087046_5838.txt', 'n02087046_3543.txt', 'n02115641_7013.txt', 'n02088632_2060.txt', 'n02091244_2760.txt', 'n02104029_1370.txt', 'n02101388_881.txt', 'n02088632_70.txt', 'n02115641_9455.txt', 'n02091831_8404.txt', 'n02100236_3313.txt', 'n02110806_749.txt', 'n02088632_2165.txt', 'n02093428_5662.txt', 'n02109525_10146.txt', 'n02113978_2798.txt', 'n02091831_12945.txt', 'n02099712_607.txt', 'n02105412_7026.txt', 'n02091134_4470.txt', 'n02116738_1739.txt', 'n02116738_7506.txt', 'n02104029_4463.txt', 'n02089973_140.txt', 'n02105162_688.txt', 'n02109047_13211.txt', 'n02088466_10408.txt', 'n02091831_3846.txt', 'n02111129_4677.txt', 'n02092339_6430.txt', 'n02091032_1248.txt', 'n02089867_347.txt', 'n02110806_4242.txt', 'n02093428_16245.txt', 'n02089867_1062.txt', 'n02087394_2972.txt', 'n02111129_1832.txt', 'n02116738_2600.txt', 'n02093256_2405.txt', 'n02088364_8477.txt', 'n02091244_3425.txt', 'n02090379_243.txt', 'n02099601_846.txt', 'n02091134_13743.txt', 'n02109525_15029.txt', 'n02092339_1509.txt', 'n02100236_2132.txt', 'n02091831_8160.txt', 'n02108089_1355.txt', 'n02111129_892.txt', 'n02116738_5932.txt', 'n02109961_4451.txt', 'n02101388_4002.txt', 'n02105412_216.txt', 'n02089078_3543.txt', 'n02089867_1079.txt', 'n02089867_2287.txt', 'n02110806_6282.txt', 'n02107312_4730.txt', 'n02108089_13340.txt', 'n02091831_627.txt', 'n02105412_676.txt', 'n02087046_6857.txt', 'n02110806_5343.txt', 'n02087046_1206.txt', 'n02115641_1940.txt', 'n02105412_1371.txt', 'n02089867_857.txt', 'n02108000_755.txt', 'n02111129_3541.txt', 'n02101388_4110.txt', 'n02108000_3682.txt', 'n02091134_2664.txt', 'n02110806_111.txt', 'n02105162_5800.txt', 'n02090379_5435.txt', 'n02113186_10944.txt', 'n02088632_2364.txt', 'n02087046_2199.txt', 'n02091244_448.txt', 'n02089078_1617.txt', 'n02113186_2211.txt', 'n02110806_3123.txt', 'n02091244_4986.txt', 'n02104029_4581.txt', 'n02108000_3171.txt', 'n02091032_358.txt', 'n02093428_9002.txt', 'n02089973_2397.txt', 'n02093428_5416.txt', 'n02091134_10219.txt', 'n02104365_8161.txt', 'n02088364_14702.txt', 'n02116738_9818.txt', 'n02089078_4312.txt', 'n02109525_13988.txt', 'n02108000_558.txt', 'n02104365_3649.txt', 'n02106550_12129.txt', 'n02108000_2212.txt', 'n02087046_8471.txt', 'n02109525_997.txt', 'n02089078_2794.txt', 'n02089867_3679.txt', 'n02115641_12922.txt', 'n02109525_12937.txt', 'n02109047_12899.txt', 'n02110806_3008.txt', 'n02113978_2276.txt', 'n02115641_9065.txt', 'n02110806_4297.txt', 'n02099712_6404.txt', 'n02088238_13036.txt', 'n02088466_9237.txt', 'n02100236_3798.txt', 'n02110806_1902.txt', 'n02113186_6300.txt', 'n02087394_310.txt', 'n02111129_1497.txt', 'n02089973_2045.txt', 'n02091831_1730.txt', 'n02108000_2635.txt', 'n02087394_7495.txt', 'n02091134_12318.txt', 'n02091032_4087.txt', 'n02116738_10469.txt', 'n02085620_9654.txt', 'n02092339_6794.txt', 'n02099712_7418.txt', 'n02109961_4157.txt', 'n02107312_5567.txt', 'n02088238_10028.txt', 'n02092339_3409.txt', 'n02089078_464.txt', 'n02109525_1864.txt', 'n02093256_2780.txt', 'n02113023_1912.txt', 'n02093428_3329.txt', 'n02091244_4015.txt', 'n02108089_14074.txt', 'n02111129_3828.txt', 'n02116738_5936.txt', 'n02091032_309.txt', 'n02091134_12017.txt', 'n02099712_6775.txt', 'n02109961_1032.txt', 'n02109961_2188.txt', 'n02089867_3726.txt', 'n02105162_6288.txt', 'n02104365_9131.txt', 'n02089867_348.txt', 'n02104029_1278.txt', 'n02089973_811.txt', 'n02088238_10451.txt', 'n02110806_4711.txt', 'n02105412_530.txt', 'n02088466_7607.txt', 'n02099849_2133.txt', 'n02085620_1502.txt', 'n02087046_2316.txt', 'n02091134_5047.txt', 'n02104365_1325.txt', 'n02092339_3345.txt', 'n02104365_465.txt', 'n02111129_2191.txt', 'n02113186_9063.txt', 'n02088466_10904.txt', 'n02099712_5689.txt', 'n02113023_2316.txt', 'n02108000_2027.txt', 'n02093256_1643.txt', 'n02105412_2915.txt', 'n02099712_3364.txt', 'n02091134_14209.txt', 'n02087394_11713.txt', 'n02109047_28433.txt', 'n02116738_219.txt', 'n02108089_7456.txt', 'n02091032_5975.txt', 'n02089973_1375.txt', 'n02089867_1824.txt', 'n02113023_4881.txt', 'n02105162_6578.txt', 'n02093256_2073.txt', 'n02089973_3433.txt', 'n02099601_5366.txt', 'n02099712_8051.txt', 'n02093428_592.txt', 'n02107312_6926.txt', 'n02093428_5814.txt', 'n02109525_13146.txt', 'n02107312_7128.txt', 'n02108000_995.txt', 'n02108000_2599.txt', 'n02101388_4556.txt', 'n02105162_10260.txt', 'n02093428_1070.txt', 'n02099849_2581.txt', 'n02099601_473.txt', 'n02087046_2279.txt', 'n02089867_1987.txt', 'n02085620_5927.txt', 'n02107312_2203.txt', 'n02091244_4268.txt', 'n02110806_2497.txt', 'n02104029_157.txt', 'n02104365_1837.txt', 'n02090379_223.txt', 'n02109047_26134.txt', 'n02110806_4994.txt', 'n02089867_1029.txt', 'n02107312_5798.txt', 'n02093256_13858.txt', 'n02091831_3310.txt', 'n02105412_123.txt', 'n02091831_151.txt', 'n02093428_1925.txt', 'n02087394_7143.txt', 'n02099712_8790.txt', 'n02088632_1209.txt', 'n02099601_5893.txt', 'n02088632_1765.txt', 'n02104365_9595.txt', 'n02089078_2921.txt', 'n02108089_522.txt', 'n02101388_5867.txt', 'n02092339_6548.txt', 'n02088466_6901.txt', 'n02115641_11220.txt', 'n02091244_5571.txt', 'n02109525_16485.txt', 'n02099849_4726.txt', 'n02093256_2416.txt', 'n02089867_2325.txt', 'n02089973_2943.txt', 'n02101388_2177.txt', 'n02087394_9313.txt', 'n02087394_7644.txt', 'n02110806_469.txt', 'n02099849_43.txt', 'n02089078_3191.txt', 'n02091831_843.txt', 'n02091244_1076.txt', 'n02088632_819.txt', 'n02091032_7200.txt', 'n02085620_3651.txt', 'n02108000_2457.txt', 'n02089867_126.txt', 'n02108000_1324.txt', 'n02101388_1242.txt', 'n02113023_3684.txt', 'n02104029_4666.txt', 'n02099849_4677.txt', 'n02087394_3256.txt', 'n02108089_13898.txt', 'n02088364_12178.txt', 'n02099849_264.txt', 'n02109047_5588.txt', 'n02085620_1346.txt', 'n02091134_10545.txt', 'n02091032_6587.txt', 'n02101388_1456.txt', 'n02105162_9995.txt', 'n02088238_11393.txt', 'n02091032_3213.txt', 'n02092339_1700.txt', 'n02089973_2211.txt', 'n02087394_10014.txt', 'n02091134_11956.txt', 'n02087394_9126.txt', 'n02091134_2235.txt', 'n02109961_2522.txt', 'n02099712_3829.txt', 'n02091244_61.txt', 'n02089078_3810.txt', 'n02109961_4952.txt', 'n02099601_3666.txt', 'n02105412_7843.txt', 'n02101388_1803.txt', 'n02109961_3817.txt', 'n02099849_4636.txt', 'n02088632_2253.txt', 'n02107312_4065.txt', 'n02109961_5080.txt', 'n02088466_10831.txt', 'n02091134_13356.txt', 'n02091032_5134.txt', 'n02099601_215.txt', 'n02099849_2130.txt', 'n02099712_9373.txt', 'n02116738_7122.txt', 'n02088364_12303.txt', 'n02089078_302.txt', 'n02116738_2435.txt', 'n02116738_2770.txt', 'n02092339_4650.txt', 'n02092339_3354.txt', 'n02110806_1845.txt', 'n02091134_7862.txt', 'n02100236_3934.txt', 'n02105162_7847.txt', 'n02093256_4090.txt', 'n02113023_1774.txt', 'n02099712_5769.txt', 'n02099601_8005.txt', 'n02087046_2969.txt', 'n02108000_2802.txt', 'n02113186_9024.txt', 'n02109961_5732.txt', 'n02091032_8855.txt', 'n02089973_2484.txt', 'n02113023_3687.txt', 'n02088364_2106.txt', 'n02092339_5137.txt', 'n02108089_1367.txt', 'n02093256_1757.txt', 'n02110806_3883.txt', 'n02099712_7414.txt', 'n02089973_1255.txt', 'n02093428_15784.txt', 'n02087394_9189.txt', 'n02109961_2492.txt', 'n02089867_3840.txt', 'n02109525_9130.txt', 'n02099601_7387.txt', 'n02089078_351.txt', 'n02089973_270.txt', 'n02110806_3638.txt', 'n02089078_682.txt', 'n02111129_4584.txt', 'n02091032_1564.txt', 'n02087394_7507.txt', 'n02091244_2038.txt', 'n02093256_6473.txt', 'n02088466_7963.txt', 'n02089867_614.txt', 'n02087046_5661.txt', 'n02106550_11097.txt', 'n02088238_12966.txt', 'n02116738_10895.txt', 'n02089078_2841.txt', 'n02088632_171.txt', 'n02111129_2700.txt', 'n02108000_1011.txt', 'n02104029_4277.txt', 'n02101388_3098.txt', 'n02113978_1317.txt', 'n02108089_770.txt', 'n02091244_4086.txt', 'n02088632_686.txt', 'n02113978_3843.txt', 'n02111129_3367.txt', 'n02108000_1246.txt', 'n02099601_6980.txt', 'n02109961_1949.txt', 'n02110806_3331.txt', 'n02092339_437.txt', 'n02115641_7898.txt', 'n02091831_509.txt', 'n02110806_5663.txt', 'n02088632_1831.txt', 'n02091134_16336.txt', 'n02091831_7846.txt', 'n02105162_5547.txt', 'n02092339_205.txt', 'n02091244_3075.txt', 'n02101388_3536.txt', 'n02109525_3346.txt', 'n02105412_652.txt', 'n02100236_4657.txt', 'n02088632_4160.txt', 'n02088364_8612.txt', 'n02088466_7344.txt', 'n02113023_4082.txt', 'n02088632_4360.txt', 'n02087046_3608.txt', 'n02108089_2608.txt', 'n02087046_2819.txt', 'n02093428_8744.txt', 'n02087394_1099.txt', 'n02106550_11415.txt', 'n02105412_6741.txt', 'n02093428_16887.txt', 'n02085620_3681.txt', 'n02091244_2653.txt', 'n02104029_247.txt', 'n02091831_5020.txt', 'n02109525_10374.txt', 'n02105412_1968.txt', 'n02108000_3576.txt', 'n02088364_4281.txt', 'n02091134_16201.txt', 'n02108000_2608.txt', 'n02106550_11002.txt', 'n02088466_9023.txt', 'n02109047_33651.txt', 'n02104029_1757.txt', 'n02116738_246.txt', 'n02099601_6194.txt', 'n02091831_410.txt', 'n02108000_487.txt', 'n02085620_5496.txt', 'n02116738_6754.txt', 'n02113186_6775.txt', 'n02099601_1768.txt', 'n02099849_3283.txt', 'n02087394_11174.txt', 'n02108089_5753.txt', 'n02090379_1821.txt', 'n02108089_10774.txt', 'n02089867_1381.txt', 'n02116738_6076.txt', 'n02088364_13682.txt', 'n02091134_4197.txt', 'n02093256_7577.txt', 'n02088364_14663.txt', 'n02093428_164.txt', 'n02085620_1620.txt', 'n02100236_965.txt', 'n02100236_817.txt', 'n02109961_6119.txt', 'n02099712_6664.txt', 'n02089973_1357.txt', 'n02099712_209.txt', 'n02091831_10576.txt', 'n02106550_3993.txt', 'n02087046_4856.txt', 'n02108000_2172.txt', 'n02085620_2650.txt', 'n02089078_314.txt', 'n02108089_13526.txt', 'n02105162_6236.txt', 'n02104029_903.txt', 'n02108000_41.txt', 'n02104029_1781.txt', 'n02088364_16060.txt', 'n02087394_681.txt', 'n02087046_7204.txt', 'n02089973_2331.txt', 'n02105162_6690.txt', 'n02088466_8233.txt', 'n02089973_556.txt', 'n02107312_5407.txt', 'n02111129_1153.txt', 'n02110806_4142.txt', 'n02100236_4084.txt', 'n02108000_3457.txt', 'n02089078_4362.txt', 'n02109525_17291.txt', 'n02110806_4291.txt', 'n02113023_3563.txt', 'n02105162_2223.txt', 'n02091032_1396.txt', 'n02087046_2276.txt', 'n02113023_1342.txt', 'n02109525_1314.txt', 'n02104029_3564.txt', 'n02099601_118.txt', 'n02099712_3776.txt', 'n02104029_1435.txt', 'n02092339_1013.txt', 'n02105412_7634.txt', 'n02088364_16065.txt', 'n02113186_748.txt', 'n02091032_10984.txt', 'n02100236_3095.txt', 'n02091244_743.txt', 'n02107312_6003.txt', 'n02091134_15865.txt', 'n02100236_5146.txt', 'n02109047_31274.txt', 'n02109047_2851.txt', 'n02110806_979.txt', 'n02091244_110.txt', 'n02104365_10319.txt', 'n02089078_3932.txt', 'n02088364_10947.txt', 'n02089078_1967.txt', 'n02105412_2183.txt', 'n02113186_4422.txt', 'n02108089_3547.txt', 'n02092339_2640.txt', 'n02091244_2742.txt', 'n02111129_2781.txt', 'n02104029_4696.txt', 'n02109961_2609.txt', 'n02093428_3305.txt', 'n02113186_10505.txt', 'n02091831_8401.txt', 'n02091134_2339.txt', 'n02100236_556.txt', 'n02089867_2221.txt', 'n02108089_3365.txt', 'n02099849_1657.txt', 'n02087394_7875.txt', 'n02092339_2510.txt', 'n02116738_7578.txt', 'n02111129_1799.txt', 'n02087394_1729.txt', 'n02099712_1987.txt', 'n02109047_1876.txt', 'n02099712_4354.txt', 'n02105412_2700.txt', 'n02093428_4619.txt', 'n02116738_10038.txt', 'n02109047_16735.txt', 'n02108000_2166.txt', 'n02108089_2106.txt', 'n02088238_3475.txt', 'n02091134_7661.txt', 'n02113978_2143.txt', 'n02091032_3277.txt', 'n02099712_1229.txt', 'n02087046_420.txt', 'n02091244_5638.txt', 'n02091244_2820.txt', 'n02088632_1367.txt', 'n02109525_7109.txt', 'n02091244_387.txt', 'n02087394_2364.txt', 'n02093428_4654.txt', 'n02093256_11806.txt', 'n02087394_9520.txt', 'n02091831_13566.txt', 'n02088238_9015.txt', 'n02113978_2286.txt', 'n02093256_1384.txt', 'n02091134_15210.txt', 'n02091134_3522.txt', 'n02106550_2323.txt', 'n02087394_2990.txt', 'n02109961_18381.txt', 'n02116738_607.txt', 'n02091032_9592.txt', 'n02113978_3670.txt', 'n02092339_1672.txt', 'n02093256_1132.txt', 'n02105412_3766.txt', 'n02113186_7215.txt', 'n02091032_1266.txt', 'n02091244_3800.txt', 'n02105162_4426.txt', 'n02089867_1368.txt', 'n02088632_28.txt', 'n02091831_7895.txt', 'n02109047_638.txt', 'n02088466_11936.txt', 'n02099849_2068.txt', 'n02087046_6324.txt', 'n02111129_4716.txt', 'n02108000_1533.txt', 'n02091032_7147.txt', 'n02089078_3914.txt', 'n02113978_356.txt', 'n02088364_14369.txt', 'n02105162_8896.txt', 'n02091134_10548.txt', 'n02088632_1274.txt', 'n02088364_16704.txt', 'n02091032_11088.txt', 'n02099849_4215.txt', 'n02087394_3795.txt', 'n02115641_4851.txt', 'n02087046_3311.txt', 'n02092339_7500.txt', 'n02093256_5808.txt', 'n02089078_222.txt', 'n02111129_2594.txt', 'n02091134_9793.txt', 'n02088466_2908.txt', 'n02099712_1436.txt', 'n02092339_3165.txt', 'n02108000_3291.txt', 'n02110806_3929.txt', 'n02109047_31049.txt', 'n02109961_12719.txt', 'n02087394_7544.txt', 'n02085620_2973.txt', 'n02116738_308.txt', 'n02093428_10929.txt', 'n02093428_16386.txt', 'n02088238_9626.txt', 'n02115641_6407.txt', 'n02108000_1291.txt', 'n02116738_4641.txt', 'n02113023_7038.txt', 'n02099601_6820.txt', 'n02089078_3340.txt', 'n02116738_4323.txt', 'n02093428_10896.txt', 'n02092339_1796.txt', 'n02106550_4987.txt', 'n02099849_953.txt', 'n02113023_16112.txt', 'n02108089_4076.txt', 'n02108089_7259.txt', 'n02088364_11930.txt', 'n02093428_2592.txt', 'n02108089_11807.txt', 'n02088632_140.txt', 'n02105412_146.txt', 'n02089973_2551.txt', 'n02090379_4324.txt', 'n02087394_7612.txt', 'n02089078_4140.txt', 'n02088364_8713.txt', 'n02109047_2810.txt', 'n02111129_638.txt', 'n02093256_13267.txt', 'n02089078_4186.txt', 'n02108000_877.txt', 'n02111129_1583.txt', 'n02113978_700.txt', 'n02109047_2358.txt', 'n02088466_8015.txt', 'n02113023_1144.txt', 'n02105162_7041.txt', 'n02113023_5774.txt', 'n02105162_10133.txt', 'n02109047_13868.txt', 'n02101388_348.txt', 'n02099601_7312.txt', 'n02089078_4466.txt', 'n02085620_3880.txt', 'n02087046_6812.txt', 'n02091032_9517.txt', 'n02115641_5320.txt', 'n02109047_13977.txt', 'n02093256_2513.txt', 'n02104365_6601.txt', 'n02108089_4681.txt', 'n02093256_14608.txt', 'n02108000_202.txt', 'n02088238_10358.txt', 'n02115641_630.txt', 'n02089973_319.txt', 'n02091244_3748.txt', 'n02111129_237.txt', 'n02092339_49.txt', 'n02099849_3016.txt', 'n02106550_208.txt', 'n02099601_8764.txt', 'n02109047_8139.txt', 'n02088466_7502.txt', 'n02091831_304.txt', 'n02101388_3357.txt', 'n02100236_3705.txt', 'n02093256_4452.txt', 'n02087394_7019.txt', 'n02111129_1014.txt', 'n02109961_2584.txt', 'n02093256_6821.txt', 'n02088632_4633.txt', 'n02107312_3020.txt', 'n02091134_14090.txt', 'n02088466_6972.txt', 'n02099712_221.txt', 'n02116738_9164.txt', 'n02113978_2145.txt', 'n02085620_6399.txt', 'n02110806_1019.txt', 'n02091032_1158.txt', 'n02087394_7254.txt', 'n02088364_2502.txt', 'n02104029_1138.txt', 'n02104365_8226.txt', 'n02108089_13738.txt', 'n02088364_17671.txt', 'n02110806_6156.txt', 'n02107312_5287.txt', 'n02088364_9650.txt', 'n02088238_6017.txt', 'n02091032_5904.txt', 'n02087394_6506.txt', 'n02093256_5733.txt', 'n02104029_3570.txt', 'n02104365_6199.txt', 'n02105162_4120.txt', 'n02091032_4731.txt', 'n02109525_13794.txt', 'n02108000_2573.txt', 'n02091244_3735.txt', 'n02115641_6627.txt', 'n02104365_3963.txt', 'n02109525_6663.txt', 'n02099849_1987.txt', 'n02109525_13780.txt', 'n02115641_10286.txt', 'n02087046_6211.txt', 'n02113023_11103.txt', 'n02107312_1154.txt', 'n02105162_9934.txt', 'n02104365_2031.txt', 'n02113023_4544.txt', 'n02085620_4515.txt', 'n02101388_3762.txt', 'n02089973_2476.txt', 'n02105412_7264.txt', 'n02089973_243.txt', 'n02089078_965.txt', 'n02099712_6248.txt', 'n02105162_5888.txt', 'n02090379_3844.txt', 'n02087394_8823.txt', 'n02088632_1108.txt', 'n02109961_5554.txt', 'n02110806_3981.txt', 'n02104365_6732.txt', 'n02099849_857.txt', 'n02111129_3499.txt', 'n02109047_14013.txt', 'n02104365_8525.txt', 'n02108089_10939.txt', 'n02099849_2416.txt', 'n02088466_7191.txt', 'n02100236_5597.txt', 'n02108089_10901.txt', 'n02113978_1030.txt', 'n02099849_3451.txt', 'n02099712_5648.txt', 'n02092339_4169.txt', 'n02116738_8696.txt', 'n02104365_7065.txt', 'n02089867_600.txt', 'n02089973_2150.txt', 'n02091244_5180.txt', 'n02089973_1458.txt', 'n02104365_10393.txt', 'n02113978_1956.txt', 'n02088364_11828.txt', 'n02107312_811.txt', 'n02088364_12154.txt', 'n02108000_2675.txt', 'n02091032_551.txt', 'n02089867_3524.txt', 'n02088238_11917.txt', 'n02109047_34148.txt', 'n02099601_7588.txt', 'n02101388_1517.txt', 'n02093428_2603.txt', 'n02110806_2208.txt', 'n02104029_690.txt', 'n02085620_3409.txt', 'n02089973_1066.txt', 'n02107312_4650.txt', 'n02085620_11140.txt', 'n02111129_4048.txt', 'n02108089_125.txt', 'n02113186_3857.txt', 'n02111129_5262.txt', 'n02090379_4138.txt', 'n02104365_5740.txt', 'n02106550_12160.txt', 'n02108000_2653.txt', 'n02099712_3273.txt', 'n02091244_1037.txt', 'n02109047_11178.txt', 'n02089973_3480.txt', 'n02085620_4919.txt', 'n02100236_1941.txt', 'n02099712_4133.txt', 'n02088364_11509.txt', 'n02107312_3864.txt', 'n02089973_4055.txt', 'n02116738_9232.txt', 'n02087394_138.txt', 'n02109961_17033.txt', 'n02087046_4129.txt', 'n02090379_2771.txt', 'n02113023_6312.txt', 'n02104365_1852.txt', 'n02115641_1380.txt', 'n02105162_7112.txt', 'n02113023_15144.txt', 'n02113023_6226.txt', 'n02111129_819.txt', 'n02116738_8749.txt', 'n02088238_13222.txt', 'n02087046_3211.txt', 'n02088364_2415.txt', 'n02088364_10731.txt', 'n02087394_3072.txt', 'n02089867_2735.txt', 'n02109525_1624.txt', 'n02108089_3400.txt', 'n02106550_4239.txt', 'n02100236_3714.txt', 'n02088466_3634.txt', 'n02104029_110.txt', 'n02104029_3166.txt', 'n02104029_3207.txt', 'n02104365_1841.txt', 'n02111129_3498.txt', 'n02116738_9333.txt', 'n02091831_3875.txt', 'n02091032_6728.txt', 'n02088466_11623.txt', 'n02088364_16210.txt', 'n02088632_2965.txt', 'n02087046_7469.txt', 'n02115641_4262.txt', 'n02091134_1131.txt', 'n02099849_4278.txt', 'n02106550_10714.txt', 'n02107312_759.txt', 'n02089973_3647.txt', 'n02106550_7393.txt', 'n02093256_2975.txt', 'n02089867_3253.txt', 'n02108089_5599.txt', 'n02109961_1767.txt', 'n02111129_1684.txt', 'n02110806_513.txt', 'n02091831_7051.txt', 'n02091244_2695.txt', 'n02089078_3078.txt', 'n02109961_4801.txt', 'n02106550_10048.txt', 'n02100236_3460.txt', 'n02088364_10206.txt', 'n02088364_8443.txt', 'n02113978_2938.txt', 'n02090379_4667.txt', 'n02104365_9489.txt', 'n02105412_511.txt', 'n02099712_3503.txt', 'n02087394_10588.txt', 'n02089973_612.txt', 'n02100236_5551.txt', 'n02108000_1832.txt', 'n02088364_15036.txt', 'n02109525_18948.txt', 'n02090379_4915.txt', 'n02087046_4235.txt', 'n02109525_14249.txt', 'n02111129_3675.txt', 'n02113978_605.txt', 'n02089973_99.txt', 'n02092339_2731.txt', 'n02100236_1448.txt', 'n02088632_1173.txt', 'n02093256_4874.txt', 'n02116738_7988.txt', 'n02101388_4628.txt', 'n02087394_8456.txt', 'n02093256_1183.txt', 'n02088364_4237.txt', 'n02091032_135.txt', 'n02106550_4138.txt', 'n02104029_4789.txt', 'n02088364_4070.txt', 'n02113023_1823.txt', 'n02109961_4369.txt', 'n02101388_4113.txt', 'n02093428_4939.txt', 'n02089078_1174.txt', 'n02111129_2301.txt', 'n02100236_453.txt', 'n02109525_10417.txt', 'n02109525_15376.txt', 'n02089078_19.txt', 'n02104365_482.txt', 'n02109525_12875.txt', 'n02085620_4159.txt', 'n02099601_2688.txt', 'n02091134_7794.txt', 'n02087394_10939.txt', 'n02089867_3456.txt', 'n02088466_7973.txt', 'n02091244_2062.txt', 'n02099849_415.txt', 'n02088364_4823.txt', 'n02099849_3718.txt', 'n02108000_3113.txt', 'n02090379_4918.txt', 'n02110806_2157.txt', 'n02091831_11224.txt', 'n02088632_1277.txt', 'n02088364_17314.txt', 'n02105162_2942.txt', 'n02091134_12476.txt', 'n02109525_14999.txt', 'n02091244_2323.txt', 'n02109047_34093.txt', 'n02115641_12544.txt', 'n02113023_7254.txt', 'n02116738_6044.txt', 'n02087046_3490.txt', 'n02085620_3033.txt', 'n02089078_237.txt', 'n02100236_485.txt', 'n02092339_6114.txt', 'n02105412_1530.txt', 'n02109961_20013.txt', 'n02088238_9162.txt', 'n02089867_3892.txt', 'n02108089_3669.txt', 'n02104029_1988.txt', 'n02101388_9801.txt', 'n02099712_365.txt', 'n02088364_13484.txt', 'n02099712_7664.txt', 'n02090379_4388.txt', 'n02089078_2333.txt', 'n02088632_2709.txt', 'n02105412_1106.txt', 'n02093428_12791.txt', 'n02107312_5281.txt', 'n02108000_31.txt', 'n02087394_9678.txt', 'n02104029_1214.txt', 'n02100236_4783.txt', 'n02106550_12073.txt', 'n02105412_1211.txt', 'n02105162_10640.txt', 'n02087046_2957.txt', 'n02091032_708.txt', 'n02091032_102.txt', 'n02091244_497.txt', 'n02108000_1111.txt', 'n02109047_2072.txt', 'n02088238_7232.txt', 'n02089973_843.txt', 'n02105162_4056.txt', 'n02091134_732.txt', 'n02109961_2675.txt', 'n02099601_6867.txt', 'n02091244_5895.txt', 'n02113186_3178.txt', 'n02105162_6314.txt', 'n02088238_9585.txt', 'n02116738_8512.txt', 'n02109525_3506.txt', 'n02109961_1328.txt', 'n02085620_949.txt', 'n02113023_14262.txt', 'n02099849_1349.txt', 'n02087394_7579.txt', 'n02091134_14828.txt', 'n02110806_3415.txt', 'n02087046_6003.txt', 'n02088364_10798.txt', 'n02088364_12397.txt', 'n02093256_3877.txt', 'n02093256_1923.txt', 'n02088364_17473.txt', 'n02105162_5706.txt', 'n02089867_1786.txt', 'n02109525_1502.txt', 'n02091032_9628.txt', 'n02109525_9379.txt', 'n02113023_2971.txt', 'n02108089_2815.txt', 'n02090379_4271.txt', 'n02108000_3306.txt', 'n02109047_34022.txt', 'n02108089_11032.txt', 'n02116738_233.txt', 'n02092339_392.txt', 'n02089867_880.txt', 'n02089078_3134.txt', 'n02111129_1383.txt', 'n02089078_2829.txt', 'n02109525_9345.txt', 'n02087046_4370.txt', 'n02110806_4198.txt', 'n02100236_2854.txt', 'n02099601_3494.txt', 'n02090379_4718.txt', 'n02091831_1495.txt', 'n02109525_1843.txt', 'n02092339_7596.txt', 'n02091134_4784.txt', 'n02108089_2740.txt', 'n02087394_3450.txt', 'n02110806_5660.txt', 'n02085620_4016.txt', 'n02087394_6884.txt', 'n02113023_1976.txt', 'n02099601_7771.txt', 'n02087394_3673.txt', 'n02089078_2294.txt', 'n02090379_859.txt']\n",
            "chunk3: \n",
            " ['n02110806_4122.txt', 'n02109047_13016.txt', 'n02105412_7533.txt', 'n02088238_9372.txt', 'n02104029_31.txt', 'n02115641_13253.txt', 'n02088238_9595.txt', 'n02106550_11564.txt', 'n02113023_231.txt', 'n02091831_956.txt', 'n02105412_5282.txt', 'n02110806_4876.txt', 'n02090379_601.txt', 'n02087046_3724.txt', 'n02093428_9346.txt', 'n02115641_7620.txt', 'n02091831_256.txt', 'n02108089_149.txt', 'n02116738_3635.txt', 'n02088632_744.txt', 'n02091831_1563.txt', 'n02099712_2938.txt', 'n02104029_1709.txt', 'n02087394_7418.txt', 'n02105162_5802.txt', 'n02105162_2093.txt', 'n02091244_6041.txt', 'n02099601_447.txt', 'n02091134_16420.txt', 'n02108089_995.txt', 'n02108000_1798.txt', 'n02091134_10521.txt', 'n02088632_419.txt', 'n02088632_725.txt', 'n02088632_4052.txt', 'n02110806_1639.txt', 'n02099712_7802.txt', 'n02113186_10891.txt', 'n02109525_444.txt', 'n02089867_3023.txt', 'n02090379_3291.txt', 'n02107312_1233.txt', 'n02085620_3045.txt', 'n02111129_188.txt', 'n02109525_6019.txt', 'n02099849_3207.txt', 'n02099712_4677.txt', 'n02109047_6042.txt', 'n02087394_760.txt', 'n02109047_12916.txt', 'n02099849_130.txt', 'n02113978_3504.txt', 'n02109525_10792.txt', 'n02089867_2039.txt', 'n02091032_5.txt', 'n02116738_5953.txt', 'n02105412_7370.txt', 'n02099712_384.txt', 'n02091831_13774.txt', 'n02085620_1152.txt', 'n02109961_3159.txt', 'n02088364_852.txt', 'n02115641_7222.txt', 'n02087394_3311.txt', 'n02109047_2009.txt', 'n02087046_4455.txt', 'n02091134_16541.txt', 'n02113186_11220.txt', 'n02087046_2744.txt', 'n02106550_4339.txt', 'n02109525_1880.txt', 'n02107312_1207.txt', 'n02101388_4038.txt', 'n02089973_3037.txt', 'n02099712_3301.txt', 'n02099849_1830.txt', 'n02099601_8429.txt', 'n02088466_9576.txt', 'n02113978_3804.txt', 'n02109047_744.txt', 'n02088238_11511.txt', 'n02115641_6250.txt', 'n02088466_8335.txt', 'n02088632_679.txt', 'n02111129_3966.txt', 'n02101388_758.txt', 'n02099601_3569.txt', 'n02101388_192.txt', 'n02093256_6028.txt', 'n02111129_4435.txt', 'n02099712_4428.txt', 'n02091134_39.txt', 'n02101388_4875.txt', 'n02108089_1511.txt', 'n02108000_3497.txt', 'n02109047_6008.txt', 'n02104029_4002.txt', 'n02090379_3320.txt', 'n02113023_631.txt', 'n02107312_6706.txt', 'n02093256_2987.txt', 'n02091032_1518.txt', 'n02091244_4885.txt', 'n02105412_1757.txt', 'n02116738_10640.txt', 'n02091032_4004.txt', 'n02113978_3746.txt', 'n02093256_6397.txt', 'n02104029_593.txt', 'n02111129_990.txt', 'n02109961_1251.txt', 'n02089973_1260.txt', 'n02087394_3048.txt', 'n02105412_4932.txt', 'n02109525_16981.txt', 'n02104029_1713.txt', 'n02089867_2267.txt', 'n02091134_18590.txt', 'n02113023_11091.txt', 'n02113023_1571.txt', 'n02115641_5687.txt', 'n02113978_2979.txt', 'n02113978_1954.txt', 'n02088238_12563.txt', 'n02104029_1510.txt', 'n02088466_9029.txt', 'n02105412_327.txt', 'n02099712_129.txt', 'n02088466_10331.txt', 'n02105412_2589.txt', 'n02105412_2320.txt', 'n02113978_3092.txt', 'n02105162_7881.txt', 'n02109525_14198.txt', 'n02107312_6580.txt', 'n02088466_6413.txt', 'n02091831_961.txt', 'n02107312_3888.txt', 'n02107312_2958.txt', 'n02116738_3720.txt', 'n02105162_2830.txt', 'n02108000_2464.txt', 'n02104365_675.txt', 'n02108000_3027.txt', 'n02116738_3692.txt', 'n02115641_2788.txt', 'n02088364_13464.txt', 'n02100236_5505.txt', 'n02091244_1690.txt', 'n02088364_17474.txt', 'n02091244_3289.txt', 'n02110806_4307.txt', 'n02109961_2317.txt', 'n02107312_6487.txt', 'n02109047_941.txt', 'n02113023_4128.txt', 'n02087046_5499.txt', 'n02109047_7072.txt', 'n02105412_251.txt', 'n02111129_976.txt', 'n02104029_4059.txt', 'n02090379_4611.txt', 'n02088238_7233.txt', 'n02099601_5452.txt', 'n02088238_9717.txt', 'n02087394_1964.txt', 'n02091134_6616.txt', 'n02091032_652.txt', 'n02113023_9839.txt', 'n02099849_2944.txt', 'n02085620_3423.txt', 'n02090379_4146.txt', 'n02113978_2128.txt', 'n02109525_1480.txt', 'n02113978_3823.txt', 'n02091134_10395.txt', 'n02099601_3202.txt', 'n02089078_2232.txt', 'n02099712_2118.txt', 'n02105162_2836.txt', 'n02107312_4355.txt', 'n02085620_7.txt', 'n02116738_2329.txt', 'n02108089_8969.txt', 'n02087046_309.txt', 'n02113023_1307.txt', 'n02091244_569.txt', 'n02105162_9969.txt', 'n02092339_3837.txt', 'n02093428_12887.txt', 'n02091134_7375.txt', 'n02105162_7213.txt', 'n02105412_2803.txt', 'n02085620_8491.txt', 'n02091831_2962.txt', 'n02089867_2596.txt', 'n02105162_5330.txt', 'n02101388_3927.txt', 'n02104029_3505.txt', 'n02091831_4463.txt', 'n02108000_2110.txt', 'n02099712_3868.txt', 'n02099601_6772.txt', 'n02085620_14516.txt', 'n02115641_9302.txt', 'n02111129_4850.txt', 'n02113023_6140.txt', 'n02116738_2514.txt', 'n02113978_183.txt', 'n02109961_5684.txt', 'n02109525_7016.txt', 'n02088632_1745.txt', 'n02104365_5411.txt', 'n02104029_1791.txt', 'n02115641_925.txt', 'n02104365_3950.txt', 'n02100236_2003.txt', 'n02099849_727.txt', 'n02087394_9695.txt', 'n02116738_5993.txt', 'n02105412_6169.txt', 'n02087046_406.txt', 'n02104029_2323.txt', 'n02109961_8835.txt', 'n02110806_3956.txt', 'n02113186_11400.txt', 'n02104029_4513.txt', 'n02089867_3177.txt', 'n02109047_6061.txt', 'n02091032_10079.txt', 'n02092339_6212.txt', 'n02088466_6712.txt', 'n02109047_9396.txt', 'n02089973_1106.txt', 'n02088466_8320.txt', 'n02089973_2415.txt', 'n02091831_3334.txt', 'n02088238_4182.txt', 'n02099849_2020.txt', 'n02092339_31.txt', 'n02111129_2119.txt', 'n02107312_2948.txt', 'n02108000_1885.txt', 'n02088364_15093.txt', 'n02113186_11371.txt', 'n02113186_7220.txt', 'n02091831_3339.txt', 'n02108000_2303.txt', 'n02101388_2862.txt', 'n02099601_2994.txt', 'n02088238_10473.txt', 'n02111129_1591.txt', 'n02099849_3736.txt', 'n02109047_3643.txt', 'n02093256_5711.txt', 'n02109525_10545.txt', 'n02106550_4920.txt', 'n02099712_2224.txt', 'n02116738_4382.txt', 'n02088466_6096.txt', 'n02091134_917.txt', 'n02088364_15305.txt', 'n02110806_2860.txt', 'n02111129_1042.txt', 'n02108089_11154.txt', 'n02089867_1295.txt', 'n02107312_6650.txt', 'n02093256_3582.txt', 'n02106550_7003.txt', 'n02113186_5841.txt', 'n02087394_11442.txt', 'n02108089_3412.txt', 'n02099849_3326.txt', 'n02088364_16695.txt', 'n02099849_3810.txt', 'n02099712_7533.txt', 'n02109047_5675.txt', 'n02113023_4080.txt', 'n02091244_283.txt', 'n02113186_377.txt', 'n02091134_16904.txt', 'n02099712_8719.txt', 'n02110806_6380.txt', 'n02100236_1553.txt', 'n02109047_22955.txt', 'n02089078_183.txt', 'n02108089_2741.txt', 'n02087046_3462.txt', 'n02093428_995.txt', 'n02099712_2120.txt', 'n02106550_13226.txt', 'n02085620_1455.txt', 'n02087046_1004.txt', 'n02088364_12756.txt', 'n02088238_9529.txt', 'n02088238_6708.txt', 'n02111129_4878.txt', 'n02091244_430.txt', 'n02100236_5698.txt', 'n02089973_1890.txt', 'n02113186_4976.txt', 'n02087394_7777.txt', 'n02089867_2295.txt', 'n02109961_2832.txt', 'n02093256_1939.txt', 'n02099849_1310.txt', 'n02089867_31.txt', 'n02093256_3799.txt', 'n02110806_4058.txt', 'n02105162_7593.txt', 'n02091032_7838.txt', 'n02099849_2836.txt', 'n02091831_699.txt', 'n02088632_2736.txt', 'n02085620_588.txt', 'n02116738_4991.txt', 'n02105162_5661.txt', 'n02113023_6567.txt', 'n02089973_263.txt', 'n02110806_3751.txt', 'n02085620_5312.txt', 'n02089078_3923.txt', 'n02099601_6099.txt', 'n02113978_2572.txt', 'n02108089_200.txt', 'n02088238_657.txt', 'n02108089_6295.txt', 'n02091032_490.txt', 'n02109047_22481.txt', 'n02113978_272.txt', 'n02088632_1312.txt', 'n02108000_1512.txt', 'n02091831_1182.txt', 'n02109961_3217.txt', 'n02091831_3067.txt', 'n02100236_4235.txt', 'n02099601_5679.txt', 'n02088364_13050.txt', 'n02088466_6532.txt', 'n02116738_9829.txt', 'n02088632_1636.txt', 'n02089078_877.txt', 'n02116738_5312.txt', 'n02089867_1931.txt', 'n02115641_4265.txt', 'n02091134_7232.txt', 'n02093256_225.txt', 'n02085620_2706.txt', 'n02109047_4267.txt', 'n02113023_9397.txt', 'n02108089_2526.txt', 'n02104029_4473.txt', 'n02113978_3134.txt', 'n02108089_931.txt', 'n02089867_1105.txt', 'n02099849_1472.txt', 'n02108000_1112.txt', 'n02107312_957.txt', 'n02105162_5757.txt', 'n02113023_1257.txt', 'n02091032_1389.txt', 'n02092339_7499.txt', 'n02100236_3632.txt', 'n02116738_3160.txt', 'n02111129_754.txt', 'n02088238_12196.txt', 'n02101388_10502.txt', 'n02113186_6058.txt', 'n02104029_413.txt', 'n02089973_2681.txt', 'n02101388_1050.txt', 'n02107312_867.txt', 'n02091032_4970.txt', 'n02088466_8184.txt', 'n02087046_4402.txt', 'n02108089_922.txt', 'n02113978_3056.txt', 'n02091032_8411.txt', 'n02089973_3982.txt', 'n02109961_5597.txt', 'n02099849_4406.txt', 'n02108089_540.txt', 'n02109525_7656.txt', 'n02088238_600.txt', 'n02091134_14567.txt', 'n02116738_1591.txt', 'n02108000_1339.txt', 'n02099849_2315.txt', 'n02088466_8831.txt', 'n02091244_2747.txt', 'n02113023_4310.txt', 'n02115641_13269.txt', 'n02099849_1024.txt', 'n02088466_2030.txt', 'n02104029_4534.txt', 'n02093428_2576.txt', 'n02113978_1238.txt', 'n02113023_1373.txt', 'n02091831_7287.txt', 'n02085620_575.txt', 'n02099712_5021.txt', 'n02089867_1764.txt', 'n02109961_2727.txt', 'n02093256_14522.txt', 'n02093256_5734.txt', 'n02091244_5982.txt', 'n02105412_8166.txt', 'n02115641_7071.txt', 'n02099712_7605.txt', 'n02099712_980.txt', 'n02087046_7293.txt', 'n02108089_6583.txt', 'n02089973_2073.txt', 'n02085620_3928.txt', 'n02093256_6077.txt', 'n02105412_4948.txt', 'n02100236_250.txt', 'n02109961_467.txt', 'n02089078_2270.txt', 'n02116738_7657.txt', 'n02110806_4199.txt', 'n02110806_4055.txt', 'n02113978_2446.txt', 'n02089078_52.txt', 'n02108089_11122.txt', 'n02107312_3673.txt', 'n02104029_2769.txt', 'n02089973_2068.txt', 'n02087394_7913.txt', 'n02091134_392.txt', 'n02101388_7835.txt', 'n02110806_3702.txt', 'n02113978_1773.txt', 'n02113186_10416.txt', 'n02088466_6623.txt', 'n02091244_2407.txt', 'n02087394_11718.txt', 'n02109525_13804.txt', 'n02091831_12881.txt', 'n02092339_4208.txt', 'n02092339_3979.txt', 'n02088364_876.txt', 'n02099712_2234.txt', 'n02091134_17638.txt', 'n02088364_4527.txt', 'n02091831_10733.txt', 'n02107312_5862.txt', 'n02111129_650.txt', 'n02087046_1386.txt', 'n02088364_5826.txt', 'n02092339_7959.txt', 'n02113978_216.txt', 'n02099601_3508.txt', 'n02106550_12828.txt', 'n02090379_4754.txt', 'n02113186_4924.txt', 'n02110806_2716.txt', 'n02099849_435.txt', 'n02087394_9973.txt', 'n02089078_2934.txt', 'n02115641_7237.txt', 'n02104365_9337.txt', 'n02111129_4400.txt', 'n02111129_646.txt', 'n02116738_2139.txt', 'n02093428_5750.txt', 'n02087046_4001.txt', 'n02109047_1449.txt', 'n02105162_6377.txt', 'n02099712_2228.txt', 'n02113186_4628.txt', 'n02113186_11014.txt', 'n02093256_3994.txt', 'n02091244_3346.txt', 'n02108000_1891.txt', 'n02093428_11.txt', 'n02105412_730.txt', 'n02091032_10644.txt', 'n02109047_8090.txt', 'n02092339_669.txt', 'n02089078_663.txt', 'n02093256_3762.txt', 'n02107312_3227.txt', 'n02105162_1572.txt', 'n02089078_2110.txt', 'n02089867_3260.txt', 'n02099712_7815.txt', 'n02092339_120.txt', 'n02107312_6683.txt', 'n02091134_7145.txt', 'n02111129_1656.txt', 'n02113978_3921.txt', 'n02113023_2842.txt', 'n02093428_3657.txt', 'n02109961_546.txt', 'n02101388_3673.txt', 'n02108000_316.txt', 'n02093428_416.txt', 'n02115641_8168.txt', 'n02088238_9419.txt', 'n02088238_11339.txt', 'n02108000_3424.txt', 'n02109525_1717.txt', 'n02090379_3734.txt', 'n02113978_147.txt', 'n02109047_11184.txt', 'n02092339_6678.txt', 'n02116738_7753.txt', 'n02099849_2648.txt', 'n02091134_755.txt', 'n02088238_3579.txt', 'n02099849_3220.txt', 'n02111129_1965.txt', 'n02109961_4689.txt', 'n02108000_3205.txt', 'n02088238_9933.txt', 'n02085620_4266.txt', 'n02107312_3823.txt', 'n02099712_7683.txt', 'n02087394_3015.txt', 'n02113978_1632.txt', 'n02104365_7768.txt', 'n02104365_427.txt', 'n02104029_4340.txt', 'n02092339_93.txt', 'n02099601_3853.txt', 'n02105162_10375.txt', 'n02087394_8716.txt', 'n02091134_19129.txt', 'n02093256_2353.txt', 'n02091032_7922.txt', 'n02088632_2239.txt', 'n02105412_6154.txt', 'n02113186_10077.txt', 'n02099712_6586.txt', 'n02101388_4131.txt', 'n02091831_5216.txt', 'n02113023_3022.txt', 'n02104365_9873.txt', 'n02091032_1894.txt', 'n02109961_3956.txt', 'n02087394_1706.txt', 'n02106550_6965.txt', 'n02093428_3269.txt', 'n02092339_5978.txt', 'n02110806_2421.txt', 'n02111129_2476.txt', 'n02087394_8044.txt', 'n02091134_969.txt', 'n02115641_136.txt', 'n02109525_16346.txt', 'n02109525_13230.txt', 'n02088364_5784.txt', 'n02091134_16337.txt', 'n02091831_1439.txt', 'n02109047_21903.txt', 'n02091244_4242.txt', 'n02113978_1006.txt', 'n02087394_2427.txt', 'n02091134_15846.txt', 'n02091134_12142.txt', 'n02110806_4966.txt', 'n02110806_1841.txt', 'n02115641_10604.txt', 'n02101388_2888.txt', 'n02115641_1574.txt', 'n02107312_33.txt', 'n02116738_124.txt', 'n02093256_5654.txt', 'n02091032_5638.txt', 'n02113186_13333.txt', 'n02110806_1485.txt', 'n02113023_6962.txt', 'n02104365_330.txt', 'n02115641_2096.txt', 'n02108089_268.txt', 'n02109525_368.txt', 'n02113186_10816.txt', 'n02113186_1612.txt', 'n02109961_6020.txt', 'n02099712_1930.txt', 'n02087394_10418.txt', 'n02089867_4004.txt', 'n02089078_695.txt', 'n02088632_260.txt', 'n02109047_2527.txt', 'n02116738_7590.txt', 'n02105162_4719.txt', 'n02113186_3457.txt', 'n02105162_6459.txt', 'n02092339_284.txt', 'n02093428_19907.txt', 'n02089078_4441.txt', 'n02091831_3242.txt', 'n02092339_4410.txt', 'n02108089_5301.txt', 'n02111129_1178.txt', 'n02091032_5431.txt', 'n02088632_4144.txt', 'n02088466_7244.txt', 'n02091134_15398.txt', 'n02085620_3208.txt', 'n02105162_7751.txt', 'n02089078_1951.txt', 'n02093428_1278.txt', 'n02091134_18472.txt', 'n02091032_5678.txt', 'n02104029_4679.txt', 'n02085620_11238.txt', 'n02106550_1974.txt', 'n02092339_2273.txt', 'n02104365_10282.txt', 'n02109961_4670.txt', 'n02100236_2824.txt', 'n02087394_10238.txt', 'n02113023_3885.txt', 'n02101388_3036.txt', 'n02110806_2100.txt', 'n02085620_3875.txt', 'n02113978_838.txt', 'n02106550_6074.txt', 'n02088238_2822.txt', 'n02109047_926.txt', 'n02091032_1574.txt', 'n02108000_599.txt', 'n02093428_5326.txt', 'n02093256_4888.txt', 'n02088364_10362.txt', 'n02088364_6089.txt', 'n02088238_10592.txt', 'n02099712_5261.txt', 'n02105162_2079.txt', 'n02113023_1198.txt', 'n02109961_7781.txt', 'n02108089_14112.txt', 'n02113186_6499.txt', 'n02109525_15506.txt', 'n02089973_1701.txt', 'n02104029_1599.txt', 'n02107312_281.txt', 'n02092339_8029.txt', 'n02093428_3587.txt', 'n02108000_1343.txt', 'n02104365_1822.txt', 'n02109525_16100.txt', 'n02092339_5313.txt', 'n02100236_5201.txt', 'n02105412_3329.txt', 'n02089867_1412.txt', 'n02113978_2073.txt', 'n02113186_9935.txt', 'n02088466_8950.txt', 'n02115641_7158.txt', 'n02107312_854.txt', 'n02106550_11465.txt', 'n02105412_4778.txt', 'n02087394_6863.txt', 'n02087046_296.txt', 'n02091134_18824.txt', 'n02108000_933.txt', 'n02093428_5415.txt', 'n02099849_3196.txt', 'n02089973_1516.txt', 'n02088632_4305.txt', 'n02088238_10113.txt', 'n02088364_5123.txt', 'n02087394_7186.txt', 'n02087394_5578.txt', 'n02108000_972.txt', 'n02089867_2280.txt', 'n02109047_12678.txt', 'n02091831_9263.txt', 'n02088238_10741.txt', 'n02099849_338.txt', 'n02088364_10354.txt', 'n02085620_2887.txt', 'n02090379_709.txt', 'n02108089_395.txt', 'n02099849_696.txt', 'n02110806_2551.txt', 'n02088238_10013.txt', 'n02106550_4910.txt', 'n02091134_9398.txt', 'n02089867_2653.txt', 'n02107312_1724.txt', 'n02101388_4358.txt', 'n02088238_11849.txt', 'n02099601_831.txt', 'n02088238_9789.txt', 'n02091134_20065.txt', 'n02088632_4250.txt', 'n02108000_1256.txt', 'n02088632_403.txt', 'n02091134_18435.txt', 'n02108089_13839.txt', 'n02111129_1215.txt', 'n02106550_4150.txt', 'n02088466_9058.txt', 'n02113186_225.txt', 'n02104365_481.txt', 'n02088238_9635.txt', 'n02109525_11444.txt', 'n02099601_5051.txt', 'n02106550_6900.txt', 'n02107312_1885.txt', 'n02093256_3353.txt', 'n02090379_4609.txt', 'n02089973_1841.txt', 'n02113023_1151.txt', 'n02089867_743.txt', 'n02085620_2693.txt', 'n02113186_2911.txt', 'n02113023_2482.txt', 'n02106550_8652.txt', 'n02093428_1746.txt', 'n02090379_2114.txt', 'n02093428_2645.txt', 'n02093428_3380.txt', 'n02104029_3493.txt', 'n02092339_431.txt', 'n02087046_6443.txt', 'n02088238_9577.txt', 'n02087046_2058.txt', 'n02088632_291.txt', 'n02088364_7247.txt', 'n02099601_4843.txt', 'n02099849_3897.txt', 'n02101388_6057.txt', 'n02107312_7725.txt', 'n02101388_9968.txt', 'n02091134_19166.txt', 'n02116738_634.txt', 'n02085620_952.txt', 'n02106550_4962.txt', 'n02091831_3675.txt', 'n02111129_2400.txt', 'n02113023_8891.txt', 'n02105162_854.txt', 'n02099849_3789.txt', 'n02088364_769.txt', 'n02116738_288.txt', 'n02116738_10476.txt', 'n02091032_570.txt', 'n02089078_256.txt', 'n02107312_3592.txt', 'n02101388_2171.txt', 'n02109961_658.txt', 'n02109047_2475.txt', 'n02085620_7440.txt', 'n02106550_2301.txt', 'n02100236_1272.txt', 'n02087046_4808.txt', 'n02108000_1044.txt', 'n02113023_5362.txt', 'n02109525_15746.txt', 'n02091032_774.txt', 'n02089867_655.txt', 'n02104365_2978.txt', 'n02113186_8794.txt', 'n02101388_96.txt', 'n02108000_3299.txt', 'n02105162_575.txt', 'n02110806_1359.txt', 'n02105162_7376.txt', 'n02092339_7792.txt', 'n02108000_522.txt', 'n02108000_811.txt', 'n02101388_746.txt', 'n02087394_2319.txt', 'n02111129_774.txt', 'n02093256_6158.txt', 'n02111129_2359.txt', 'n02088632_4332.txt', 'n02091831_4980.txt', 'n02099601_5544.txt', 'n02091244_4914.txt', 'n02109525_12272.txt', 'n02111129_3884.txt', 'n02088632_3912.txt', 'n02090379_2126.txt', 'n02087046_7245.txt', 'n02106550_12424.txt', 'n02090379_3011.txt', 'n02104029_3769.txt', 'n02093256_7830.txt', 'n02111129_4017.txt', 'n02113023_6548.txt', 'n02088466_3032.txt', 'n02109047_21589.txt', 'n02088632_4687.txt', 'n02111129_4467.txt', 'n02104365_7629.txt', 'n02104029_1396.txt', 'n02085620_4875.txt', 'n02091831_1118.txt', 'n02090379_1414.txt', 'n02105162_8950.txt', 'n02099712_475.txt', 'n02109961_20002.txt', 'n02092339_4271.txt', 'n02091134_15038.txt', 'n02113186_4563.txt', 'n02089078_404.txt', 'n02104029_3353.txt', 'n02110806_3093.txt', 'n02089078_3051.txt', 'n02088364_3758.txt', 'n02088466_1262.txt', 'n02116738_10169.txt', 'n02089867_2472.txt', 'n02100236_4379.txt', 'n02091032_6179.txt', 'n02085620_7292.txt', 'n02088364_6109.txt', 'n02091032_11812.txt', 'n02087394_1925.txt', 'n02089973_186.txt', 'n02109047_17050.txt', 'n02092339_2695.txt', 'n02109961_5757.txt', 'n02085620_2204.txt', 'n02088238_10142.txt', 'n02115641_6772.txt', 'n02111129_4135.txt', 'n02089078_1151.txt', 'n02089867_1048.txt', 'n02101388_1842.txt', 'n02092339_174.txt', 'n02116738_9798.txt', 'n02111129_367.txt', 'n02091134_9433.txt', 'n02108000_143.txt', 'n02105162_6501.txt', 'n02091134_18905.txt', 'n02109525_823.txt', 'n02115641_13237.txt', 'n02087394_8935.txt', 'n02088632_864.txt', 'n02109047_26860.txt', 'n02110806_4395.txt', 'n02113978_2606.txt', 'n02093256_5439.txt', 'n02088238_10245.txt', 'n02091244_1714.txt', 'n02091244_5038.txt', 'n02091831_8633.txt', 'n02109525_2035.txt', 'n02113978_857.txt', 'n02085620_11818.txt', 'n02107312_3667.txt', 'n02116738_10215.txt', 'n02108000_1274.txt', 'n02099712_3769.txt', 'n02109961_19358.txt', 'n02110806_4218.txt', 'n02104365_2092.txt', 'n02099601_286.txt', 'n02106550_2197.txt', 'n02107312_3071.txt', 'n02109047_7156.txt', 'n02090379_4973.txt', 'n02087394_11139.txt', 'n02115641_12541.txt', 'n02107312_6598.txt', 'n02100236_5961.txt', 'n02108000_2878.txt', 'n02107312_6823.txt', 'n02087046_6370.txt', 'n02091831_4755.txt', 'n02101388_2064.txt', 'n02088364_6866.txt', 'n02093428_10761.txt', 'n02099712_4960.txt', 'n02108089_15432.txt', 'n02090379_1759.txt', 'n02104029_1794.txt', 'n02107312_6246.txt', 'n02085620_431.txt', 'n02109525_345.txt', 'n02109525_8312.txt', 'n02108000_25.txt', 'n02089078_2464.txt', 'n02088466_8807.txt', 'n02091134_17608.txt', 'n02107312_6136.txt', 'n02100236_3615.txt', 'n02099849_1408.txt', 'n02107312_5055.txt', 'n02091244_3373.txt', 'n02093256_10078.txt', 'n02113186_11035.txt', 'n02113186_13256.txt', 'n02104365_7546.txt', 'n02105162_1378.txt', 'n02088632_4648.txt', 'n02108000_2248.txt', 'n02093256_1309.txt', 'n02087394_9686.txt', 'n02088632_2145.txt', 'n02085620_500.txt', 'n02113186_13272.txt', 'n02105162_5299.txt', 'n02090379_3415.txt', 'n02089078_3615.txt', 'n02091134_15245.txt', 'n02107312_4997.txt', 'n02115641_12836.txt', 'n02106550_11693.txt', 'n02088632_3433.txt', 'n02105412_7293.txt', 'n02107312_4057.txt', 'n02087394_8570.txt', 'n02100236_5956.txt', 'n02106550_4039.txt', 'n02088364_16985.txt', 'n02104365_2940.txt', 'n02091244_485.txt', 'n02108000_1901.txt', 'n02115641_1513.txt', 'n02089973_3426.txt', 'n02100236_911.txt', 'n02109961_1678.txt', 'n02101388_1445.txt', 'n02113186_50.txt', 'n02113978_3318.txt', 'n02088364_11130.txt', 'n02091134_689.txt', 'n02099601_569.txt', 'n02093428_1641.txt', 'n02109525_8822.txt', 'n02088238_5239.txt', 'n02111129_1115.txt', 'n02113186_612.txt', 'n02108000_3055.txt', 'n02105162_299.txt', 'n02088364_4052.txt', 'n02093428_3556.txt', 'n02108000_2611.txt', 'n02106550_12642.txt', 'n02110806_3827.txt', 'n02088632_512.txt', 'n02093256_3378.txt', 'n02099601_6105.txt', 'n02108000_352.txt', 'n02107312_744.txt', 'n02108089_1575.txt', 'n02089973_2.txt', 'n02108089_625.txt', 'n02088632_2521.txt', 'n02087046_178.txt', 'n02089078_243.txt', 'n02109961_2608.txt', 'n02099601_3388.txt', 'n02087046_4647.txt', 'n02105412_4556.txt', 'n02087046_3471.txt', 'n02099849_1157.txt', 'n02088632_3737.txt', 'n02088364_11136.txt', 'n02113978_2189.txt', 'n02088466_7091.txt', 'n02113978_3419.txt', 'n02099601_9504.txt', 'n02088632_4431.txt', 'n02091134_7736.txt', 'n02089078_1366.txt', 'n02109047_6276.txt', 'n02109525_2648.txt', 'n02108089_8739.txt', 'n02093256_14807.txt', 'n02093428_8696.txt', 'n02111129_3087.txt', 'n02109525_13702.txt', 'n02113023_5901.txt', 'n02105412_3979.txt', 'n02090379_2453.txt', 'n02091831_3152.txt', 'n02089078_2476.txt', 'n02091831_5244.txt', 'n02087046_6029.txt', 'n02110806_762.txt', 'n02109961_11224.txt', 'n02115641_2440.txt', 'n02091032_1121.txt', 'n02101388_7275.txt', 'n02088632_4334.txt', 'n02099712_8014.txt', 'n02110806_4435.txt', 'n02111129_4618.txt', 'n02110806_3135.txt', 'n02087394_5161.txt', 'n02087046_1792.txt', 'n02108089_2355.txt', 'n02088632_616.txt', 'n02113023_5032.txt', 'n02113186_9809.txt', 'n02110806_1778.txt', 'n02113978_1551.txt', 'n02089973_1748.txt', 'n02089973_208.txt', 'n02091134_19354.txt', 'n02106550_3886.txt', 'n02099849_1823.txt', 'n02113023_1482.txt', 'n02109525_1902.txt', 'n02116738_8734.txt', 'n02104029_1375.txt', 'n02091244_5943.txt', 'n02115641_7109.txt', 'n02110806_2627.txt', 'n02087394_6993.txt', 'n02108000_507.txt', 'n02089078_4024.txt', 'n02088466_5521.txt', 'n02113978_1891.txt', 'n02115641_12709.txt', 'n02108089_1031.txt', 'n02108000_253.txt', 'n02109047_23483.txt', 'n02099849_3403.txt', 'n02090379_3996.txt', 'n02108000_1060.txt', 'n02110806_3138.txt', 'n02116738_678.txt', 'n02111129_4069.txt', 'n02116738_10872.txt', 'n02088632_3888.txt', 'n02106550_1567.txt', 'n02088632_205.txt', 'n02087046_7166.txt', 'n02109525_12041.txt', 'n02092339_4346.txt', 'n02088238_10288.txt', 'n02113023_2012.txt', 'n02111129_4453.txt', 'n02087046_5219.txt', 'n02099849_3315.txt', 'n02111129_716.txt', 'n02087046_4575.txt', 'n02091244_1856.txt', 'n02105412_1078.txt', 'n02092339_2752.txt', 'n02113978_3184.txt', 'n02085620_730.txt', 'n02107312_4845.txt', 'n02090379_4150.txt', 'n02100236_2314.txt', 'n02115641_11699.txt', 'n02099601_5.txt', 'n02099712_3835.txt', 'n02089973_3040.txt', 'n02111129_2881.txt', 'n02099849_4498.txt', 'n02108089_3028.txt', 'n02101388_10470.txt', 'n02109961_11511.txt', 'n02113186_4902.txt', 'n02089867_2559.txt', 'n02105412_5983.txt', 'n02109525_2575.txt', 'n02100236_311.txt', 'n02109525_10251.txt', 'n02111129_3388.txt', 'n02085620_5713.txt', 'n02108000_866.txt', 'n02110806_1259.txt', 'n02116738_204.txt', 'n02091134_13544.txt', 'n02093428_7689.txt', 'n02113186_2433.txt', 'n02088466_1503.txt', 'n02091244_4110.txt', 'n02088466_9533.txt', 'n02113978_177.txt', 'n02091831_7066.txt', 'n02099601_6233.txt', 'n02100236_2591.txt', 'n02115641_13839.txt', 'n02091032_1071.txt', 'n02087394_4741.txt', 'n02088466_7421.txt', 'n02099712_4705.txt', 'n02088466_2986.txt', 'n02089973_2181.txt', 'n02109961_2532.txt', 'n02115641_3995.txt', 'n02089867_712.txt', 'n02106550_6192.txt', 'n02090379_1348.txt', 'n02105162_6625.txt', 'n02106550_12760.txt', 'n02090379_5493.txt', 'n02089973_1.txt', 'n02089078_3419.txt', 'n02100236_521.txt', 'n02104029_2931.txt', 'n02115641_7400.txt', 'n02093256_8205.txt', 'n02085620_1271.txt', 'n02091134_14246.txt']\n",
            "chunk4: \n",
            " ['n02113186_7308.txt', 'n02090379_5409.txt', 'n02085620_4441.txt', 'n02099712_7142.txt', 'n02105412_6349.txt', 'n02089078_4331.txt', 'n02110806_4117.txt', 'n02089973_2308.txt', 'n02113186_11037.txt', 'n02101388_5801.txt', 'n02101388_5998.txt', 'n02088238_6812.txt', 'n02110806_4062.txt', 'n02109525_7982.txt', 'n02111129_970.txt', 'n02111129_4477.txt', 'n02113978_2707.txt', 'n02091244_2207.txt', 'n02093428_632.txt', 'n02104365_9354.txt', 'n02099601_10.txt', 'n02105162_5582.txt', 'n02113186_9666.txt', 'n02093428_905.txt', 'n02088466_8969.txt', 'n02101388_9585.txt', 'n02100236_2423.txt', 'n02100236_5350.txt', 'n02115641_8150.txt', 'n02090379_4423.txt', 'n02113186_7443.txt', 'n02111129_2138.txt', 'n02108000_2550.txt', 'n02113186_5819.txt', 'n02099601_1249.txt', 'n02107312_4269.txt', 'n02108000_3007.txt', 'n02091831_3042.txt', 'n02109961_15315.txt', 'n02109961_3479.txt', 'n02088632_1499.txt', 'n02087046_4426.txt', 'n02088632_562.txt', 'n02088364_15111.txt', 'n02099601_2663.txt', 'n02110806_6528.txt', 'n02109525_11155.txt', 'n02091032_8093.txt', 'n02115641_14117.txt', 'n02109525_9872.txt', 'n02109961_4182.txt', 'n02108000_3104.txt', 'n02085620_2590.txt', 'n02088238_9360.txt', 'n02101388_8691.txt', 'n02106550_5928.txt', 'n02113186_6194.txt', 'n02105162_5556.txt', 'n02109047_23058.txt', 'n02091244_1525.txt', 'n02099849_1050.txt', 'n02088238_11318.txt', 'n02109961_391.txt', 'n02093256_6992.txt', 'n02104365_6489.txt', 'n02099712_4653.txt', 'n02088632_924.txt', 'n02087394_9361.txt', 'n02106550_7473.txt', 'n02091831_11553.txt', 'n02087394_8591.txt', 'n02089973_3243.txt', 'n02108000_748.txt', 'n02091831_10639.txt', 'n02089078_4497.txt', 'n02088632_3749.txt', 'n02099849_1536.txt', 'n02088632_3993.txt', 'n02093428_2519.txt', 'n02116738_2515.txt', 'n02099712_4625.txt', 'n02115641_726.txt', 'n02091244_4778.txt', 'n02087046_4506.txt', 'n02090379_3445.txt', 'n02109961_15257.txt', 'n02115641_7679.txt', 'n02091032_526.txt', 'n02089867_2387.txt', 'n02093428_14550.txt', 'n02087394_4410.txt', 'n02109525_2104.txt', 'n02109047_32692.txt', 'n02113023_14104.txt', 'n02104365_1292.txt', 'n02111129_4533.txt', 'n02104029_3900.txt', 'n02115641_504.txt', 'n02085620_8558.txt', 'n02099849_1997.txt', 'n02093256_718.txt', 'n02113023_3471.txt', 'n02116738_10493.txt', 'n02089867_3602.txt', 'n02092339_272.txt', 'n02088466_9167.txt', 'n02093256_1602.txt', 'n02091244_465.txt', 'n02091831_2094.txt', 'n02088364_13630.txt', 'n02113023_591.txt', 'n02089867_3360.txt', 'n02093428_8135.txt', 'n02091032_3763.txt', 'n02092339_107.txt', 'n02116738_4734.txt', 'n02099849_4767.txt', 'n02113978_1482.txt', 'n02088364_11231.txt', 'n02109047_4884.txt', 'n02091244_2427.txt', 'n02089867_2063.txt', 'n02110806_4179.txt', 'n02111129_390.txt', 'n02110806_6247.txt', 'n02101388_2159.txt', 'n02116738_5956.txt', 'n02109961_7861.txt', 'n02091831_6451.txt', 'n02087394_3159.txt', 'n02111129_5237.txt', 'n02104365_9552.txt', 'n02116738_1097.txt', 'n02089867_1599.txt', 'n02091134_14465.txt', 'n02093428_5617.txt', 'n02109961_16961.txt', 'n02091134_4273.txt', 'n02113023_2390.txt', 'n02116738_2802.txt', 'n02088632_2207.txt', 'n02108000_1921.txt', 'n02113023_13200.txt', 'n02089973_3307.txt', 'n02091134_145.txt', 'n02088466_8156.txt', 'n02091032_8150.txt', 'n02093428_3331.txt', 'n02111129_2112.txt', 'n02109961_2388.txt', 'n02091032_1636.txt', 'n02113023_6341.txt', 'n02106550_9084.txt', 'n02091134_9.txt', 'n02110806_2249.txt', 'n02113186_1695.txt', 'n02113978_1970.txt', 'n02113978_2474.txt', 'n02100236_3677.txt', 'n02107312_4167.txt', 'n02109047_5181.txt', 'n02099849_3203.txt', 'n02091831_5879.txt', 'n02088466_4825.txt', 'n02100236_1673.txt', 'n02091032_256.txt', 'n02093256_1275.txt', 'n02101388_2529.txt', 'n02091831_3038.txt', 'n02089867_3585.txt', 'n02116738_5661.txt', 'n02088238_9486.txt', 'n02088364_12973.txt', 'n02089078_4508.txt', 'n02111129_2743.txt', 'n02105162_9821.txt', 'n02107312_2945.txt', 'n02109525_11452.txt', 'n02087394_8573.txt', 'n02115641_3360.txt', 'n02116738_8579.txt', 'n02091032_10449.txt', 'n02115641_4818.txt', 'n02092339_5818.txt', 'n02088364_17479.txt', 'n02105412_4140.txt', 'n02108089_4119.txt', 'n02106550_4191.txt', 'n02104029_1423.txt', 'n02087046_5347.txt', 'n02105162_5519.txt', 'n02099601_2980.txt', 'n02109961_5924.txt', 'n02089867_3044.txt', 'n02105412_893.txt', 'n02091134_6159.txt', 'n02091244_289.txt', 'n02087046_4058.txt', 'n02100236_1838.txt', 'n02108000_1167.txt', 'n02091134_10690.txt', 'n02113978_2677.txt', 'n02104365_8451.txt', 'n02099712_5853.txt', 'n02091244_3319.txt', 'n02113023_4285.txt', 'n02109961_6613.txt', 'n02107312_4907.txt', 'n02087046_3651.txt', 'n02092339_3171.txt', 'n02113023_1916.txt', 'n02085620_3826.txt', 'n02093256_6665.txt', 'n02106550_5754.txt', 'n02113186_11789.txt', 'n02099849_263.txt', 'n02108000_66.txt', 'n02113978_3349.txt', 'n02087046_1724.txt', 'n02087394_7467.txt', 'n02109961_18454.txt', 'n02109047_1371.txt', 'n02099849_1740.txt', 'n02115641_13450.txt', 'n02105162_7461.txt', 'n02101388_5745.txt', 'n02089973_2064.txt', 'n02090379_4875.txt', 'n02099712_6823.txt', 'n02111129_2072.txt', 'n02099712_2223.txt', 'n02109525_7085.txt', 'n02099712_7481.txt', 'n02109047_5326.txt', 'n02092339_7812.txt', 'n02113186_982.txt', 'n02109047_33047.txt', 'n02101388_7113.txt', 'n02106550_6599.txt', 'n02088632_1541.txt', 'n02099712_2174.txt', 'n02091134_14842.txt', 'n02109047_12085.txt', 'n02109961_1276.txt', 'n02089867_3108.txt', 'n02110806_318.txt', 'n02091831_2586.txt', 'n02089973_1957.txt', 'n02109525_499.txt', 'n02105162_5462.txt', 'n02091032_10352.txt', 'n02088238_9725.txt', 'n02093256_1371.txt', 'n02099849_938.txt', 'n02108000_2734.txt', 'n02113186_6949.txt', 'n02113023_219.txt', 'n02090379_2335.txt', 'n02101388_149.txt', 'n02109525_10332.txt', 'n02091244_3321.txt', 'n02115641_5492.txt', 'n02110806_3968.txt', 'n02107312_5059.txt', 'n02092339_6401.txt', 'n02109525_17182.txt', 'n02093428_1345.txt', 'n02087046_4155.txt', 'n02109525_16487.txt', 'n02088364_9895.txt', 'n02105162_5913.txt', 'n02111129_3797.txt', 'n02093256_6575.txt', 'n02091032_4323.txt', 'n02089973_3074.txt', 'n02104365_9369.txt', 'n02091032_9491.txt', 'n02088238_9332.txt', 'n02105162_5759.txt', 'n02087394_8868.txt', 'n02089973_2791.txt', 'n02088238_10338.txt', 'n02113023_2567.txt', 'n02105412_2454.txt', 'n02088364_15315.txt', 'n02108000_326.txt', 'n02089867_2446.txt', 'n02104029_2071.txt', 'n02108000_2394.txt', 'n02093428_10947.txt', 'n02088238_11200.txt', 'n02091831_3594.txt', 'n02093256_1134.txt', 'n02101388_1252.txt', 'n02085620_6931.txt', 'n02091032_6537.txt', 'n02091831_1565.txt', 'n02108000_710.txt', 'n02085620_14413.txt', 'n02091831_648.txt', 'n02091032_75.txt', 'n02091032_5872.txt', 'n02093256_4022.txt', 'n02110806_4244.txt', 'n02089867_2758.txt', 'n02115641_4677.txt', 'n02099601_304.txt', 'n02091831_736.txt', 'n02100236_4181.txt', 'n02088632_3049.txt', 'n02088238_10870.txt', 'n02113023_4898.txt', 'n02107312_5474.txt', 'n02089973_4359.txt', 'n02101388_5395.txt', 'n02113186_741.txt', 'n02099849_1645.txt', 'n02088466_7670.txt', 'n02100236_1054.txt', 'n02113978_697.txt', 'n02110806_4167.txt', 'n02110806_433.txt', 'n02116738_4138.txt', 'n02110806_4327.txt', 'n02089973_2404.txt', 'n02107312_3624.txt', 'n02091244_589.txt', 'n02088466_5131.txt', 'n02109525_18136.txt', 'n02105412_7785.txt', 'n02093256_2542.txt', 'n02113978_3480.txt', 'n02091134_3472.txt', 'n02099849_3723.txt', 'n02104029_4492.txt', 'n02091032_1529.txt', 'n02108000_2742.txt', 'n02089078_727.txt', 'n02101388_3195.txt', 'n02090379_5414.txt', 'n02105162_5385.txt', 'n02105412_3812.txt', 'n02101388_4632.txt', 'n02088466_4169.txt', 'n02091831_735.txt', 'n02092339_6334.txt', 'n02099712_7164.txt', 'n02107312_7677.txt', 'n02091134_19204.txt', 'n02089867_3727.txt', 'n02116738_4508.txt', 'n02108000_37.txt', 'n02093428_14706.txt', 'n02108000_2523.txt', 'n02104029_4104.txt', 'n02107312_7.txt', 'n02099601_2408.txt', 'n02106550_4063.txt', 'n02091032_904.txt', 'n02088238_7741.txt', 'n02116738_4098.txt', 'n02108000_9.txt', 'n02101388_5783.txt', 'n02109047_5894.txt', 'n02113978_2804.txt', 'n02088364_161.txt', 'n02109961_131.txt', 'n02104365_4258.txt', 'n02109047_13744.txt', 'n02113186_4591.txt', 'n02089078_2174.txt', 'n02109047_1284.txt', 'n02093428_2199.txt', 'n02099601_5709.txt', 'n02099601_2536.txt', 'n02091831_4246.txt', 'n02087046_8206.txt', 'n02091244_147.txt', 'n02087394_1137.txt', 'n02104029_4815.txt', 'n02106550_7419.txt', 'n02111129_605.txt', 'n02099601_1633.txt', 'n02088238_11846.txt', 'n02110806_4463.txt', 'n02113023_15462.txt', 'n02088466_7195.txt', 'n02089078_1629.txt', 'n02109525_539.txt', 'n02110806_6035.txt', 'n02099849_216.txt', 'n02104029_4800.txt', 'n02093256_9753.txt', 'n02090379_957.txt', 'n02108089_7319.txt', 'n02088632_301.txt', 'n02088632_793.txt', 'n02093428_1482.txt', 'n02091134_2568.txt', 'n02087394_11149.txt', 'n02087046_5224.txt', 'n02111129_4149.txt', 'n02107312_2072.txt', 'n02091244_1541.txt', 'n02093256_11023.txt', 'n02088466_8926.txt', 'n02099601_345.txt', 'n02107312_4750.txt', 'n02110806_6352.txt', 'n02099712_3340.txt', 'n02088466_8162.txt', 'n02110806_346.txt', 'n02089973_1303.txt', 'n02099849_3007.txt', 'n02111129_2750.txt', 'n02089078_3652.txt', 'n02111129_2520.txt', 'n02087394_11116.txt', 'n02099849_2935.txt', 'n02115641_10561.txt', 'n02113023_6826.txt', 'n02104365_6395.txt', 'n02113186_12729.txt', 'n02109961_3810.txt', 'n02092339_7491.txt', 'n02091244_5774.txt', 'n02105412_5961.txt', 'n02088364_9652.txt', 'n02111129_4958.txt', 'n02099712_7179.txt', 'n02090379_2149.txt', 'n02088632_4339.txt', 'n02093428_5297.txt', 'n02099712_7608.txt', 'n02115641_3110.txt', 'n02099601_6726.txt', 'n02088364_14394.txt', 'n02088632_2507.txt', 'n02091134_14506.txt', 'n02101388_3497.txt', 'n02089078_188.txt', 'n02087046_5847.txt', 'n02088466_10773.txt', 'n02088466_8064.txt', 'n02107312_2295.txt', 'n02091134_13879.txt', 'n02089078_1836.txt', 'n02091134_7310.txt', 'n02089867_2433.txt', 'n02108000_2511.txt', 'n02113023_3840.txt', 'n02108000_2753.txt', 'n02088632_1463.txt', 'n02087394_9352.txt', 'n02088238_2009.txt', 'n02088632_2805.txt', 'n02109961_52.txt', 'n02113978_2996.txt', 'n02089078_2753.txt', 'n02088364_15082.txt', 'n02100236_2569.txt', 'n02110806_4888.txt', 'n02111129_5256.txt', 'n02113023_6161.txt', 'n02100236_4463.txt', 'n02105412_6429.txt', 'n02087046_8379.txt', 'n02093256_1727.txt', 'n02093256_4058.txt', 'n02099849_671.txt', 'n02108000_1574.txt', 'n02101388_4422.txt', 'n02091831_3643.txt', 'n02088632_2931.txt', 'n02088238_7487.txt', 'n02105162_4738.txt', 'n02090379_4950.txt', 'n02104365_999.txt', 'n02100236_4508.txt', 'n02091134_16062.txt', 'n02104365_10634.txt', 'n02091244_939.txt', 'n02091831_6427.txt', 'n02113023_4312.txt', 'n02113978_759.txt', 'n02108000_1114.txt', 'n02091831_13486.txt', 'n02115641_1674.txt', 'n02099849_1234.txt', 'n02105162_2636.txt', 'n02093428_14612.txt', 'n02087046_568.txt', 'n02088632_650.txt', 'n02108089_1003.txt', 'n02104365_9712.txt', 'n02113186_6415.txt', 'n02089973_4084.txt', 'n02088364_16493.txt', 'n02099849_3194.txt', 'n02101388_9859.txt', 'n02106550_9348.txt', 'n02105412_2249.txt', 'n02108000_987.txt', 'n02091831_2638.txt', 'n02110806_4853.txt', 'n02111129_17.txt', 'n02091032_3886.txt', 'n02089867_1225.txt', 'n02104029_235.txt', 'n02091831_3180.txt', 'n02113978_2552.txt', 'n02089078_1021.txt', 'n02093428_14485.txt', 'n02088632_1704.txt', 'n02109525_12641.txt', 'n02087394_7219.txt', 'n02089973_1623.txt', 'n02088238_6012.txt', 'n02099849_3617.txt', 'n02088238_8839.txt', 'n02088466_7007.txt', 'n02101388_5807.txt', 'n02089867_1212.txt', 'n02109047_24340.txt', 'n02110806_487.txt', 'n02104365_729.txt', 'n02099601_7227.txt', 'n02109047_9503.txt', 'n02091244_3707.txt', 'n02111129_2620.txt', 'n02088364_9318.txt', 'n02093428_1668.txt', 'n02101388_6077.txt', 'n02091831_7237.txt', 'n02110806_839.txt', 'n02109961_18552.txt', 'n02105412_4569.txt', 'n02089973_2300.txt', 'n02113023_6519.txt', 'n02107312_3994.txt', 'n02113023_13896.txt', 'n02089078_3355.txt', 'n02087046_4394.txt', 'n02113978_451.txt', 'n02106550_8146.txt', 'n02100236_5317.txt', 'n02105412_5702.txt', 'n02104365_2435.txt', 'n02111129_1752.txt', 'n02107312_3841.txt', 'n02091831_3616.txt', 'n02093256_11820.txt', 'n02093428_2214.txt', 'n02092339_75.txt', 'n02087394_3663.txt', 'n02089867_785.txt', 'n02091244_1496.txt', 'n02104365_6131.txt', 'n02089973_3799.txt', 'n02091134_12023.txt', 'n02088364_2652.txt', 'n02109047_25719.txt', 'n02109961_6290.txt', 'n02091244_1283.txt', 'n02108089_1.txt', 'n02109525_8417.txt', 'n02106550_9317.txt', 'n02087046_2551.txt', 'n02101388_4808.txt', 'n02089867_1863.txt', 'n02091244_3278.txt', 'n02093256_13419.txt', 'n02088364_12920.txt', 'n02109525_10992.txt', 'n02110806_5381.txt', 'n02115641_4601.txt', 'n02108089_3258.txt', 'n02107312_7578.txt', 'n02091032_3470.txt', 'n02089867_1697.txt', 'n02113023_6869.txt', 'n02088632_1576.txt', 'n02091032_8298.txt', 'n02089867_142.txt', 'n02099601_9301.txt', 'n02110806_3880.txt', 'n02093256_5007.txt', 'n02091134_19124.txt', 'n02113186_8414.txt', 'n02116738_684.txt', 'n02089078_2935.txt', 'n02089973_1733.txt', 'n02087046_4409.txt', 'n02108000_1547.txt', 'n02106550_8024.txt', 'n02088364_9825.txt', 'n02115641_2041.txt', 'n02113978_2167.txt', 'n02088466_6789.txt', 'n02088466_5432.txt', 'n02099601_3327.txt', 'n02109047_6093.txt', 'n02085620_10976.txt', 'n02093256_264.txt', 'n02109047_946.txt', 'n02087046_1482.txt', 'n02092339_4378.txt', 'n02113023_9306.txt', 'n02093428_814.txt', 'n02106550_11444.txt', 'n02099601_9518.txt', 'n02090379_2307.txt', 'n02088466_8801.txt', 'n02101388_3697.txt', 'n02088364_17530.txt', 'n02101388_4406.txt', 'n02087046_5890.txt', 'n02088238_10932.txt', 'n02091831_346.txt', 'n02109961_21096.txt', 'n02085620_9399.txt', 'n02089078_324.txt', 'n02085620_275.txt', 'n02085620_2053.txt', 'n02092339_727.txt', 'n02091134_6057.txt', 'n02089078_1064.txt', 'n02091831_2911.txt', 'n02113978_1478.txt', 'n02106550_895.txt', 'n02109047_26729.txt', 'n02088238_305.txt', 'n02105412_6070.txt', 'n02088364_14548.txt', 'n02099601_3007.txt', 'n02107312_7717.txt', 'n02106550_2082.txt', 'n02089973_957.txt', 'n02107312_1520.txt', 'n02104029_4746.txt', 'n02115641_2513.txt', 'n02105412_7326.txt', 'n02087394_8630.txt', 'n02104029_1779.txt', 'n02091244_2625.txt', 'n02093256_4658.txt', 'n02091032_10300.txt', 'n02091032_372.txt', 'n02093428_15747.txt', 'n02105162_893.txt', 'n02101388_5977.txt', 'n02091244_1252.txt', 'n02105162_6275.txt', 'n02087394_2253.txt', 'n02092339_514.txt', 'n02092339_52.txt', 'n02101388_3365.txt', 'n02085620_2981.txt', 'n02089867_2614.txt', 'n02089973_32.txt', 'n02089867_1921.txt', 'n02089078_933.txt', 'n02089973_4010.txt', 'n02088364_7784.txt', 'n02099601_3720.txt', 'n02105162_6547.txt', 'n02088466_7604.txt', 'n02093428_1767.txt', 'n02105162_7636.txt', 'n02104029_2501.txt', 'n02085620_477.txt', 'n02101388_5179.txt', 'n02093256_567.txt', 'n02104365_9639.txt', 'n02104029_3491.txt', 'n02100236_4851.txt', 'n02111129_454.txt', 'n02113186_9807.txt', 'n02108000_1194.txt', 'n02089973_3113.txt', 'n02089867_2743.txt', 'n02106550_11105.txt', 'n02099849_590.txt', 'n02104365_9238.txt', 'n02088364_14690.txt', 'n02087394_8260.txt', 'n02107312_5686.txt', 'n02091032_1933.txt', 'n02088238_10510.txt', 'n02091032_1918.txt', 'n02088632_2162.txt', 'n02090379_2463.txt', 'n02088632_4389.txt', 'n02107312_7212.txt', 'n02109525_4516.txt', 'n02088238_9257.txt', 'n02088364_13477.txt', 'n02108000_1468.txt', 'n02089867_883.txt', 'n02101388_6538.txt', 'n02088238_10110.txt', 'n02113978_2546.txt', 'n02088632_2837.txt', 'n02109525_3448.txt', 'n02111129_1111.txt', 'n02110806_1228.txt', 'n02108000_1482.txt', 'n02106550_2862.txt', 'n02111129_2168.txt', 'n02101388_6143.txt', 'n02093428_11160.txt', 'n02109525_9243.txt', 'n02113978_2966.txt', 'n02099601_5876.txt', 'n02088238_9590.txt', 'n02110806_2957.txt', 'n02116738_8095.txt', 'n02109047_1260.txt', 'n02093256_5791.txt', 'n02113186_9208.txt', 'n02088466_5212.txt', 'n02109047_13072.txt', 'n02089867_2713.txt', 'n02099601_8181.txt', 'n02104029_3427.txt', 'n02109525_950.txt', 'n02108089_117.txt', 'n02099601_7123.txt', 'n02091134_17108.txt', 'n02107312_1608.txt', 'n02109525_2385.txt', 'n02109047_31830.txt', 'n02091032_12144.txt', 'n02105412_1795.txt', 'n02099712_6345.txt', 'n02107312_1586.txt', 'n02088632_349.txt', 'n02088238_7718.txt', 'n02108000_2586.txt', 'n02116738_8341.txt', 'n02088466_9360.txt', 'n02104029_1289.txt', 'n02115641_1215.txt', 'n02099712_2473.txt', 'n02100236_879.txt', 'n02115641_6509.txt', 'n02108089_11001.txt', 'n02100236_4755.txt', 'n02091244_3240.txt', 'n02105412_2212.txt', 'n02107312_27.txt', 'n02087394_7056.txt', 'n02099849_3680.txt', 'n02093428_3549.txt', 'n02105412_5138.txt', 'n02101388_2889.txt', 'n02091244_756.txt', 'n02092339_511.txt', 'n02091831_4087.txt', 'n02091831_4030.txt', 'n02093256_1826.txt', 'n02107312_190.txt', 'n02085620_8636.txt', 'n02116738_5338.txt', 'n02091831_6114.txt', 'n02111129_3595.txt', 'n02105412_3628.txt', 'n02091134_19084.txt', 'n02088238_3079.txt', 'n02099849_4646.txt', 'n02107312_2702.txt', 'n02099712_6318.txt', 'n02113186_6418.txt', 'n02088364_427.txt', 'n02107312_6098.txt', 'n02088364_16721.txt', 'n02113023_4038.txt', 'n02109525_10908.txt', 'n02115641_6844.txt', 'n02108000_2420.txt', 'n02091032_9115.txt', 'n02113023_12192.txt', 'n02088466_4178.txt', 'n02104365_10514.txt', 'n02111129_710.txt', 'n02087046_357.txt', 'n02088466_9691.txt', 'n02108089_1560.txt', 'n02091134_18392.txt', 'n02089867_2677.txt', 'n02104365_8701.txt', 'n02115641_5823.txt', 'n02088632_369.txt', 'n02113978_1854.txt', 'n02087394_1722.txt', 'n02111129_5303.txt', 'n02087046_6476.txt', 'n02107312_7235.txt', 'n02099849_1265.txt', 'n02100236_1997.txt', 'n02099712_1660.txt', 'n02093428_5926.txt', 'n02091831_3300.txt', 'n02105162_6449.txt', 'n02107312_3456.txt', 'n02108000_215.txt', 'n02100236_1875.txt', 'n02085620_1916.txt', 'n02093256_1854.txt', 'n02115641_10021.txt', 'n02085620_7436.txt', 'n02087394_10683.txt', 'n02091134_12537.txt', 'n02091032_458.txt', 'n02091134_12358.txt', 'n02100236_4900.txt', 'n02099712_7133.txt', 'n02091244_5601.txt', 'n02085620_10621.txt', 'n02107312_2300.txt', 'n02089973_3147.txt', 'n02113023_3473.txt', 'n02088364_7324.txt', 'n02113186_1120.txt', 'n02101388_6065.txt', 'n02108089_1410.txt', 'n02109525_751.txt', 'n02091134_12341.txt', 'n02106550_5710.txt', 'n02099601_7916.txt', 'n02091831_5359.txt', 'n02110806_1514.txt', 'n02109047_1005.txt', 'n02091244_440.txt', 'n02091134_4078.txt', 'n02107312_711.txt', 'n02108000_320.txt', 'n02099601_1743.txt', 'n02091831_2779.txt', 'n02105162_3016.txt', 'n02100236_1741.txt', 'n02105412_2620.txt', 'n02116738_2614.txt', 'n02089973_888.txt', 'n02105162_2714.txt', 'n02113186_4711.txt', 'n02111129_4903.txt', 'n02100236_1258.txt', 'n02109961_12107.txt', 'n02108089_9045.txt', 'n02108089_3269.txt', 'n02088466_12388.txt', 'n02088466_7032.txt', 'n02107312_5290.txt', 'n02089867_1988.txt', 'n02113978_471.txt', 'n02088238_9467.txt', 'n02088466_8813.txt', 'n02088632_2039.txt', 'n02099849_541.txt', 'n02088632_175.txt', 'n02108089_2367.txt', 'n02088238_12710.txt', 'n02107312_3603.txt', 'n02092339_3091.txt', 'n02109047_2465.txt', 'n02109961_16311.txt', 'n02113023_4972.txt', 'n02109961_1253.txt', 'n02104365_2263.txt', 'n02091244_596.txt', 'n02091032_5383.txt', 'n02085620_5771.txt', 'n02100236_5244.txt', 'n02113978_375.txt', 'n02116738_8489.txt', 'n02085620_12334.txt', 'n02090379_3768.txt', 'n02099712_5263.txt', 'n02099712_4965.txt', 'n02089078_176.txt', 'n02087046_6357.txt', 'n02088238_11542.txt', 'n02113978_3832.txt', 'n02104365_7018.txt', 'n02109525_11274.txt', 'n02088238_10102.txt', 'n02088238_9922.txt', 'n02091134_1425.txt', 'n02088238_9446.txt', 'n02110806_2349.txt', 'n02088632_4188.txt', 'n02090379_5005.txt', 'n02091831_2362.txt', 'n02104365_7501.txt', 'n02108089_1675.txt', 'n02088632_2149.txt', 'n02113186_11947.txt', 'n02088238_13709.txt', 'n02104029_766.txt', 'n02099849_2300.txt', 'n02099849_4322.txt', 'n02101388_2429.txt', 'n02093428_12624.txt', 'n02109525_14297.txt', 'n02088632_1077.txt', 'n02091831_6323.txt', 'n02091032_6223.txt', 'n02089867_335.txt', 'n02087046_4039.txt', 'n02111129_1.txt', 'n02088238_9900.txt', 'n02116738_7170.txt', 'n02105162_10309.txt', 'n02110806_1369.txt', 'n02091134_3562.txt', 'n02113978_2787.txt', 'n02088238_11635.txt', 'n02089973_770.txt', 'n02093256_4678.txt', 'n02100236_396.txt', 'n02088364_14779.txt', 'n02113978_3790.txt', 'n02108000_1122.txt', 'n02087394_8266.txt', 'n02089973_504.txt', 'n02091032_11843.txt', 'n02088466_6963.txt', 'n02113978_593.txt', 'n02104029_3397.txt', 'n02092339_353.txt', 'n02099712_5599.txt', 'n02092339_2653.txt', 'n02090379_3556.txt', 'n02104029_1107.txt', 'n02105412_2164.txt', 'n02115641_266.txt', 'n02088466_8575.txt', 'n02101388_6377.txt', 'n02108089_836.txt', 'n02111129_4725.txt', 'n02108000_2125.txt', 'n02091244_486.txt', 'n02109047_5822.txt', 'n02110806_4741.txt', 'n02101388_2773.txt', 'n02085620_3488.txt', 'n02109047_5005.txt', 'n02092339_1521.txt', 'n02099712_7937.txt', 'n02085620_2937.txt', 'n02091032_1358.txt', 'n02105162_175.txt', 'n02108000_1750.txt', 'n02091134_17394.txt', 'n02088364_13944.txt', 'n02091831_4283.txt', 'n02091032_1072.txt', 'n02108000_1462.txt', 'n02108000_3236.txt', 'n02091134_18069.txt', 'n02088632_3309.txt', 'n02107312_4692.txt', 'n02109961_1017.txt', 'n02091244_3383.txt', 'n02093428_3397.txt', 'n02108089_11074.txt', 'n02087394_4147.txt', 'n02108089_1654.txt', 'n02110806_1904.txt', 'n02087394_514.txt', 'n02088632_613.txt', 'n02113978_1595.txt', 'n02091134_524.txt', 'n02113023_187.txt', 'n02107312_1195.txt', 'n02088238_12293.txt', 'n02099601_142.txt', 'n02087394_7008.txt', 'n02089867_1430.txt', 'n02091831_848.txt', 'n02089973_1249.txt', 'n02087046_1989.txt', 'n02108000_387.txt', 'n02105412_6770.txt', 'n02090379_1630.txt', 'n02088466_7121.txt', 'n02089973_3860.txt', 'n02113186_3049.txt', 'n02090379_3116.txt', 'n02089973_529.txt', 'n02099601_7803.txt', 'n02099849_3494.txt', 'n02115641_6575.txt', 'n02087046_4401.txt', 'n02089078_3869.txt', 'n02110806_2365.txt', 'n02091244_5488.txt', 'n02089078_3038.txt', 'n02106550_9508.txt', 'n02106550_1591.txt', 'n02088364_16791.txt', 'n02105162_2168.txt', 'n02105412_2631.txt', 'n02093428_13615.txt', 'n02104029_4777.txt', 'n02107312_7095.txt', 'n02108000_2065.txt', 'n02115641_1560.txt', 'n02104365_9004.txt', 'n02107312_5816.txt', 'n02087046_2843.txt', 'n02116738_6038.txt', 'n02109525_12604.txt', 'n02085620_3975.txt', 'n02092339_642.txt', 'n02109047_20023.txt', 'n02089078_4098.txt', 'n02091134_9740.txt', 'n02115641_9396.txt', 'n02104029_3217.txt', 'n02088238_6035.txt', 'n02111129_796.txt', 'n02111129_1501.txt', 'n02110806_3955.txt', 'n02108000_824.txt', 'n02090379_1379.txt', 'n02085620_4980.txt', 'n02107312_2716.txt', 'n02088238_363.txt', 'n02089078_2021.txt', 'n02090379_4381.txt', 'n02090379_1515.txt', 'n02099601_6338.txt', 'n02101388_183.txt', 'n02113186_7676.txt', 'n02087046_4135.txt', 'n02093428_10245.txt', 'n02110806_1035.txt', 'n02106550_5271.txt', 'n02093256_12174.txt', 'n02105412_5263.txt', 'n02109961_13077.txt', 'n02089078_4065.txt', 'n02087394_2445.txt', 'n02091831_1400.txt', 'n02116738_6330.txt', 'n02089867_1912.txt', 'n02111129_2617.txt', 'n02088632_3667.txt', 'n02115641_5815.txt', 'n02101388_4762.txt', 'n02109047_5573.txt', 'n02113978_3375.txt', 'n02104365_7377.txt', 'n02110806_6542.txt', 'n02089078_3807.txt', 'n02108089_1619.txt', 'n02093428_1439.txt', 'n02088364_7927.txt', 'n02089078_1758.txt', 'n02091831_749.txt', 'n02106550_12409.txt', 'n02085620_2921.txt', 'n02091134_14363.txt', 'n02113023_1380.txt', 'n02100236_1329.txt', 'n02104029_1612.txt', 'n02093428_4069.txt', 'n02105412_3416.txt', 'n02089973_251.txt', 'n02099849_3976.txt', 'n02088238_13720.txt', 'n02099849_562.txt', 'n02100236_2807.txt', 'n02093428_9929.txt', 'n02093428_15280.txt', 'n02088238_658.txt', 'n02091134_4002.txt', 'n02099712_6232.txt', 'n02091244_1030.txt', 'n02091244_822.txt', 'n02109525_12155.txt', 'n02110806_1033.txt', 'n02088364_2000.txt', 'n02089078_3681.txt', 'n02093428_3667.txt', 'n02099712_389.txt', 'n02111129_571.txt', 'n02110806_761.txt', 'n02089973_2603.txt', 'n02088632_2751.txt', 'n02088238_8140.txt', 'n02093256_3906.txt', 'n02091831_2838.txt', 'n02088632_3640.txt', 'n02091134_12375.txt', 'n02085620_4700.txt', 'n02116738_2675.txt', 'n02115641_6707.txt']\n",
            "chunk5: \n",
            " ['n02091244_645.txt', 'n02111129_5144.txt', 'n02089078_269.txt', 'n02093256_14914.txt', 'n02111129_2924.txt', 'n02113978_2888.txt', 'n02091134_2665.txt', 'n02088466_9616.txt', 'n02099601_2359.txt', 'n02088238_10106.txt', 'n02115641_3977.txt', 'n02091032_1884.txt', 'n02090379_5122.txt', 'n02091831_5745.txt', 'n02101388_6153.txt', 'n02089078_1275.txt', 'n02099601_78.txt', 'n02110806_238.txt', 'n02099712_3430.txt', 'n02105162_2873.txt', 'n02113186_8932.txt', 'n02101388_6329.txt', 'n02088632_2209.txt', 'n02091032_1783.txt', 'n02099601_2358.txt', 'n02101388_10527.txt', 'n02109047_31522.txt', 'n02088632_982.txt', 'n02088632_926.txt', 'n02115641_9686.txt', 'n02115641_13565.txt', 'n02108000_2536.txt', 'n02091032_11660.txt', 'n02108089_5423.txt', 'n02089867_2388.txt', 'n02104365_8769.txt', 'n02088364_6547.txt', 'n02085620_8611.txt', 'n02085620_4572.txt', 'n02113186_11559.txt', 'n02091134_16200.txt', 'n02091244_5718.txt', 'n02104029_525.txt', 'n02088364_8572.txt', 'n02113186_11017.txt', 'n02089867_822.txt', 'n02091134_18140.txt', 'n02089867_814.txt', 'n02092339_3698.txt', 'n02108000_620.txt', 'n02109047_282.txt', 'n02087394_7025.txt', 'n02088364_17167.txt', 'n02091244_169.txt', 'n02108000_1904.txt', 'n02108000_204.txt', 'n02099712_7775.txt', 'n02113186_4589.txt', 'n02091244_1340.txt', 'n02110806_4105.txt', 'n02088238_13847.txt', 'n02107312_262.txt', 'n02104365_7859.txt', 'n02089973_3651.txt', 'n02087046_7492.txt', 'n02105412_43.txt', 'n02087394_8903.txt', 'n02099849_3563.txt', 'n02104029_2417.txt', 'n02091134_15713.txt', 'n02088238_13799.txt', 'n02099849_4619.txt', 'n02091831_764.txt', 'n02100236_4465.txt', 'n02109047_30923.txt', 'n02099849_1115.txt', 'n02088466_11398.txt', 'n02104365_9248.txt', 'n02101388_6081.txt', 'n02108089_1757.txt', 'n02115641_4674.txt', 'n02087046_1703.txt', 'n02113186_6173.txt', 'n02116738_10575.txt', 'n02104029_1206.txt', 'n02111129_545.txt', 'n02088364_12794.txt', 'n02093256_2748.txt', 'n02088238_1454.txt', 'n02113023_14516.txt', 'n02105412_7211.txt', 'n02111129_246.txt', 'n02104029_4494.txt', 'n02093256_4036.txt', 'n02109525_7444.txt', 'n02099601_1324.txt', 'n02093256_4007.txt', 'n02091134_14579.txt', 'n02088238_2574.txt', 'n02115641_6974.txt', 'n02088466_10309.txt', 'n02092339_1950.txt', 'n02110806_3970.txt', 'n02116738_4461.txt', 'n02091244_100.txt', 'n02105162_9557.txt', 'n02089078_641.txt', 'n02088364_17935.txt', 'n02099601_1028.txt', 'n02107312_7214.txt', 'n02105412_1834.txt', 'n02090379_5063.txt', 'n02113978_737.txt', 'n02092339_7224.txt', 'n02089078_2728.txt', 'n02108000_3594.txt', 'n02105412_5156.txt', 'n02105412_4873.txt', 'n02088364_14968.txt', 'n02109047_31376.txt', 'n02111129_5300.txt', 'n02091831_4846.txt', 'n02089078_2903.txt', 'n02089973_2781.txt', 'n02110806_3995.txt', 'n02091032_9405.txt', 'n02089078_3532.txt', 'n02100236_1443.txt', 'n02110806_1916.txt', 'n02109525_5966.txt', 'n02091032_1228.txt', 'n02088238_7855.txt', 'n02105162_747.txt', 'n02111129_4981.txt', 'n02108000_569.txt', 'n02108000_339.txt', 'n02088364_2499.txt', 'n02091032_923.txt', 'n02090379_2420.txt', 'n02088364_12745.txt', 'n02113186_7145.txt', 'n02111129_1503.txt', 'n02108089_4042.txt', 'n02092339_3306.txt', 'n02100236_3134.txt', 'n02093256_7043.txt', 'n02087046_4127.txt', 'n02109525_6215.txt', 'n02104365_6498.txt', 'n02091831_3899.txt', 'n02100236_1828.txt', 'n02113186_8678.txt', 'n02108089_1072.txt', 'n02089973_3688.txt', 'n02087046_693.txt', 'n02085620_14252.txt', 'n02110806_3531.txt', 'n02106550_8383.txt', 'n02115641_6639.txt', 'n02093256_272.txt', 'n02116738_4720.txt', 'n02108000_2185.txt', 'n02104029_409.txt', 'n02092339_7614.txt', 'n02116738_2005.txt', 'n02087046_2127.txt', 'n02108089_15702.txt', 'n02116738_8662.txt', 'n02091244_3153.txt', 'n02089078_3188.txt', 'n02091831_3433.txt', 'n02091831_10593.txt', 'n02104029_133.txt', 'n02088238_13439.txt', 'n02091134_835.txt', 'n02106550_11203.txt', 'n02104365_7906.txt', 'n02113023_4796.txt', 'n02107312_3474.txt', 'n02092339_3804.txt', 'n02108000_93.txt', 'n02101388_3518.txt', 'n02100236_5836.txt', 'n02091831_97.txt', 'n02099712_719.txt', 'n02101388_6200.txt', 'n02099849_687.txt', 'n02092339_6498.txt', 'n02107312_1716.txt', 'n02089973_3159.txt', 'n02089867_3953.txt', 'n02091831_6582.txt', 'n02107312_5188.txt', 'n02089867_426.txt', 'n02101388_3023.txt', 'n02099849_1776.txt', 'n02113978_2441.txt', 'n02105412_3786.txt', 'n02113978_143.txt', 'n02092339_5292.txt', 'n02091244_5238.txt', 'n02115641_8871.txt', 'n02105412_7849.txt', 'n02113023_1360.txt', 'n02107312_471.txt', 'n02113186_10361.txt', 'n02111129_3770.txt', 'n02116738_5683.txt', 'n02107312_5599.txt', 'n02087046_7400.txt', 'n02088466_8982.txt', 'n02106550_8776.txt', 'n02109525_5498.txt', 'n02089867_2382.txt', 'n02089078_1962.txt', 'n02111129_1184.txt', 'n02116738_10081.txt', 'n02109525_10297.txt', 'n02113023_3324.txt', 'n02099601_7780.txt', 'n02107312_2709.txt', 'n02100236_3745.txt', 'n02088466_7048.txt', 'n02091032_1360.txt', 'n02089973_3454.txt', 'n02088466_1555.txt', 'n02101388_9597.txt', 'n02106550_193.txt', 'n02111129_306.txt', 'n02091244_1072.txt', 'n02113978_3727.txt', 'n02099712_8242.txt', 'n02100236_2893.txt', 'n02088238_11124.txt', 'n02099712_5471.txt', 'n02090379_4453.txt', 'n02105162_5785.txt', 'n02111129_1546.txt', 'n02088466_7429.txt', 'n02105412_7256.txt', 'n02101388_3710.txt', 'n02088632_1236.txt', 'n02106550_5222.txt', 'n02099849_4180.txt', 'n02105162_5924.txt', 'n02087394_9891.txt', 'n02099712_3197.txt', 'n02105412_3779.txt', 'n02104365_67.txt', 'n02090379_1438.txt', 'n02116738_6297.txt', 'n02089973_3323.txt', 'n02088466_10545.txt', 'n02088238_11113.txt', 'n02113023_6269.txt', 'n02088364_13236.txt', 'n02087394_5552.txt', 'n02106550_4072.txt', 'n02113978_1069.txt', 'n02088364_2566.txt', 'n02089867_3449.txt', 'n02090379_3881.txt', 'n02099601_5857.txt', 'n02089867_1416.txt', 'n02091134_10918.txt', 'n02105412_6120.txt', 'n02110806_6678.txt', 'n02088466_7606.txt', 'n02109961_18163.txt', 'n02113023_1258.txt', 'n02105412_3905.txt', 'n02092339_1930.txt', 'n02091134_17950.txt', 'n02106550_11728.txt', 'n02089867_2479.txt', 'n02091134_7935.txt', 'n02091831_10722.txt', 'n02091134_17054.txt', 'n02104365_518.txt', 'n02088364_16689.txt', 'n02088466_7462.txt', 'n02093428_366.txt', 'n02107312_6275.txt', 'n02104029_2246.txt', 'n02091831_4966.txt', 'n02090379_1020.txt', 'n02091831_213.txt', 'n02090379_1736.txt', 'n02090379_2934.txt', 'n02088364_11711.txt', 'n02109525_2737.txt', 'n02113978_2726.txt', 'n02104365_2981.txt', 'n02109961_630.txt', 'n02107312_3426.txt', 'n02109525_8096.txt', 'n02093428_10381.txt', 'n02091134_17567.txt', 'n02087394_5859.txt', 'n02110806_2580.txt', 'n02088466_2862.txt', 'n02099712_5000.txt', 'n02093256_1745.txt', 'n02091032_1680.txt', 'n02099712_6275.txt', 'n02091831_6308.txt', 'n02092339_4936.txt', 'n02109961_2272.txt', 'n02113023_3495.txt', 'n02088632_747.txt', 'n02090379_91.txt', 'n02088632_2439.txt', 'n02087046_4346.txt', 'n02110806_1688.txt', 'n02110806_3673.txt', 'n02093256_540.txt', 'n02093428_6314.txt', 'n02087046_5860.txt', 'n02087046_2614.txt', 'n02089078_1842.txt', 'n02091831_6406.txt', 'n02088632_255.txt', 'n02088466_9983.txt', 'n02088466_6160.txt', 'n02093428_4552.txt', 'n02093256_6969.txt', 'n02099849_4549.txt', 'n02108000_355.txt', 'n02087394_2324.txt', 'n02113023_5295.txt', 'n02099601_4256.txt', 'n02101388_9127.txt', 'n02106550_10706.txt', 'n02091134_13334.txt', 'n02085620_4290.txt', 'n02092339_2103.txt', 'n02099601_825.txt', 'n02113186_6547.txt', 'n02088632_600.txt', 'n02091134_17872.txt', 'n02091032_9613.txt', 'n02108000_2264.txt', 'n02091134_4099.txt', 'n02104365_7368.txt', 'n02099849_1278.txt', 'n02113186_10972.txt', 'n02089973_2633.txt', 'n02113023_3181.txt', 'n02085620_1235.txt', 'n02090379_4402.txt', 'n02110806_18.txt', 'n02099712_1200.txt', 'n02113023_10829.txt', 'n02107312_5776.txt', 'n02105412_2333.txt', 'n02113978_3722.txt', 'n02093256_1505.txt', 'n02107312_4586.txt', 'n02111129_2384.txt', 'n02104365_7822.txt', 'n02091244_156.txt', 'n02113978_2709.txt', 'n02107312_6617.txt', 'n02106550_4129.txt', 'n02107312_5604.txt', 'n02088364_17534.txt', 'n02104029_792.txt', 'n02101388_1941.txt', 'n02093256_4245.txt', 'n02108000_1714.txt', 'n02109525_1271.txt', 'n02091831_5654.txt', 'n02113978_1867.txt', 'n02092339_5981.txt', 'n02104029_3734.txt', 'n02091244_873.txt', 'n02099849_3369.txt', 'n02104365_10399.txt', 'n02105412_3218.txt', 'n02104365_8156.txt', 'n02100236_334.txt', 'n02089973_3055.txt', 'n02089867_4001.txt', 'n02099712_2668.txt', 'n02115641_7203.txt', 'n02091244_1265.txt', 'n02085620_1205.txt', 'n02105412_4629.txt', 'n02088364_14055.txt', 'n02101388_3064.txt', 'n02116738_3819.txt', 'n02090379_2410.txt', 'n02091244_3822.txt', 'n02092339_792.txt', 'n02091244_2941.txt', 'n02087046_538.txt', 'n02109525_10743.txt', 'n02091831_3052.txt', 'n02087394_9343.txt', 'n02091032_2178.txt', 'n02104029_3578.txt', 'n02104029_1150.txt', 'n02110806_1236.txt', 'n02093256_6008.txt', 'n02093256_3297.txt', 'n02100236_1164.txt', 'n02091134_17675.txt', 'n02108000_2937.txt', 'n02104365_10139.txt', 'n02088466_8039.txt', 'n02100236_308.txt', 'n02091831_4057.txt', 'n02113978_2141.txt', 'n02099712_2863.txt', 'n02093256_5943.txt', 'n02089078_2227.txt', 'n02113186_9924.txt', 'n02108089_2917.txt', 'n02100236_2204.txt', 'n02110806_4216.txt', 'n02089867_24.txt', 'n02091244_150.txt', 'n02110806_1102.txt', 'n02113186_12243.txt', 'n02088632_916.txt', 'n02107312_5357.txt', 'n02104029_1313.txt', 'n02087046_2158.txt', 'n02090379_4426.txt', 'n02093256_5295.txt', 'n02115641_5798.txt', 'n02091032_212.txt', 'n02113023_7275.txt', 'n02093428_10908.txt', 'n02101388_2689.txt', 'n02105162_9188.txt', 'n02109047_94.txt', 'n02109525_10321.txt', 'n02113023_5985.txt', 'n02088364_13428.txt', 'n02110806_6137.txt', 'n02092339_439.txt', 'n02089078_2108.txt', 'n02091134_13401.txt', 'n02104365_4190.txt', 'n02092339_2766.txt', 'n02099601_109.txt', 'n02091134_11307.txt', 'n02104365_8119.txt', 'n02101388_10017.txt', 'n02091244_2512.txt', 'n02109525_1972.txt', 'n02105162_5364.txt', 'n02091831_5436.txt', 'n02105412_1222.txt', 'n02115641_9763.txt', 'n02091032_1457.txt', 'n02110806_1667.txt', 'n02113186_12093.txt', 'n02089867_1965.txt', 'n02090379_744.txt', 'n02093428_7353.txt', 'n02107312_7391.txt', 'n02104365_5970.txt', 'n02113978_1983.txt', 'n02106550_1366.txt', 'n02107312_46.txt', 'n02108000_689.txt', 'n02088632_1047.txt', 'n02113978_2425.txt', 'n02109047_1672.txt', 'n02108089_12739.txt', 'n02099601_864.txt', 'n02106550_11762.txt', 'n02113978_3723.txt', 'n02115641_11717.txt', 'n02115641_6309.txt', 'n02107312_6129.txt', 'n02113186_6477.txt', 'n02089078_1680.txt', 'n02091032_7813.txt', 'n02091244_142.txt', 'n02109047_24710.txt', 'n02110806_4322.txt', 'n02091831_7244.txt', 'n02088466_7162.txt', 'n02099849_2965.txt', 'n02087046_6205.txt', 'n02110806_3711.txt', 'n02092339_512.txt', 'n02088364_9520.txt', 'n02091134_7567.txt', 'n02108089_1690.txt', 'n02115641_2636.txt', 'n02091831_3064.txt', 'n02099712_7963.txt', 'n02088364_1507.txt', 'n02091831_1512.txt', 'n02105162_5731.txt', 'n02113186_7353.txt', 'n02085620_3593.txt', 'n02107312_1803.txt', 'n02100236_645.txt', 'n02100236_3686.txt', 'n02104029_2992.txt', 'n02108089_1357.txt', 'n02116738_4367.txt', 'n02108089_14659.txt', 'n02107312_4972.txt', 'n02089078_3893.txt', 'n02093256_11732.txt', 'n02093428_9797.txt', 'n02085620_2208.txt', 'n02089078_2684.txt', 'n02091831_2245.txt', 'n02108089_11875.txt', 'n02100236_3612.txt', 'n02105162_6013.txt', 'n02115641_2953.txt', 'n02115641_13605.txt', 'n02110806_4370.txt', 'n02109047_906.txt', 'n02093256_4263.txt', 'n02088466_8144.txt', 'n02088364_16635.txt', 'n02093428_11151.txt', 'n02106550_12438.txt', 'n02109961_3992.txt', 'n02088632_3923.txt', 'n02100236_1244.txt', 'n02104365_7956.txt', 'n02107312_6186.txt', 'n02115641_6716.txt', 'n02104365_7431.txt', 'n02091032_9183.txt', 'n02088364_12405.txt', 'n02115641_592.txt', 'n02113023_3474.txt', 'n02113023_4611.txt', 'n02113978_1994.txt', 'n02088238_9986.txt', 'n02109961_10660.txt', 'n02089973_3160.txt', 'n02116738_7537.txt', 'n02091244_227.txt', 'n02099712_7749.txt', 'n02105412_3065.txt', 'n02104029_2861.txt', 'n02091134_4149.txt', 'n02089867_3436.txt', 'n02111129_1788.txt', 'n02104365_6927.txt', 'n02093428_4514.txt', 'n02107312_2967.txt', 'n02093428_1162.txt', 'n02113186_11658.txt', 'n02091244_3042.txt', 'n02087394_1161.txt', 'n02109961_6143.txt', 'n02105412_417.txt', 'n02108000_918.txt', 'n02091831_5692.txt', 'n02106550_2725.txt', 'n02109525_12392.txt', 'n02108000_3635.txt', 'n02099712_3698.txt', 'n02115641_10395.txt', 'n02087394_1352.txt', 'n02105412_3075.txt', 'n02109047_13730.txt', 'n02113186_1016.txt', 'n02106550_1260.txt', 'n02099849_4287.txt', 'n02087394_6371.txt', 'n02088238_9864.txt', 'n02116738_1927.txt', 'n02110806_6066.txt', 'n02091831_1623.txt', 'n02116738_4115.txt', 'n02087046_4832.txt', 'n02111129_294.txt', 'n02113023_1616.txt', 'n02110806_5312.txt', 'n02091244_25.txt', 'n02088466_7801.txt', 'n02087046_6902.txt', 'n02087394_8993.txt', 'n02110806_2995.txt', 'n02088632_4625.txt', 'n02091032_5942.txt', 'n02088632_2454.txt', 'n02116738_7105.txt', 'n02088238_12160.txt', 'n02089973_1799.txt', 'n02088364_11458.txt', 'n02088632_3545.txt', 'n02085620_11258.txt', 'n02089867_2880.txt', 'n02090379_2584.txt', 'n02099601_3262.txt', 'n02109047_34162.txt', 'n02089078_3088.txt', 'n02110806_1525.txt', 'n02106550_10651.txt', 'n02099849_3753.txt', 'n02104029_4791.txt', 'n02088364_11391.txt', 'n02105162_5186.txt', 'n02087394_7263.txt', 'n02090379_3410.txt', 'n02087046_4338.txt', 'n02089867_1352.txt', 'n02090379_1360.txt', 'n02099849_3149.txt', 'n02092339_367.txt', 'n02113978_310.txt', 'n02090379_1698.txt', 'n02110806_5256.txt', 'n02099712_7968.txt', 'n02087394_101.txt', 'n02107312_4943.txt', 'n02108089_3236.txt', 'n02091032_745.txt', 'n02105412_468.txt', 'n02092339_750.txt', 'n02088238_13199.txt', 'n02093256_1489.txt', 'n02091134_13957.txt', 'n02116738_3589.txt', 'n02089973_1577.txt', 'n02099601_14.txt', 'n02113978_1746.txt', 'n02104029_2582.txt', 'n02109047_23852.txt', 'n02113978_1939.txt', 'n02087046_2168.txt', 'n02091134_15784.txt', 'n02104029_455.txt', 'n02099849_1449.txt', 'n02100236_3836.txt', 'n02091032_20.txt', 'n02107312_6375.txt', 'n02087046_7960.txt', 'n02105412_8018.txt', 'n02088238_6161.txt', 'n02089973_1000.txt', 'n02089867_1438.txt', 'n02108000_2962.txt', 'n02110806_4331.txt', 'n02116738_2192.txt', 'n02099712_6997.txt', 'n02089867_1133.txt', 'n02106550_13213.txt', 'n02108089_2831.txt', 'n02088632_401.txt', 'n02088238_8520.txt', 'n02108000_841.txt', 'n02091134_15938.txt', 'n02113978_2054.txt', 'n02111129_513.txt', 'n02087046_6513.txt', 'n02105162_5370.txt', 'n02107312_7147.txt', 'n02088632_3001.txt', 'n02107312_5113.txt', 'n02109047_2553.txt', 'n02109525_1575.txt', 'n02091831_11021.txt', 'n02088632_1073.txt', 'n02085620_735.txt', 'n02099601_7654.txt', 'n02093428_14471.txt', 'n02091831_8847.txt', 'n02089973_289.txt', 'n02100236_5671.txt', 'n02089867_671.txt', 'n02089973_2133.txt', 'n02091134_2626.txt', 'n02092339_4633.txt', 'n02087394_7719.txt', 'n02108000_121.txt', 'n02093428_11916.txt', 'n02113186_8812.txt', 'n02105412_4674.txt', 'n02108000_1195.txt', 'n02090379_5393.txt', 'n02111129_2347.txt', 'n02088466_7710.txt', 'n02101388_4240.txt', 'n02088238_6988.txt', 'n02106550_2052.txt', 'n02100236_5647.txt', 'n02088238_9154.txt', 'n02091831_7665.txt', 'n02109961_16491.txt', 'n02108089_2653.txt', 'n02085620_3877.txt', 'n02107312_6051.txt', 'n02088238_8480.txt', 'n02087046_5196.txt', 'n02108089_1418.txt', 'n02088632_190.txt', 'n02089078_2337.txt', 'n02091032_4659.txt', 'n02104365_7944.txt', 'n02099849_2092.txt', 'n02107312_4741.txt', 'n02111129_187.txt', 'n02108089_3899.txt', 'n02101388_2565.txt', 'n02113978_1868.txt', 'n02099712_3854.txt', 'n02088238_6621.txt', 'n02107312_5792.txt', 'n02088364_13627.txt', 'n02099712_3947.txt', 'n02105162_3925.txt', 'n02089867_218.txt', 'n02090379_5504.txt', 'n02100236_185.txt', 'n02093256_5139.txt', 'n02109047_5910.txt', 'n02093256_3614.txt', 'n02088364_5147.txt', 'n02088466_7800.txt', 'n02106550_10555.txt', 'n02099849_1575.txt', 'n02110806_3484.txt', 'n02091831_3400.txt', 'n02099849_1922.txt', 'n02089973_2599.txt', 'n02088238_10054.txt', 'n02110806_4488.txt', 'n02093428_1108.txt', 'n02101388_2737.txt', 'n02108000_3109.txt', 'n02113186_6608.txt', 'n02099712_1866.txt', 'n02091134_12732.txt', 'n02113978_131.txt', 'n02089867_2815.txt', 'n02116738_5635.txt', 'n02088364_17406.txt', 'n02110806_4792.txt', 'n02088466_9110.txt', 'n02109047_25779.txt', 'n02104029_685.txt', 'n02099849_4667.txt', 'n02104029_3942.txt', 'n02087046_5017.txt', 'n02109961_4738.txt', 'n02110806_3513.txt', 'n02109047_888.txt', 'n02087046_2193.txt', 'n02088238_10183.txt', 'n02093256_3325.txt', 'n02115641_11668.txt', 'n02088238_9691.txt', 'n02115641_9348.txt', 'n02100236_2974.txt', 'n02104365_6667.txt', 'n02099712_5017.txt', 'n02089078_465.txt', 'n02088466_4054.txt', 'n02110806_4051.txt', 'n02104365_10247.txt', 'n02099601_7437.txt', 'n02111129_2977.txt', 'n02099849_927.txt', 'n02115641_970.txt', 'n02088466_7803.txt', 'n02088364_8820.txt', 'n02089078_353.txt', 'n02088364_16881.txt', 'n02093256_759.txt', 'n02089078_3196.txt', 'n02088466_8664.txt', 'n02113023_6015.txt', 'n02088632_1625.txt', 'n02104029_4450.txt', 'n02099712_6446.txt', 'n02105412_545.txt', 'n02104029_2659.txt', 'n02088466_8754.txt', 'n02108089_7431.txt', 'n02099601_5132.txt', 'n02100236_3877.txt', 'n02100236_3492.txt', 'n02091244_443.txt', 'n02093256_8541.txt', 'n02099712_4177.txt', 'n02087394_9272.txt', 'n02104365_8334.txt', 'n02107312_4234.txt', 'n02110806_2903.txt', 'n02090379_3131.txt', 'n02090379_3865.txt', 'n02110806_3376.txt', 'n02089867_3126.txt', 'n02109961_2706.txt', 'n02113023_6702.txt', 'n02087046_924.txt', 'n02089867_724.txt', 'n02091032_1140.txt', 'n02109525_6931.txt', 'n02099849_4519.txt', 'n02111129_593.txt', 'n02091134_16005.txt', 'n02087046_5306.txt', 'n02100236_3871.txt', 'n02109525_11747.txt', 'n02099712_5965.txt', 'n02108089_1626.txt', 'n02101388_10509.txt', 'n02091244_2709.txt', 'n02113978_386.txt', 'n02089867_1243.txt', 'n02093428_225.txt', 'n02106550_8064.txt', 'n02089973_1381.txt', 'n02100236_1916.txt', 'n02110806_582.txt', 'n02113023_11397.txt', 'n02109525_2770.txt', 'n02089867_1439.txt', 'n02105162_5328.txt', 'n02113023_3509.txt', 'n02091244_3874.txt', 'n02100236_304.txt', 'n02093428_6949.txt', 'n02093428_2049.txt', 'n02109525_4021.txt', 'n02104029_1484.txt', 'n02091831_10978.txt', 'n02113023_8021.txt', 'n02110806_4483.txt', 'n02116738_5519.txt', 'n02089867_1310.txt', 'n02111129_1447.txt', 'n02093428_582.txt', 'n02101388_2833.txt', 'n02107312_7528.txt', 'n02105162_5470.txt', 'n02105412_2650.txt', 'n02093256_8691.txt', 'n02099712_490.txt', 'n02099712_2115.txt', 'n02108089_5043.txt', 'n02101388_6797.txt', 'n02111129_2785.txt', 'n02089973_1132.txt', 'n02111129_4001.txt', 'n02105162_5600.txt', 'n02092339_6341.txt', 'n02087394_11710.txt', 'n02088364_13809.txt', 'n02087394_7449.txt', 'n02092339_235.txt', 'n02091244_3911.txt', 'n02106550_3528.txt', 'n02099601_5188.txt', 'n02109961_930.txt', 'n02109961_843.txt', 'n02089078_2542.txt', 'n02110806_17.txt', 'n02093428_8454.txt', 'n02088238_3778.txt', 'n02091244_2132.txt', 'n02113023_1496.txt', 'n02085620_9414.txt', 'n02113186_8846.txt', 'n02115641_1145.txt', 'n02091134_13244.txt', 'n02099712_5008.txt', 'n02092339_6124.txt', 'n02089867_3800.txt', 'n02089078_2478.txt', 'n02113023_6508.txt', 'n02091134_12029.txt', 'n02106550_7616.txt', 'n02088238_12427.txt', 'n02116738_9603.txt', 'n02092339_4527.txt', 'n02092339_6269.txt', 'n02113023_5006.txt', 'n02088466_4445.txt', 'n02109961_5066.txt', 'n02099601_2076.txt', 'n02099849_2847.txt', 'n02090379_3300.txt', 'n02087046_4066.txt', 'n02106550_5311.txt', 'n02091831_8028.txt', 'n02116738_328.txt', 'n02109961_2369.txt', 'n02109961_18009.txt', 'n02089973_2608.txt', 'n02106550_12948.txt', 'n02089973_2500.txt', 'n02107312_67.txt', 'n02091032_1684.txt', 'n02091244_2464.txt', 'n02093428_18993.txt', 'n02091032_7548.txt', 'n02116738_7060.txt', 'n02085620_3742.txt', 'n02090379_4708.txt', 'n02091831_1852.txt', 'n02113186_2617.txt', 'n02113186_11222.txt', 'n02113978_153.txt', 'n02099601_3004.txt', 'n02088238_2217.txt', 'n02089973_1312.txt', 'n02113186_12419.txt', 'n02108089_1775.txt', 'n02091831_5482.txt', 'n02101388_4333.txt', 'n02109047_21692.txt', 'n02110806_5301.txt', 'n02113186_5833.txt', 'n02089078_4422.txt', 'n02113186_13335.txt', 'n02093256_7454.txt', 'n02087394_261.txt', 'n02101388_4879.txt', 'n02110806_3136.txt', 'n02091032_651.txt', 'n02088466_7731.txt', 'n02109961_5797.txt', 'n02088238_7131.txt', 'n02109525_2008.txt', 'n02109047_8912.txt', 'n02091831_6757.txt', 'n02091244_1371.txt', 'n02115641_10506.txt', 'n02111129_4143.txt', 'n02113186_6992.txt', 'n02105412_7017.txt', 'n02104365_7518.txt', 'n02113186_9579.txt', 'n02091831_13935.txt', 'n02085620_574.txt', 'n02108000_99.txt', 'n02088632_4024.txt', 'n02091831_2232.txt', 'n02108000_171.txt', 'n02116738_291.txt', 'n02113186_13102.txt', 'n02107312_5114.txt', 'n02091831_4119.txt', 'n02091244_487.txt', 'n02093428_10328.txt', 'n02089078_2801.txt', 'n02089078_3613.txt', 'n02110806_1404.txt', 'n02092339_4214.txt', 'n02113186_13002.txt', 'n02088364_12972.txt', 'n02115641_4800.txt', 'n02093428_19443.txt', 'n02106550_1889.txt', 'n02109525_11445.txt', 'n02116738_2327.txt', 'n02090379_3721.txt', 'n02087394_11337.txt', 'n02085620_5661.txt', 'n02104365_6693.txt', 'n02108000_1302.txt', 'n02108000_3207.txt', 'n02085620_5093.txt', 'n02088238_11522.txt', 'n02089973_1078.txt', 'n02087046_2485.txt', 'n02091032_636.txt', 'n02085620_6295.txt', 'n02100236_1634.txt', 'n02105412_2638.txt', 'n02093428_10575.txt', 'n02109525_5007.txt', 'n02104029_4223.txt', 'n02111129_2047.txt', 'n02089078_1668.txt', 'n02090379_5182.txt', 'n02089078_3443.txt', 'n02116738_6790.txt', 'n02111129_2378.txt', 'n02091244_966.txt', 'n02089078_45.txt', 'n02115641_8578.txt', 'n02113978_3071.txt', 'n02101388_2645.txt', 'n02109961_3946.txt', 'n02105162_5954.txt', 'n02111129_2741.txt', 'n02106550_1033.txt', 'n02099849_1728.txt', 'n02091032_561.txt', 'n02105412_6873.txt', 'n02088364_12816.txt', 'n02093428_3061.txt', 'n02113186_9615.txt', 'n02110806_4188.txt', 'n02105162_6116.txt', 'n02089973_1877.txt', 'n02091134_14374.txt', 'n02110806_6424.txt', 'n02104365_7409.txt', 'n02085620_2903.txt', 'n02109047_18614.txt', 'n02099712_3980.txt', 'n02108000_187.txt', 'n02099601_2422.txt', 'n02091244_4177.txt', 'n02104029_4079.txt', 'n02088632_4613.txt', 'n02090379_5209.txt', 'n02106550_10478.txt', 'n02111129_3573.txt', 'n02116738_8669.txt', 'n02089867_2191.txt', 'n02087046_5407.txt', 'n02099712_57.txt', 'n02100236_3504.txt', 'n02115641_12634.txt', 'n02087394_3275.txt', 'n02088364_12713.txt', 'n02110806_3489.txt', 'n02091831_9731.txt', 'n02091032_7499.txt', 'n02101388_892.txt', 'n02092339_3222.txt', 'n02087046_3944.txt', 'n02088364_13981.txt', 'n02099712_6897.txt', 'n02108000_2498.txt', 'n02089867_2102.txt', 'n02101388_6494.txt', 'n02113978_1325.txt', 'n02091831_11177.txt', 'n02105412_1398.txt', 'n02113978_996.txt', 'n02091032_347.txt', 'n02109047_10414.txt', 'n02088632_2526.txt', 'n02111129_2703.txt', 'n02088466_7868.txt', 'n02110806_6016.txt', 'n02107312_1316.txt', 'n02100236_2542.txt', 'n02093428_3355.txt', 'n02090379_4334.txt', 'n02104365_7887.txt', 'n02085620_382.txt', 'n02105412_1031.txt', 'n02088364_12291.txt', 'n02087394_3619.txt', 'n02093256_3872.txt', 'n02107312_6695.txt', 'n02099601_1162.txt', 'n02108000_3296.txt', 'n02105412_4061.txt', 'n02109047_1480.txt', 'n02113023_6000.txt', 'n02109047_11472.txt', 'n02092339_7210.txt', 'n02111129_2330.txt', 'n02089867_1787.txt', 'n02113978_1480.txt', 'n02099712_1941.txt', 'n02104029_4709.txt', 'n02091244_2934.txt', 'n02109525_4308.txt', 'n02099849_2706.txt', 'n02085620_10074.txt', 'n02109525_10215.txt', 'n02099849_2.txt', 'n02091032_1400.txt', 'n02088364_18403.txt', 'n02113978_3197.txt', 'n02109961_9348.txt', 'n02111129_1670.txt', 'n02091032_4705.txt', 'n02109961_5035.txt', 'n02113186_10535.txt', 'n02116738_6092.txt', 'n02091244_4031.txt', 'n02100236_5828.txt', 'n02113023_5022.txt', 'n02093256_5600.txt', 'n02105412_5288.txt', 'n02107312_3238.txt', 'n02093428_9538.txt', 'n02099712_6901.txt', 'n02093256_2817.txt', 'n02110806_1214.txt', 'n02088466_8422.txt', 'n02104029_1268.txt', 'n02113186_2499.txt', 'n02093256_3462.txt']\n"
          ]
        }
      ]
    },
    {
      "cell_type": "code",
      "source": [
        "# now divide the data into content/fypdataset/labels/training1, training2, training3, training4\n",
        "\n",
        "#newchunkl1=[]\n",
        "newchunkl2=[]\n",
        "newchunkl3=[]\n",
        "newchunkl4=[]\n",
        "newchunkl5=[]\n",
        "\n",
        "# for i in chunkl1:\n",
        "#   newchunkl1.append(\"/content/fypdataset/labels/training/\"+i)\n",
        "\n",
        "\n",
        "for i in chunkl2:\n",
        "  newchunkl2.append(\"/content/content/fypdataset/labels/training/\"+i)\n",
        "\n",
        "\n",
        "for i in chunkl3:\n",
        "  newchunkl3.append(\"/content/content/fypdataset/labels/training/\"+i)\n",
        "\n",
        "\n",
        "for i in chunkl4:\n",
        "  newchunkl4.append(\"/content/content/fypdataset/labels/training/\"+i)\n",
        "\n",
        "\n",
        "for i in chunkl5:\n",
        "  newchunkl5.append(\"/content/content/fypdataset/labels/training/\"+i)\n",
        "\n",
        "\n",
        "# moves_files_to_folder(newchunkl1, \"/content/fypdataset/labels/training1\")\n",
        "moves_files_to_folder(newchunkl2, \"/content/content/fypdataset/labels/training2\")\n",
        "moves_files_to_folder(newchunkl3, \"/content/content/fypdataset/labels/training3\")\n",
        "moves_files_to_folder(newchunkl4, \"/content/content/fypdataset/labels/training4\")\n",
        "moves_files_to_folder(newchunkl5, \"/content/content/fypdataset/labels/training5\")\n",
        "\n",
        "\n"
      ],
      "metadata": {
        "id": "HnXmtOeJYNBl"
      },
      "execution_count": null,
      "outputs": []
    },
    {
      "cell_type": "markdown",
      "source": [
        "# now deleting the training folder from images and labels folder:\n"
      ],
      "metadata": {
        "id": "1tgbdgaAipv3"
      }
    },
    {
      "cell_type": "code",
      "source": [
        "shutil.rmtree(\"/content/content/fypdataset/images/training\")\n",
        "shutil.rmtree(\"/content/content/fypdataset/images/training\")"
      ],
      "metadata": {
        "id": "nGaDuomEioRQ"
      },
      "execution_count": null,
      "outputs": []
    },
    {
      "cell_type": "markdown",
      "source": [
        "# converting fypdataset into zipped file,, and downloading it, so that we dont lose our data.\n"
      ],
      "metadata": {
        "id": "Q5cmxxve5vwb"
      }
    },
    {
      "cell_type": "code",
      "source": [
        "\n",
        "!zip /content/content/fypdataset.zip -r /content/content/fypdataset\n",
        "# from google.colab import files\n",
        "# files.download(\"/content/fypdataset.zip\")\n",
        "\n",
        "# you can also just double-click on the zip file as shown in the files tab"
      ],
      "metadata": {
        "id": "2VcbyZqqwekj"
      },
      "execution_count": null,
      "outputs": []
    },
    {
      "cell_type": "markdown",
      "source": [
        "# 2. Working on the object detection model :"
      ],
      "metadata": {
        "id": "n28iv36u6UtE"
      }
    },
    {
      "cell_type": "code",
      "source": [
        "# incase you had to reconnect the runtime, or you reuploaded the zip file\n",
        "!unzip /content/fypdataset.zip"
      ],
      "metadata": {
        "id": "oyJ5rgrK_yHr"
      },
      "execution_count": null,
      "outputs": []
    },
    {
      "cell_type": "markdown",
      "source": [
        "* cloning with yolov5 repository"
      ],
      "metadata": {
        "id": "XnbWmBC-9RGM"
      }
    },
    {
      "cell_type": "code",
      "source": [
        "!git clone https://github.com/ultralytics/yolov5\n"
      ],
      "metadata": {
        "id": "zRc8FpLP6azJ",
        "colab": {
          "base_uri": "https://localhost:8080/"
        },
        "outputId": "fa55f412-cb3a-46b8-8b18-a5348a380a26"
      },
      "execution_count": null,
      "outputs": [
        {
          "output_type": "stream",
          "name": "stdout",
          "text": [
            "Cloning into 'yolov5'...\n",
            "remote: Enumerating objects: 12773, done.\u001b[K\n",
            "remote: Counting objects: 100% (54/54), done.\u001b[K\n",
            "remote: Compressing objects: 100% (32/32), done.\u001b[K\n",
            "remote: Total 12773 (delta 29), reused 40 (delta 22), pack-reused 12719\u001b[K\n",
            "Receiving objects: 100% (12773/12773), 12.34 MiB | 13.78 MiB/s, done.\n",
            "Resolving deltas: 100% (8786/8786), done.\n"
          ]
        }
      ]
    },
    {
      "cell_type": "markdown",
      "source": [
        "* changing directory to yolov5"
      ],
      "metadata": {
        "id": "xtJN52QN9Xya"
      }
    },
    {
      "cell_type": "code",
      "source": [
        "%cd yolov5"
      ],
      "metadata": {
        "id": "VbC9xigD9Wdc",
        "colab": {
          "base_uri": "https://localhost:8080/"
        },
        "outputId": "8017c8a3-d837-476e-a899-ce96964219b8"
      },
      "execution_count": null,
      "outputs": [
        {
          "output_type": "stream",
          "name": "stdout",
          "text": [
            "/content/yolov5\n"
          ]
        }
      ]
    },
    {
      "cell_type": "markdown",
      "source": [
        "* installing requirements for yolov5"
      ],
      "metadata": {
        "id": "rt7igRQ59keI"
      }
    },
    {
      "cell_type": "code",
      "source": [
        "%pip install -r requirements.txt\n"
      ],
      "metadata": {
        "id": "2rp_wxTa9hcH"
      },
      "execution_count": null,
      "outputs": []
    },
    {
      "cell_type": "markdown",
      "source": [
        "# training our model :"
      ],
      "metadata": {
        "id": "UtPOOth1QXB9"
      }
    },
    {
      "cell_type": "markdown",
      "source": [
        "1. we will first train our chunk 1, and it's output best weight will be input to the weights for training chunk2, and then its output best weight will be input to chunk3, and the same thing will be followed for chunk4.\n",
        "\n",
        "\n",
        "* Training chunk1:"
      ],
      "metadata": {
        "id": "auYRXA513115"
      }
    },
    {
      "cell_type": "code",
      "source": [
        "!python train.py --img 640 --batch 12 --epochs 10  --data /content/yolov5/data/custom_dataset.yaml --weights yolov5s.pt --cache"
      ],
      "metadata": {
        "id": "i70WPQUOQWIH",
        "colab": {
          "base_uri": "https://localhost:8080/"
        },
        "outputId": "da2fddc5-a479-4e9b-d2e1-7d8646fee3b8"
      },
      "execution_count": null,
      "outputs": [
        {
          "output_type": "stream",
          "name": "stdout",
          "text": [
            "\u001b[34m\u001b[1mtrain: \u001b[0mweights=yolov5s.pt, cfg=, data=/content/yolov5/data/custom_dataset.yaml, hyp=data/hyps/hyp.scratch-low.yaml, epochs=10, batch_size=12, imgsz=640, rect=False, resume=False, nosave=False, noval=False, noautoanchor=False, noplots=False, evolve=None, bucket=, cache=ram, image_weights=False, device=, multi_scale=False, single_cls=False, optimizer=SGD, sync_bn=False, workers=8, project=runs/train, name=exp, exist_ok=False, quad=False, cos_lr=False, label_smoothing=0.0, patience=100, freeze=[0], save_period=-1, seed=0, local_rank=-1, entity=None, upload_dataset=False, bbox_interval=-1, artifact_alias=latest\n",
            "\u001b[34m\u001b[1mgithub: \u001b[0mup to date with https://github.com/ultralytics/yolov5 ✅\n",
            "YOLOv5 🚀 v6.1-304-g51fb467 Python-3.7.13 torch-1.11.0+cu102 CPU\n",
            "\n",
            "\u001b[34m\u001b[1mhyperparameters: \u001b[0mlr0=0.01, lrf=0.01, momentum=0.937, weight_decay=0.0005, warmup_epochs=3.0, warmup_momentum=0.8, warmup_bias_lr=0.1, box=0.05, cls=0.5, cls_pw=1.0, obj=1.0, obj_pw=1.0, iou_t=0.2, anchor_t=4.0, fl_gamma=0.0, hsv_h=0.015, hsv_s=0.7, hsv_v=0.4, degrees=0.0, translate=0.1, scale=0.5, shear=0.0, perspective=0.0, flipud=0.0, fliplr=0.5, mosaic=1.0, mixup=0.0, copy_paste=0.0\n",
            "\u001b[34m\u001b[1mWeights & Biases: \u001b[0mrun 'pip install wandb' to automatically track and visualize YOLOv5 🚀 runs (RECOMMENDED)\n",
            "\u001b[34m\u001b[1mTensorBoard: \u001b[0mStart with 'tensorboard --logdir runs/train', view at http://localhost:6006/\n",
            "Overriding model.yaml nc=80 with nc=1\n",
            "\n",
            "                 from  n    params  module                                  arguments                     \n",
            "  0                -1  1      3520  models.common.Conv                      [3, 32, 6, 2, 2]              \n",
            "  1                -1  1     18560  models.common.Conv                      [32, 64, 3, 2]                \n",
            "  2                -1  1     18816  models.common.C3                        [64, 64, 1]                   \n",
            "  3                -1  1     73984  models.common.Conv                      [64, 128, 3, 2]               \n",
            "  4                -1  2    115712  models.common.C3                        [128, 128, 2]                 \n",
            "  5                -1  1    295424  models.common.Conv                      [128, 256, 3, 2]              \n",
            "  6                -1  3    625152  models.common.C3                        [256, 256, 3]                 \n",
            "  7                -1  1   1180672  models.common.Conv                      [256, 512, 3, 2]              \n",
            "  8                -1  1   1182720  models.common.C3                        [512, 512, 1]                 \n",
            "  9                -1  1    656896  models.common.SPPF                      [512, 512, 5]                 \n",
            " 10                -1  1    131584  models.common.Conv                      [512, 256, 1, 1]              \n",
            " 11                -1  1         0  torch.nn.modules.upsampling.Upsample    [None, 2, 'nearest']          \n",
            " 12           [-1, 6]  1         0  models.common.Concat                    [1]                           \n",
            " 13                -1  1    361984  models.common.C3                        [512, 256, 1, False]          \n",
            " 14                -1  1     33024  models.common.Conv                      [256, 128, 1, 1]              \n",
            " 15                -1  1         0  torch.nn.modules.upsampling.Upsample    [None, 2, 'nearest']          \n",
            " 16           [-1, 4]  1         0  models.common.Concat                    [1]                           \n",
            " 17                -1  1     90880  models.common.C3                        [256, 128, 1, False]          \n",
            " 18                -1  1    147712  models.common.Conv                      [128, 128, 3, 2]              \n",
            " 19          [-1, 14]  1         0  models.common.Concat                    [1]                           \n",
            " 20                -1  1    296448  models.common.C3                        [256, 256, 1, False]          \n",
            " 21                -1  1    590336  models.common.Conv                      [256, 256, 3, 2]              \n",
            " 22          [-1, 10]  1         0  models.common.Concat                    [1]                           \n",
            " 23                -1  1   1182720  models.common.C3                        [512, 512, 1, False]          \n",
            " 24      [17, 20, 23]  1     16182  models.yolo.Detect                      [1, [[10, 13, 16, 30, 33, 23], [30, 61, 62, 45, 59, 119], [116, 90, 156, 198, 373, 326]], [128, 256, 512]]\n",
            "Model summary: 270 layers, 7022326 parameters, 7022326 gradients, 15.9 GFLOPs\n",
            "\n",
            "Transferred 343/349 items from yolov5s.pt\n",
            "Scaled weight_decay = 0.00046875\n",
            "\u001b[34m\u001b[1moptimizer:\u001b[0m SGD with parameter groups 57 weight (no decay), 60 weight, 60 bias\n",
            "\u001b[34m\u001b[1malbumentations: \u001b[0mversion 1.0.3 required by YOLOv5, but version 0.1.12 is currently installed\n",
            "\u001b[34m\u001b[1mtrain: \u001b[0mScanning '/content/fypdataset/labels/training1.cache' images and labels... 1100 found, 0 missing, 0 empty, 0 corrupt: 100% 1100/1100 [00:00<?, ?it/s]\n",
            "\u001b[34m\u001b[1mtrain: \u001b[0mCaching images (1.0GB ram): 100% 1100/1100 [00:06<00:00, 182.86it/s]\n",
            "\u001b[34m\u001b[1mval: \u001b[0mScanning '/content/fypdataset/labels/validation.cache' images and labels... 688 found, 0 missing, 0 empty, 0 corrupt: 100% 688/688 [00:00<?, ?it/s]\n",
            "\u001b[34m\u001b[1mval: \u001b[0mCaching images (0.6GB ram): 100% 688/688 [00:04<00:00, 157.14it/s]\n",
            "Plotting labels to runs/train/exp2/labels.jpg... \n",
            "\n",
            "\u001b[34m\u001b[1mAutoAnchor: \u001b[0m2.52 anchors/target, 1.000 Best Possible Recall (BPR). Current anchors are a good fit to dataset ✅\n",
            "Image sizes 640 train, 640 val\n",
            "Using 2 dataloader workers\n",
            "Logging results to \u001b[1mruns/train/exp2\u001b[0m\n",
            "Starting training for 10 epochs...\n",
            "\n",
            "     Epoch   gpu_mem       box       obj       cls    labels  img_size\n",
            "       0/9        0G   0.06938   0.02813         0        19       640: 100% 92/92 [25:03<00:00, 16.35s/it]\n",
            "               Class     Images     Labels          P          R     mAP@.5 mAP@.5:.95: 100% 29/29 [04:28<00:00,  9.26s/it]\n",
            "                 all        688        749      0.598      0.765      0.651      0.294\n",
            "\n",
            "     Epoch   gpu_mem       box       obj       cls    labels  img_size\n",
            "       1/9        0G   0.04418   0.01931         0        21       640: 100% 92/92 [25:01<00:00, 16.32s/it]\n",
            "               Class     Images     Labels          P          R     mAP@.5 mAP@.5:.95: 100% 29/29 [04:12<00:00,  8.69s/it]\n",
            "                 all        688        749      0.574      0.721      0.673      0.372\n",
            "\n",
            "     Epoch   gpu_mem       box       obj       cls    labels  img_size\n",
            "       2/9        0G   0.04264    0.0181         0        23       640: 100% 92/92 [25:13<00:00, 16.46s/it]\n",
            "               Class     Images     Labels          P          R     mAP@.5 mAP@.5:.95: 100% 29/29 [04:07<00:00,  8.53s/it]\n",
            "                 all        688        749       0.71      0.728      0.776      0.359\n",
            "\n",
            "     Epoch   gpu_mem       box       obj       cls    labels  img_size\n",
            "       3/9        0G    0.0358   0.01872         0        14       640: 100% 92/92 [25:21<00:00, 16.54s/it]\n",
            "               Class     Images     Labels          P          R     mAP@.5 mAP@.5:.95: 100% 29/29 [04:07<00:00,  8.52s/it]\n",
            "                 all        688        749      0.804      0.767      0.822      0.421\n",
            "\n",
            "     Epoch   gpu_mem       box       obj       cls    labels  img_size\n",
            "       4/9        0G   0.03486   0.01834         0        21       640: 100% 92/92 [25:25<00:00, 16.58s/it]\n",
            "               Class     Images     Labels          P          R     mAP@.5 mAP@.5:.95: 100% 29/29 [04:06<00:00,  8.50s/it]\n",
            "                 all        688        749      0.884      0.857      0.908      0.522\n",
            "\n",
            "     Epoch   gpu_mem       box       obj       cls    labels  img_size\n",
            "       5/9        0G   0.03151   0.01749         0        22       640: 100% 92/92 [25:17<00:00, 16.50s/it]\n",
            "               Class     Images     Labels          P          R     mAP@.5 mAP@.5:.95: 100% 29/29 [04:11<00:00,  8.68s/it]\n",
            "                 all        688        749       0.89      0.878      0.912      0.534\n",
            "\n",
            "     Epoch   gpu_mem       box       obj       cls    labels  img_size\n",
            "       6/9        0G    0.0302   0.01769         0        18       640: 100% 92/92 [25:21<00:00, 16.54s/it]\n",
            "               Class     Images     Labels          P          R     mAP@.5 mAP@.5:.95: 100% 29/29 [04:08<00:00,  8.56s/it]\n",
            "                 all        688        749      0.908      0.868      0.916      0.552\n",
            "\n",
            "     Epoch   gpu_mem       box       obj       cls    labels  img_size\n",
            "       7/9        0G   0.02785   0.01691         0        25       640: 100% 92/92 [25:40<00:00, 16.75s/it]\n",
            "               Class     Images     Labels          P          R     mAP@.5 mAP@.5:.95: 100% 29/29 [04:15<00:00,  8.81s/it]\n",
            "                 all        688        749      0.908      0.909      0.941      0.606\n",
            "\n",
            "     Epoch   gpu_mem       box       obj       cls    labels  img_size\n",
            "       8/9        0G   0.02484   0.01593         0        29       640: 100% 92/92 [25:27<00:00, 16.60s/it]\n",
            "               Class     Images     Labels          P          R     mAP@.5 mAP@.5:.95: 100% 29/29 [04:10<00:00,  8.64s/it]\n",
            "                 all        688        749      0.899      0.904      0.936      0.626\n",
            "\n",
            "     Epoch   gpu_mem       box       obj       cls    labels  img_size\n",
            "       9/9        0G   0.02268   0.01601         0        24       640: 100% 92/92 [25:25<00:00, 16.58s/it]\n",
            "               Class     Images     Labels          P          R     mAP@.5 mAP@.5:.95: 100% 29/29 [04:08<00:00,  8.57s/it]\n",
            "                 all        688        749      0.913      0.921       0.94      0.653\n",
            "\n",
            "10 epochs completed in 4.923 hours.\n",
            "Optimizer stripped from runs/train/exp2/weights/last.pt, 14.4MB\n",
            "Optimizer stripped from runs/train/exp2/weights/best.pt, 14.4MB\n",
            "\n",
            "Validating runs/train/exp2/weights/best.pt...\n",
            "Fusing layers... \n",
            "Model summary: 213 layers, 7012822 parameters, 0 gradients, 15.8 GFLOPs\n",
            "               Class     Images     Labels          P          R     mAP@.5 mAP@.5:.95: 100% 29/29 [03:54<00:00,  8.09s/it]\n",
            "                 all        688        749      0.915       0.92       0.94      0.652\n",
            "Results saved to \u001b[1mruns/train/exp2\u001b[0m\n"
          ]
        }
      ]
    },
    {
      "cell_type": "code",
      "source": [
        "!python val.py --weights /content/yolov5/runs/train/exp2/weights/best.pt --data /content/yolov5/data/custom_dataset.yaml --img 640\n",
        "# for testing"
      ],
      "metadata": {
        "id": "60iJ2oDECJbr"
      },
      "execution_count": null,
      "outputs": []
    },
    {
      "cell_type": "code",
      "source": [
        "!python detect.py --weights /content/yolov5/runs/train/exp2/weights/best.pt --img 640 --conf 0.5 --source \"/content/fypdataset/images/testing\"\n",
        "# for inference\n",
        "# detecting new images"
      ],
      "metadata": {
        "id": "23nibKqFuskN"
      },
      "execution_count": null,
      "outputs": []
    },
    {
      "cell_type": "markdown",
      "source": [
        "# which folders to delete:"
      ],
      "metadata": {
        "id": "J2m9Z66EKYwX"
      }
    },
    {
      "cell_type": "code",
      "source": [
        "import shutil\n",
        "shutil.rmtree(\"/content/yolov5/runs/train/exp\")\n",
        "#delete exp 3 4 and 5 from train\n",
        "# exp2 from detect\n",
        "# exp, exp2 and exp4 from val"
      ],
      "metadata": {
        "id": "O6jUzUmRJ4Gh"
      },
      "execution_count": null,
      "outputs": []
    },
    {
      "cell_type": "markdown",
      "source": [
        "downloaded the files to continue work later on..."
      ],
      "metadata": {
        "id": "TkVtMUNL4PQu"
      }
    },
    {
      "cell_type": "code",
      "source": [
        "# !zip -r /content/fypdataset.zip /content/fypdataset"
      ],
      "metadata": {
        "id": "SdgT2HglCPmN"
      },
      "execution_count": null,
      "outputs": []
    },
    {
      "cell_type": "code",
      "source": [
        "!zip -r /content/yolov5.zip /content/yolov5"
      ],
      "metadata": {
        "id": "THuwUQSw4CIy"
      },
      "execution_count": null,
      "outputs": []
    },
    {
      "cell_type": "code",
      "source": [
        "# from google.colab import files\n",
        "# files.download(\"/content/fypdataset.zip\")\n",
        "# files.download(\"/content/fypdataset(chunked)\")"
      ],
      "metadata": {
        "id": "MMXkr0kKCQR8"
      },
      "execution_count": null,
      "outputs": []
    },
    {
      "cell_type": "markdown",
      "source": [
        "Upload:\n",
        "\n",
        "1. Fypdataset (the chunked one)\n",
        "2. best.pt (of trained chunk1) ----- [to train chunk2]\n",
        "\n",
        "* you'll have to create the custom_dataset.yaml file in the data folder of yolov5, everytime when you upload your dataset and when you clone the yolov5 repository :))\n"
      ],
      "metadata": {
        "id": "n4zOelc74csF"
      }
    },
    {
      "cell_type": "code",
      "source": [
        "!unzip /content/fypdataset.zip"
      ],
      "metadata": {
        "id": "2H9T44KgV3ak"
      },
      "execution_count": null,
      "outputs": []
    },
    {
      "cell_type": "markdown",
      "source": [
        "* cloning yolov5:"
      ],
      "metadata": {
        "id": "PzjhF0U7BK82"
      }
    },
    {
      "cell_type": "code",
      "source": [
        "!git clone https://github.com/ultralytics/yolov5\n",
        "%cd yolov5\n",
        "%pip install -r requirements.txt\n"
      ],
      "metadata": {
        "id": "CXvZ6USzBB43"
      },
      "execution_count": null,
      "outputs": []
    },
    {
      "cell_type": "markdown",
      "source": [
        "* Training chunk2:\n",
        "\n",
        "--> Update the train file path in the custom_dataset.yaml file for the 2nd chunk"
      ],
      "metadata": {
        "id": "P-zmDdJdA7Cj"
      }
    },
    {
      "cell_type": "code",
      "source": [
        "!python train.py --img 640 --batch 12 --epochs 10  --data /content/yolov5/data/custom_dataset.yaml --weights /content/best.pt --cache"
      ],
      "metadata": {
        "id": "e3zn9GQ7AhWk",
        "colab": {
          "base_uri": "https://localhost:8080/"
        },
        "outputId": "63798412-0239-4eec-ac73-d72df4b45ac8"
      },
      "execution_count": null,
      "outputs": [
        {
          "output_type": "stream",
          "name": "stdout",
          "text": [
            "\u001b[34m\u001b[1mtrain: \u001b[0mweights=/content/best.pt, cfg=, data=/content/yolov5/data/custom_dataset.yaml, hyp=data/hyps/hyp.scratch-low.yaml, epochs=10, batch_size=12, imgsz=640, rect=False, resume=False, nosave=False, noval=False, noautoanchor=False, noplots=False, evolve=None, bucket=, cache=ram, image_weights=False, device=, multi_scale=False, single_cls=False, optimizer=SGD, sync_bn=False, workers=8, project=runs/train, name=exp, exist_ok=False, quad=False, cos_lr=False, label_smoothing=0.0, patience=100, freeze=[0], save_period=-1, seed=0, local_rank=-1, entity=None, upload_dataset=False, bbox_interval=-1, artifact_alias=latest\n",
            "\u001b[34m\u001b[1mgithub: \u001b[0mup to date with https://github.com/ultralytics/yolov5 ✅\n",
            "YOLOv5 🚀 v6.1-306-gfbe67e4 Python-3.7.13 torch-1.12.0+cu113 CPU\n",
            "\n",
            "\u001b[34m\u001b[1mhyperparameters: \u001b[0mlr0=0.01, lrf=0.01, momentum=0.937, weight_decay=0.0005, warmup_epochs=3.0, warmup_momentum=0.8, warmup_bias_lr=0.1, box=0.05, cls=0.5, cls_pw=1.0, obj=1.0, obj_pw=1.0, iou_t=0.2, anchor_t=4.0, fl_gamma=0.0, hsv_h=0.015, hsv_s=0.7, hsv_v=0.4, degrees=0.0, translate=0.1, scale=0.5, shear=0.0, perspective=0.0, flipud=0.0, fliplr=0.5, mosaic=1.0, mixup=0.0, copy_paste=0.0\n",
            "\u001b[34m\u001b[1mWeights & Biases: \u001b[0mrun 'pip install wandb' to automatically track and visualize YOLOv5 🚀 runs (RECOMMENDED)\n",
            "\u001b[34m\u001b[1mTensorBoard: \u001b[0mStart with 'tensorboard --logdir runs/train', view at http://localhost:6006/\n",
            "Downloading https://ultralytics.com/assets/Arial.ttf to /root/.config/Ultralytics/Arial.ttf...\n",
            "100% 755k/755k [00:00<00:00, 125MB/s]\n",
            "\n",
            "                 from  n    params  module                                  arguments                     \n",
            "  0                -1  1      3520  models.common.Conv                      [3, 32, 6, 2, 2]              \n",
            "  1                -1  1     18560  models.common.Conv                      [32, 64, 3, 2]                \n",
            "  2                -1  1     18816  models.common.C3                        [64, 64, 1]                   \n",
            "  3                -1  1     73984  models.common.Conv                      [64, 128, 3, 2]               \n",
            "  4                -1  2    115712  models.common.C3                        [128, 128, 2]                 \n",
            "  5                -1  1    295424  models.common.Conv                      [128, 256, 3, 2]              \n",
            "  6                -1  3    625152  models.common.C3                        [256, 256, 3]                 \n",
            "  7                -1  1   1180672  models.common.Conv                      [256, 512, 3, 2]              \n",
            "  8                -1  1   1182720  models.common.C3                        [512, 512, 1]                 \n",
            "  9                -1  1    656896  models.common.SPPF                      [512, 512, 5]                 \n",
            " 10                -1  1    131584  models.common.Conv                      [512, 256, 1, 1]              \n",
            " 11                -1  1         0  torch.nn.modules.upsampling.Upsample    [None, 2, 'nearest']          \n",
            " 12           [-1, 6]  1         0  models.common.Concat                    [1]                           \n",
            " 13                -1  1    361984  models.common.C3                        [512, 256, 1, False]          \n",
            " 14                -1  1     33024  models.common.Conv                      [256, 128, 1, 1]              \n",
            " 15                -1  1         0  torch.nn.modules.upsampling.Upsample    [None, 2, 'nearest']          \n",
            " 16           [-1, 4]  1         0  models.common.Concat                    [1]                           \n",
            " 17                -1  1     90880  models.common.C3                        [256, 128, 1, False]          \n",
            " 18                -1  1    147712  models.common.Conv                      [128, 128, 3, 2]              \n",
            " 19          [-1, 14]  1         0  models.common.Concat                    [1]                           \n",
            " 20                -1  1    296448  models.common.C3                        [256, 256, 1, False]          \n",
            " 21                -1  1    590336  models.common.Conv                      [256, 256, 3, 2]              \n",
            " 22          [-1, 10]  1         0  models.common.Concat                    [1]                           \n",
            " 23                -1  1   1182720  models.common.C3                        [512, 512, 1, False]          \n",
            " 24      [17, 20, 23]  1     16182  models.yolo.Detect                      [1, [[10, 13, 16, 30, 33, 23], [30, 61, 62, 45, 59, 119], [116, 90, 156, 198, 373, 326]], [128, 256, 512]]\n",
            "Model summary: 270 layers, 7022326 parameters, 7022326 gradients, 15.9 GFLOPs\n",
            "\n",
            "Transferred 349/349 items from /content/best.pt\n",
            "Scaled weight_decay = 0.00046875\n",
            "\u001b[34m\u001b[1moptimizer:\u001b[0m SGD with parameter groups 57 weight (no decay), 60 weight, 60 bias\n",
            "\u001b[34m\u001b[1malbumentations: \u001b[0mversion 1.0.3 required by YOLOv5, but version 0.1.12 is currently installed\n",
            "\u001b[34m\u001b[1mtrain: \u001b[0mScanning '/content/content/fypdataset/labels/training2' images and labels...1100 found, 0 missing, 0 empty, 0 corrupt: 100% 1100/1100 [00:00<00:00, 1732.68it/s]\n",
            "\u001b[34m\u001b[1mtrain: \u001b[0mNew cache created: /content/content/fypdataset/labels/training2.cache\n",
            "\u001b[34m\u001b[1mtrain: \u001b[0mCaching images (1.0GB ram): 100% 1100/1100 [00:05<00:00, 196.98it/s]\n",
            "\u001b[34m\u001b[1mval: \u001b[0mScanning '/content/content/fypdataset/labels/validation' images and labels...688 found, 0 missing, 0 empty, 0 corrupt: 100% 688/688 [00:00<00:00, 911.45it/s]\n",
            "\u001b[34m\u001b[1mval: \u001b[0mNew cache created: /content/content/fypdataset/labels/validation.cache\n",
            "\u001b[34m\u001b[1mval: \u001b[0mCaching images (0.6GB ram): 100% 688/688 [00:03<00:00, 187.34it/s]\n",
            "Plotting labels to runs/train/exp/labels.jpg... \n",
            "\n",
            "\u001b[34m\u001b[1mAutoAnchor: \u001b[0m2.53 anchors/target, 1.000 Best Possible Recall (BPR). Current anchors are a good fit to dataset ✅\n",
            "Image sizes 640 train, 640 val\n",
            "Using 2 dataloader workers\n",
            "Logging results to \u001b[1mruns/train/exp\u001b[0m\n",
            "Starting training for 10 epochs...\n",
            "\n",
            "     Epoch   gpu_mem       box       obj       cls    labels  img_size\n",
            "       0/9        0G   0.02665   0.01723         0        23       640: 100% 92/92 [21:48<00:00, 14.22s/it]\n",
            "               Class     Images     Labels          P          R     mAP@.5 mAP@.5:.95: 100% 29/29 [03:36<00:00,  7.47s/it]\n",
            "                 all        688        749      0.907      0.919      0.939      0.653\n",
            "\n",
            "     Epoch   gpu_mem       box       obj       cls    labels  img_size\n",
            "       1/9        0G   0.02457   0.01699         0        23       640: 100% 92/92 [21:34<00:00, 14.07s/it]\n",
            "               Class     Images     Labels          P          R     mAP@.5 mAP@.5:.95: 100% 29/29 [03:35<00:00,  7.41s/it]\n",
            "                 all        688        749      0.919      0.909      0.947      0.643\n",
            "\n",
            "     Epoch   gpu_mem       box       obj       cls    labels  img_size\n",
            "       2/9        0G   0.02971   0.01672         0        24       640: 100% 92/92 [21:34<00:00, 14.07s/it]\n",
            "               Class     Images     Labels          P          R     mAP@.5 mAP@.5:.95: 100% 29/29 [03:35<00:00,  7.43s/it]\n",
            "                 all        688        749      0.902       0.92      0.945      0.622\n",
            "\n",
            "     Epoch   gpu_mem       box       obj       cls    labels  img_size\n",
            "       3/9        0G   0.03115   0.01665         0        13       640: 100% 92/92 [21:30<00:00, 14.03s/it]\n",
            "               Class     Images     Labels          P          R     mAP@.5 mAP@.5:.95: 100% 29/29 [03:34<00:00,  7.41s/it]\n",
            "                 all        688        749      0.907      0.891       0.94      0.613\n",
            "\n",
            "     Epoch   gpu_mem       box       obj       cls    labels  img_size\n",
            "       4/9        0G   0.03002   0.01674         0        20       640: 100% 92/92 [21:32<00:00, 14.05s/it]\n",
            "               Class     Images     Labels          P          R     mAP@.5 mAP@.5:.95: 100% 29/29 [03:34<00:00,  7.38s/it]\n",
            "                 all        688        749      0.903      0.923      0.945      0.629\n",
            "\n",
            "     Epoch   gpu_mem       box       obj       cls    labels  img_size\n",
            "       5/9        0G   0.02759   0.01611         0        22       640: 100% 92/92 [21:34<00:00, 14.07s/it]\n",
            "               Class     Images     Labels          P          R     mAP@.5 mAP@.5:.95: 100% 29/29 [03:34<00:00,  7.41s/it]\n",
            "                 all        688        749      0.915      0.916      0.948       0.65\n",
            "\n",
            "     Epoch   gpu_mem       box       obj       cls    labels  img_size\n",
            "       6/9        0G    0.0278   0.01649         0        17       640: 100% 92/92 [21:30<00:00, 14.03s/it]\n",
            "               Class     Images     Labels          P          R     mAP@.5 mAP@.5:.95: 100% 29/29 [03:34<00:00,  7.39s/it]\n",
            "                 all        688        749      0.934      0.912      0.956      0.673\n",
            "\n",
            "     Epoch   gpu_mem       box       obj       cls    labels  img_size\n",
            "       7/9        0G   0.02293   0.01532         0        27       640: 100% 92/92 [21:30<00:00, 14.03s/it]\n",
            "               Class     Images     Labels          P          R     mAP@.5 mAP@.5:.95: 100% 29/29 [03:33<00:00,  7.37s/it]\n",
            "                 all        688        749      0.929      0.923      0.955       0.69\n",
            "\n",
            "     Epoch   gpu_mem       box       obj       cls    labels  img_size\n",
            "       8/9        0G    0.0234   0.01547         0        31       640: 100% 92/92 [21:30<00:00, 14.03s/it]\n",
            "               Class     Images     Labels          P          R     mAP@.5 mAP@.5:.95: 100% 29/29 [03:35<00:00,  7.42s/it]\n",
            "                 all        688        749      0.932       0.92      0.957      0.708\n",
            "\n",
            "     Epoch   gpu_mem       box       obj       cls    labels  img_size\n",
            "       9/9        0G   0.02198   0.01529         0        27       640: 100% 92/92 [21:30<00:00, 14.02s/it]\n",
            "               Class     Images     Labels          P          R     mAP@.5 mAP@.5:.95: 100% 29/29 [03:35<00:00,  7.42s/it]\n",
            "                 all        688        749       0.95      0.924      0.965      0.721\n",
            "\n",
            "10 epochs completed in 4.192 hours.\n",
            "Optimizer stripped from runs/train/exp/weights/last.pt, 14.4MB\n",
            "Optimizer stripped from runs/train/exp/weights/best.pt, 14.4MB\n",
            "\n",
            "Validating runs/train/exp/weights/best.pt...\n",
            "Fusing layers... \n",
            "Model summary: 213 layers, 7012822 parameters, 0 gradients, 15.8 GFLOPs\n",
            "               Class     Images     Labels          P          R     mAP@.5 mAP@.5:.95: 100% 29/29 [03:22<00:00,  6.99s/it]\n",
            "                 all        688        749      0.952      0.919      0.965      0.722\n",
            "Results saved to \u001b[1mruns/train/exp\u001b[0m\n"
          ]
        }
      ]
    },
    {
      "cell_type": "code",
      "source": [
        "!python val.py --weights /content/best.pt --data /content/yolov5/data/custom_dataset.yaml --img 640\n"
      ],
      "metadata": {
        "id": "v6jBiT8Gywgr",
        "colab": {
          "base_uri": "https://localhost:8080/"
        },
        "outputId": "b2422af9-52dc-4855-e15a-337ad663a4b3"
      },
      "execution_count": null,
      "outputs": [
        {
          "output_type": "stream",
          "name": "stdout",
          "text": [
            "\u001b[34m\u001b[1mval: \u001b[0mdata=/content/yolov5/data/custom_dataset.yaml, weights=['/content/best.pt'], batch_size=32, imgsz=640, conf_thres=0.001, iou_thres=0.6, task=val, device=, workers=8, single_cls=False, augment=False, verbose=False, save_txt=False, save_hybrid=False, save_conf=False, save_json=False, project=runs/val, name=exp, exist_ok=False, half=False, dnn=False\n",
            "YOLOv5 🚀 v6.1-306-gfbe67e4 Python-3.7.13 torch-1.12.0+cu113 CPU\n",
            "\n",
            "Fusing layers... \n",
            "Model summary: 213 layers, 7012822 parameters, 0 gradients, 15.8 GFLOPs\n",
            "\u001b[34m\u001b[1mval: \u001b[0mScanning '/content/content/fypdataset/labels/validation.cache' images and labels... 688 found, 0 missing, 0 empty, 0 corrupt: 100% 688/688 [00:00<?, ?it/s]\n",
            "               Class     Images     Labels          P          R     mAP@.5 mAP@.5:.95: 100% 22/22 [03:31<00:00,  9.64s/it]\n",
            "                 all        688        749      0.914      0.924      0.941      0.652\n",
            "Speed: 2.3ms pre-process, 302.5ms inference, 0.5ms NMS per image at shape (32, 3, 640, 640)\n",
            "Results saved to \u001b[1mruns/val/exp\u001b[0m\n"
          ]
        }
      ]
    },
    {
      "cell_type": "code",
      "source": [
        "!unzip /content/dogs.zip"
      ],
      "metadata": {
        "id": "PCgO7G-ddCAS"
      },
      "execution_count": null,
      "outputs": []
    },
    {
      "cell_type": "code",
      "source": [
        "!python detect.py --weights /content/yolov5/runs/train/exp/weights/best.pt --img 640 --conf 0.5 --source \"/content/yolov5/dogs\"\n",
        "# for inference\n",
        "# detecting new images"
      ],
      "metadata": {
        "id": "mRS0J28SzhkF"
      },
      "execution_count": null,
      "outputs": []
    },
    {
      "cell_type": "code",
      "source": [
        "!python detect.py --weights /content/yolov5/runs/train/exp/weights/best.pt --img 640 --conf 0.5 --source \"/content/content/fypdataset/images/testing\"\n",
        "# for inference\n",
        "# detecting new images"
      ],
      "metadata": {
        "id": "623MSjN2dgYD"
      },
      "execution_count": null,
      "outputs": []
    },
    {
      "cell_type": "code",
      "source": [
        "!zip /content/content.zip -r /content/content"
      ],
      "metadata": {
        "id": "LoUvxINkd0Ui"
      },
      "execution_count": null,
      "outputs": []
    },
    {
      "cell_type": "code",
      "source": [
        "!zip /content/yolov5.zip -r /content/yolov5"
      ],
      "metadata": {
        "id": "-3oG-sTod4cm"
      },
      "execution_count": null,
      "outputs": []
    },
    {
      "cell_type": "markdown",
      "source": [
        "* Training chunk3:"
      ],
      "metadata": {
        "id": "1ajcnVkZgm_g"
      }
    },
    {
      "cell_type": "code",
      "source": [
        "!python train.py --img 640 --batch 12 --epochs 10  --data /content/yolov5/data/custom_dataset.yaml --weights /content/yolov5/runs/train/exp/weights/best.pt --cache"
      ],
      "metadata": {
        "colab": {
          "base_uri": "https://localhost:8080/"
        },
        "id": "eJl5P_uPgmLr",
        "outputId": "1479a17a-c401-46c0-9002-99f4415199d5"
      },
      "execution_count": null,
      "outputs": [
        {
          "output_type": "stream",
          "name": "stdout",
          "text": [
            "\u001b[34m\u001b[1mtrain: \u001b[0mweights=/content/yolov5/runs/train/exp/weights/best.pt, cfg=, data=/content/yolov5/data/custom_dataset.yaml, hyp=data/hyps/hyp.scratch-low.yaml, epochs=10, batch_size=12, imgsz=640, rect=False, resume=False, nosave=False, noval=False, noautoanchor=False, noplots=False, evolve=None, bucket=, cache=ram, image_weights=False, device=, multi_scale=False, single_cls=False, optimizer=SGD, sync_bn=False, workers=8, project=runs/train, name=exp, exist_ok=False, quad=False, cos_lr=False, label_smoothing=0.0, patience=100, freeze=[0], save_period=-1, seed=0, local_rank=-1, entity=None, upload_dataset=False, bbox_interval=-1, artifact_alias=latest\n",
            "remote: Enumerating objects: 3, done.\u001b[K\n",
            "remote: Counting objects: 100% (3/3), done.\u001b[K\n",
            "remote: Total 3 (delta 2), reused 3 (delta 2), pack-reused 0\u001b[K\n",
            "Unpacking objects: 100% (3/3), done.\n",
            "From https://github.com/ultralytics/yolov5\n",
            "   2d34408..1ad285a  classifier -> origin/classifier\n",
            "\u001b[34m\u001b[1mgithub: \u001b[0mup to date with https://github.com/ultralytics/yolov5 ✅\n",
            "YOLOv5 🚀 v6.1-306-gfbe67e4 Python-3.7.13 torch-1.12.0+cu113 CPU\n",
            "\n",
            "\u001b[34m\u001b[1mhyperparameters: \u001b[0mlr0=0.01, lrf=0.01, momentum=0.937, weight_decay=0.0005, warmup_epochs=3.0, warmup_momentum=0.8, warmup_bias_lr=0.1, box=0.05, cls=0.5, cls_pw=1.0, obj=1.0, obj_pw=1.0, iou_t=0.2, anchor_t=4.0, fl_gamma=0.0, hsv_h=0.015, hsv_s=0.7, hsv_v=0.4, degrees=0.0, translate=0.1, scale=0.5, shear=0.0, perspective=0.0, flipud=0.0, fliplr=0.5, mosaic=1.0, mixup=0.0, copy_paste=0.0\n",
            "\u001b[34m\u001b[1mWeights & Biases: \u001b[0mrun 'pip install wandb' to automatically track and visualize YOLOv5 🚀 runs (RECOMMENDED)\n",
            "\u001b[34m\u001b[1mTensorBoard: \u001b[0mStart with 'tensorboard --logdir runs/train', view at http://localhost:6006/\n",
            "\n",
            "                 from  n    params  module                                  arguments                     \n",
            "  0                -1  1      3520  models.common.Conv                      [3, 32, 6, 2, 2]              \n",
            "  1                -1  1     18560  models.common.Conv                      [32, 64, 3, 2]                \n",
            "  2                -1  1     18816  models.common.C3                        [64, 64, 1]                   \n",
            "  3                -1  1     73984  models.common.Conv                      [64, 128, 3, 2]               \n",
            "  4                -1  2    115712  models.common.C3                        [128, 128, 2]                 \n",
            "  5                -1  1    295424  models.common.Conv                      [128, 256, 3, 2]              \n",
            "  6                -1  3    625152  models.common.C3                        [256, 256, 3]                 \n",
            "  7                -1  1   1180672  models.common.Conv                      [256, 512, 3, 2]              \n",
            "  8                -1  1   1182720  models.common.C3                        [512, 512, 1]                 \n",
            "  9                -1  1    656896  models.common.SPPF                      [512, 512, 5]                 \n",
            " 10                -1  1    131584  models.common.Conv                      [512, 256, 1, 1]              \n",
            " 11                -1  1         0  torch.nn.modules.upsampling.Upsample    [None, 2, 'nearest']          \n",
            " 12           [-1, 6]  1         0  models.common.Concat                    [1]                           \n",
            " 13                -1  1    361984  models.common.C3                        [512, 256, 1, False]          \n",
            " 14                -1  1     33024  models.common.Conv                      [256, 128, 1, 1]              \n",
            " 15                -1  1         0  torch.nn.modules.upsampling.Upsample    [None, 2, 'nearest']          \n",
            " 16           [-1, 4]  1         0  models.common.Concat                    [1]                           \n",
            " 17                -1  1     90880  models.common.C3                        [256, 128, 1, False]          \n",
            " 18                -1  1    147712  models.common.Conv                      [128, 128, 3, 2]              \n",
            " 19          [-1, 14]  1         0  models.common.Concat                    [1]                           \n",
            " 20                -1  1    296448  models.common.C3                        [256, 256, 1, False]          \n",
            " 21                -1  1    590336  models.common.Conv                      [256, 256, 3, 2]              \n",
            " 22          [-1, 10]  1         0  models.common.Concat                    [1]                           \n",
            " 23                -1  1   1182720  models.common.C3                        [512, 512, 1, False]          \n",
            " 24      [17, 20, 23]  1     16182  models.yolo.Detect                      [1, [[10, 13, 16, 30, 33, 23], [30, 61, 62, 45, 59, 119], [116, 90, 156, 198, 373, 326]], [128, 256, 512]]\n",
            "Model summary: 270 layers, 7022326 parameters, 7022326 gradients, 15.9 GFLOPs\n",
            "\n",
            "Transferred 349/349 items from /content/yolov5/runs/train/exp/weights/best.pt\n",
            "Scaled weight_decay = 0.00046875\n",
            "\u001b[34m\u001b[1moptimizer:\u001b[0m SGD with parameter groups 57 weight (no decay), 60 weight, 60 bias\n",
            "\u001b[34m\u001b[1malbumentations: \u001b[0mversion 1.0.3 required by YOLOv5, but version 0.1.12 is currently installed\n",
            "\u001b[34m\u001b[1mtrain: \u001b[0mScanning '/content/content/fypdataset/labels/training3' images and labels...1100 found, 0 missing, 0 empty, 0 corrupt: 100% 1100/1100 [00:00<00:00, 1904.83it/s]\n",
            "\u001b[34m\u001b[1mtrain: \u001b[0mNew cache created: /content/content/fypdataset/labels/training3.cache\n",
            "\u001b[34m\u001b[1mtrain: \u001b[0mCaching images (1.0GB ram): 100% 1100/1100 [00:06<00:00, 182.13it/s]\n",
            "\u001b[34m\u001b[1mval: \u001b[0mScanning '/content/content/fypdataset/labels/validation.cache' images and labels... 688 found, 0 missing, 0 empty, 0 corrupt: 100% 688/688 [00:00<?, ?it/s]\n",
            "\u001b[34m\u001b[1mval: \u001b[0mCaching images (0.6GB ram): 100% 688/688 [00:04<00:00, 167.45it/s]\n",
            "Plotting labels to runs/train/exp2/labels.jpg... \n",
            "\n",
            "\u001b[34m\u001b[1mAutoAnchor: \u001b[0m2.54 anchors/target, 1.000 Best Possible Recall (BPR). Current anchors are a good fit to dataset ✅\n",
            "Image sizes 640 train, 640 val\n",
            "Using 2 dataloader workers\n",
            "Logging results to \u001b[1mruns/train/exp2\u001b[0m\n",
            "Starting training for 10 epochs...\n",
            "\n",
            "     Epoch   gpu_mem       box       obj       cls    labels  img_size\n",
            "       0/9        0G   0.02263    0.0153         0        21       640: 100% 92/92 [22:07<00:00, 14.43s/it]\n",
            "               Class     Images     Labels          P          R     mAP@.5 mAP@.5:.95: 100% 29/29 [03:41<00:00,  7.64s/it]\n",
            "                 all        688        749      0.954      0.928      0.966      0.728\n",
            "\n",
            "     Epoch   gpu_mem       box       obj       cls    labels  img_size\n",
            "       1/9        0G   0.02246   0.01545         0        28       640: 100% 92/92 [22:00<00:00, 14.35s/it]\n",
            "               Class     Images     Labels          P          R     mAP@.5 mAP@.5:.95: 100% 29/29 [03:40<00:00,  7.61s/it]\n",
            "                 all        688        749      0.939       0.94      0.964      0.709\n",
            "\n",
            "     Epoch   gpu_mem       box       obj       cls    labels  img_size\n",
            "       2/9        0G   0.02487   0.01537         0        24       640: 100% 92/92 [21:53<00:00, 14.27s/it]\n",
            "               Class     Images     Labels          P          R     mAP@.5 mAP@.5:.95: 100% 29/29 [03:38<00:00,  7.53s/it]\n",
            "                 all        688        749      0.946      0.927      0.956      0.668\n",
            "\n",
            "     Epoch   gpu_mem       box       obj       cls    labels  img_size\n",
            "       3/9        0G   0.02415    0.0149         0        15       640: 100% 92/92 [21:50<00:00, 14.25s/it]\n",
            "               Class     Images     Labels          P          R     mAP@.5 mAP@.5:.95: 100% 29/29 [03:38<00:00,  7.52s/it]\n",
            "                 all        688        749      0.929      0.921      0.951      0.682\n",
            "\n",
            "     Epoch   gpu_mem       box       obj       cls    labels  img_size\n",
            "       4/9        0G   0.02531   0.01532         0        26       640: 100% 92/92 [21:58<00:00, 14.33s/it]\n",
            "               Class     Images     Labels          P          R     mAP@.5 mAP@.5:.95: 100% 29/29 [03:39<00:00,  7.56s/it]\n",
            "                 all        688        749      0.917      0.917      0.949      0.658\n",
            "\n",
            "     Epoch   gpu_mem       box       obj       cls    labels  img_size\n",
            "       5/9        0G   0.02271   0.01482         0        23       640: 100% 92/92 [22:04<00:00, 14.40s/it]\n",
            "               Class     Images     Labels          P          R     mAP@.5 mAP@.5:.95: 100% 29/29 [03:39<00:00,  7.57s/it]\n",
            "                 all        688        749      0.937      0.924       0.96      0.695\n",
            "\n",
            "     Epoch   gpu_mem       box       obj       cls    labels  img_size\n",
            "       6/9        0G   0.02236   0.01516         0        16       640: 100% 92/92 [22:08<00:00, 14.44s/it]\n",
            "               Class     Images     Labels          P          R     mAP@.5 mAP@.5:.95: 100% 29/29 [03:40<00:00,  7.60s/it]\n",
            "                 all        688        749      0.915      0.922      0.948      0.684\n",
            "\n",
            "     Epoch   gpu_mem       box       obj       cls    labels  img_size\n",
            "       7/9        0G   0.02095   0.01464         0        26       640: 100% 92/92 [22:13<00:00, 14.49s/it]\n",
            "               Class     Images     Labels          P          R     mAP@.5 mAP@.5:.95: 100% 29/29 [03:42<00:00,  7.68s/it]\n",
            "                 all        688        749      0.939      0.924       0.96      0.715\n",
            "\n",
            "     Epoch   gpu_mem       box       obj       cls    labels  img_size\n",
            "       8/9        0G   0.02014   0.01414         0        28       640: 100% 92/92 [22:13<00:00, 14.49s/it]\n",
            "               Class     Images     Labels          P          R     mAP@.5 mAP@.5:.95: 100% 29/29 [03:46<00:00,  7.83s/it]\n",
            "                 all        688        749      0.941      0.939      0.965      0.732\n",
            "\n",
            "     Epoch   gpu_mem       box       obj       cls    labels  img_size\n",
            "       9/9        0G   0.02115   0.01464         0        28       640: 100% 92/92 [22:25<00:00, 14.63s/it]\n",
            "               Class     Images     Labels          P          R     mAP@.5 mAP@.5:.95: 100% 29/29 [03:44<00:00,  7.73s/it]\n",
            "                 all        688        749      0.944      0.946      0.965      0.733\n",
            "\n",
            "10 epochs completed in 4.298 hours.\n",
            "Optimizer stripped from runs/train/exp2/weights/last.pt, 14.4MB\n",
            "Optimizer stripped from runs/train/exp2/weights/best.pt, 14.4MB\n",
            "\n",
            "Validating runs/train/exp2/weights/best.pt...\n",
            "Fusing layers... \n",
            "Model summary: 213 layers, 7012822 parameters, 0 gradients, 15.8 GFLOPs\n",
            "               Class     Images     Labels          P          R     mAP@.5 mAP@.5:.95: 100% 29/29 [03:29<00:00,  7.23s/it]\n",
            "                 all        688        749      0.944      0.944      0.965      0.733\n",
            "Results saved to \u001b[1mruns/train/exp2\u001b[0m\n"
          ]
        }
      ]
    },
    {
      "cell_type": "code",
      "source": [
        "!python val.py --weights /content/best.pt --data /content/yolov5/custom_dataset.yaml --img 640\n"
      ],
      "metadata": {
        "id": "e7fqTWJkSWLx",
        "colab": {
          "base_uri": "https://localhost:8080/"
        },
        "outputId": "f1331593-f3db-472c-8a08-33538a5be7cd"
      },
      "execution_count": null,
      "outputs": [
        {
          "output_type": "stream",
          "name": "stdout",
          "text": [
            "\u001b[34m\u001b[1mval: \u001b[0mdata=/content/yolov5/custom_dataset.yaml, weights=['/content/best.pt'], batch_size=32, imgsz=640, conf_thres=0.001, iou_thres=0.6, task=val, device=, workers=8, single_cls=False, augment=False, verbose=False, save_txt=False, save_hybrid=False, save_conf=False, save_json=False, project=runs/val, name=exp, exist_ok=False, half=False, dnn=False\n",
            "YOLOv5 🚀 v6.1-306-gfbe67e4 Python-3.7.13 torch-1.12.0+cu113 CPU\n",
            "\n",
            "Fusing layers... \n",
            "Model summary: 213 layers, 7012822 parameters, 0 gradients, 15.8 GFLOPs\n",
            "Downloading https://ultralytics.com/assets/Arial.ttf to /root/.config/Ultralytics/Arial.ttf...\n",
            "100% 755k/755k [00:00<00:00, 14.6MB/s]\n",
            "\u001b[34m\u001b[1mval: \u001b[0mScanning '/content/fypdataset/labels/validation' images and labels...688 found, 0 missing, 0 empty, 0 corrupt: 100% 688/688 [00:00<00:00, 1538.33it/s]\n",
            "\u001b[34m\u001b[1mval: \u001b[0mNew cache created: /content/fypdataset/labels/validation.cache\n",
            "               Class     Images     Labels          P          R     mAP@.5 mAP@.5:.95: 100% 22/22 [04:11<00:00, 11.45s/it]\n",
            "                 all        688        749      0.949      0.945      0.967      0.736\n",
            "Speed: 2.5ms pre-process, 359.5ms inference, 0.7ms NMS per image at shape (32, 3, 640, 640)\n",
            "Results saved to \u001b[1mruns/val/exp\u001b[0m\n"
          ]
        }
      ]
    },
    {
      "cell_type": "code",
      "source": [
        "!python detect.py --weights /content/best.pt --img 640 --conf 0.5 --source /content/fypdataset/images/testing\n"
      ],
      "metadata": {
        "id": "KlHl3EBUkxYQ"
      },
      "execution_count": null,
      "outputs": []
    },
    {
      "cell_type": "code",
      "source": [
        "!zip /content/yolov5/runs/val.zip -r /content/yolov5/runs/val\n",
        "!zip /content/yolov5/runs/detect.zip -r /content/yolov5/runs/detect"
      ],
      "metadata": {
        "id": "2j0i2AE_oSfH"
      },
      "execution_count": null,
      "outputs": []
    },
    {
      "cell_type": "markdown",
      "source": [
        "* Training chunk3:"
      ],
      "metadata": {
        "id": "pPVrRyrnt6ow"
      }
    },
    {
      "cell_type": "code",
      "source": [
        "!python train.py --img 640 --batch 12 --epochs 10  --data /content/yolov5/data/custom_dataset.yaml --weights /content/best.pt --cache"
      ],
      "metadata": {
        "colab": {
          "base_uri": "https://localhost:8080/"
        },
        "id": "coUZaFeJt6VW",
        "outputId": "c1ff35a4-4849-425b-8a39-44900d87c6e0"
      },
      "execution_count": null,
      "outputs": [
        {
          "output_type": "stream",
          "name": "stdout",
          "text": [
            "\u001b[34m\u001b[1mtrain: \u001b[0mweights=/content/best.pt, cfg=, data=/content/yolov5/data/custom_dataset.yaml, hyp=data/hyps/hyp.scratch-low.yaml, epochs=10, batch_size=12, imgsz=640, rect=False, resume=False, nosave=False, noval=False, noautoanchor=False, noplots=False, evolve=None, bucket=, cache=ram, image_weights=False, device=, multi_scale=False, single_cls=False, optimizer=SGD, sync_bn=False, workers=8, project=runs/train, name=exp, exist_ok=False, quad=False, cos_lr=False, label_smoothing=0.0, patience=100, freeze=[0], save_period=-1, seed=0, local_rank=-1, entity=None, upload_dataset=False, bbox_interval=-1, artifact_alias=latest\n",
            "remote: Enumerating objects: 11, done.\u001b[K\n",
            "remote: Counting objects: 100% (11/11), done.\u001b[K\n",
            "remote: Compressing objects: 100% (2/2), done.\u001b[K\n",
            "remote: Total 6 (delta 4), reused 6 (delta 4), pack-reused 0\u001b[K\n",
            "Unpacking objects: 100% (6/6), done.\n",
            "From https://github.com/ultralytics/yolov5\n",
            "   c526341..62cceed  classifier -> origin/classifier\n",
            "\u001b[34m\u001b[1mgithub: \u001b[0mup to date with https://github.com/ultralytics/yolov5 ✅\n",
            "YOLOv5 🚀 v6.1-306-gfbe67e4 Python-3.7.13 torch-1.12.0+cu113 CPU\n",
            "\n",
            "\u001b[34m\u001b[1mhyperparameters: \u001b[0mlr0=0.01, lrf=0.01, momentum=0.937, weight_decay=0.0005, warmup_epochs=3.0, warmup_momentum=0.8, warmup_bias_lr=0.1, box=0.05, cls=0.5, cls_pw=1.0, obj=1.0, obj_pw=1.0, iou_t=0.2, anchor_t=4.0, fl_gamma=0.0, hsv_h=0.015, hsv_s=0.7, hsv_v=0.4, degrees=0.0, translate=0.1, scale=0.5, shear=0.0, perspective=0.0, flipud=0.0, fliplr=0.5, mosaic=1.0, mixup=0.0, copy_paste=0.0\n",
            "\u001b[34m\u001b[1mWeights & Biases: \u001b[0mrun 'pip install wandb' to automatically track and visualize YOLOv5 🚀 runs (RECOMMENDED)\n",
            "\u001b[34m\u001b[1mTensorBoard: \u001b[0mStart with 'tensorboard --logdir runs/train', view at http://localhost:6006/\n",
            "\n",
            "                 from  n    params  module                                  arguments                     \n",
            "  0                -1  1      3520  models.common.Conv                      [3, 32, 6, 2, 2]              \n",
            "  1                -1  1     18560  models.common.Conv                      [32, 64, 3, 2]                \n",
            "  2                -1  1     18816  models.common.C3                        [64, 64, 1]                   \n",
            "  3                -1  1     73984  models.common.Conv                      [64, 128, 3, 2]               \n",
            "  4                -1  2    115712  models.common.C3                        [128, 128, 2]                 \n",
            "  5                -1  1    295424  models.common.Conv                      [128, 256, 3, 2]              \n",
            "  6                -1  3    625152  models.common.C3                        [256, 256, 3]                 \n",
            "  7                -1  1   1180672  models.common.Conv                      [256, 512, 3, 2]              \n",
            "  8                -1  1   1182720  models.common.C3                        [512, 512, 1]                 \n",
            "  9                -1  1    656896  models.common.SPPF                      [512, 512, 5]                 \n",
            " 10                -1  1    131584  models.common.Conv                      [512, 256, 1, 1]              \n",
            " 11                -1  1         0  torch.nn.modules.upsampling.Upsample    [None, 2, 'nearest']          \n",
            " 12           [-1, 6]  1         0  models.common.Concat                    [1]                           \n",
            " 13                -1  1    361984  models.common.C3                        [512, 256, 1, False]          \n",
            " 14                -1  1     33024  models.common.Conv                      [256, 128, 1, 1]              \n",
            " 15                -1  1         0  torch.nn.modules.upsampling.Upsample    [None, 2, 'nearest']          \n",
            " 16           [-1, 4]  1         0  models.common.Concat                    [1]                           \n",
            " 17                -1  1     90880  models.common.C3                        [256, 128, 1, False]          \n",
            " 18                -1  1    147712  models.common.Conv                      [128, 128, 3, 2]              \n",
            " 19          [-1, 14]  1         0  models.common.Concat                    [1]                           \n",
            " 20                -1  1    296448  models.common.C3                        [256, 256, 1, False]          \n",
            " 21                -1  1    590336  models.common.Conv                      [256, 256, 3, 2]              \n",
            " 22          [-1, 10]  1         0  models.common.Concat                    [1]                           \n",
            " 23                -1  1   1182720  models.common.C3                        [512, 512, 1, False]          \n",
            " 24      [17, 20, 23]  1     16182  models.yolo.Detect                      [1, [[10, 13, 16, 30, 33, 23], [30, 61, 62, 45, 59, 119], [116, 90, 156, 198, 373, 326]], [128, 256, 512]]\n",
            "Model summary: 270 layers, 7022326 parameters, 7022326 gradients, 15.9 GFLOPs\n",
            "\n",
            "Transferred 349/349 items from /content/best.pt\n",
            "Scaled weight_decay = 0.00046875\n",
            "\u001b[34m\u001b[1moptimizer:\u001b[0m SGD with parameter groups 57 weight (no decay), 60 weight, 60 bias\n",
            "\u001b[34m\u001b[1malbumentations: \u001b[0mversion 1.0.3 required by YOLOv5, but version 0.1.12 is currently installed\n",
            "\u001b[34m\u001b[1mtrain: \u001b[0mScanning '/content/fypdataset/labels/training4' images and labels...1100 found, 0 missing, 0 empty, 0 corrupt: 100% 1100/1100 [00:01<00:00, 904.17it/s]\n",
            "\u001b[34m\u001b[1mtrain: \u001b[0mNew cache created: /content/fypdataset/labels/training4.cache\n",
            "\u001b[34m\u001b[1mtrain: \u001b[0mCaching images (1.0GB ram): 100% 1100/1100 [00:06<00:00, 161.68it/s]\n",
            "\u001b[34m\u001b[1mval: \u001b[0mScanning '/content/fypdataset/labels/validation.cache' images and labels... 688 found, 0 missing, 0 empty, 0 corrupt: 100% 688/688 [00:00<?, ?it/s]\n",
            "\u001b[34m\u001b[1mval: \u001b[0mCaching images (0.6GB ram): 100% 688/688 [00:04<00:00, 141.24it/s]\n",
            "Plotting labels to runs/train/exp/labels.jpg... \n",
            "\n",
            "\u001b[34m\u001b[1mAutoAnchor: \u001b[0m2.55 anchors/target, 1.000 Best Possible Recall (BPR). Current anchors are a good fit to dataset ✅\n",
            "Image sizes 640 train, 640 val\n",
            "Using 2 dataloader workers\n",
            "Logging results to \u001b[1mruns/train/exp\u001b[0m\n",
            "Starting training for 10 epochs...\n",
            "\n",
            "     Epoch   gpu_mem       box       obj       cls    labels  img_size\n",
            "       0/9        0G    0.0214   0.01537         0        23       640: 100% 92/92 [25:02<00:00, 16.34s/it]\n",
            "               Class     Images     Labels          P          R     mAP@.5 mAP@.5:.95: 100% 29/29 [04:18<00:00,  8.90s/it]\n",
            "                 all        688        749      0.942      0.948      0.963      0.737\n",
            "\n",
            "     Epoch   gpu_mem       box       obj       cls    labels  img_size\n",
            "       1/9        0G   0.02303   0.01527         0        21       640: 100% 92/92 [24:51<00:00, 16.21s/it]\n",
            "               Class     Images     Labels          P          R     mAP@.5 mAP@.5:.95: 100% 29/29 [04:23<00:00,  9.08s/it]\n",
            "                 all        688        749      0.949      0.939      0.966      0.732\n",
            "\n",
            "     Epoch   gpu_mem       box       obj       cls    labels  img_size\n",
            "       2/9        0G   0.02373   0.01488         0        21       640: 100% 92/92 [25:11<00:00, 16.42s/it]\n",
            "               Class     Images     Labels          P          R     mAP@.5 mAP@.5:.95: 100% 29/29 [04:22<00:00,  9.04s/it]\n",
            "                 all        688        749      0.946      0.927       0.97      0.699\n",
            "\n",
            "     Epoch   gpu_mem       box       obj       cls    labels  img_size\n",
            "       3/9        0G   0.02466   0.01496         0        17       640: 100% 92/92 [25:19<00:00, 16.52s/it]\n",
            "               Class     Images     Labels          P          R     mAP@.5 mAP@.5:.95: 100% 29/29 [04:25<00:00,  9.14s/it]\n",
            "                 all        688        749      0.921      0.892      0.949      0.673\n",
            "\n",
            "     Epoch   gpu_mem       box       obj       cls    labels  img_size\n",
            "       4/9        0G   0.02432    0.0153         0        26       640: 100% 92/92 [25:13<00:00, 16.45s/it]\n",
            "               Class     Images     Labels          P          R     mAP@.5 mAP@.5:.95: 100% 29/29 [04:21<00:00,  9.00s/it]\n",
            "                 all        688        749      0.937      0.928       0.96      0.699\n",
            "\n",
            "     Epoch   gpu_mem       box       obj       cls    labels  img_size\n",
            "       5/9        0G   0.02327   0.01526         0        24       640: 100% 92/92 [25:02<00:00, 16.33s/it]\n",
            "               Class     Images     Labels          P          R     mAP@.5 mAP@.5:.95: 100% 29/29 [04:23<00:00,  9.09s/it]\n",
            "                 all        688        749      0.939      0.923      0.957      0.688\n",
            "\n",
            "     Epoch   gpu_mem       box       obj       cls    labels  img_size\n",
            "       6/9        0G   0.02204   0.01478         0        17       640: 100% 92/92 [25:14<00:00, 16.46s/it]\n",
            "               Class     Images     Labels          P          R     mAP@.5 mAP@.5:.95: 100% 29/29 [04:25<00:00,  9.17s/it]\n",
            "                 all        688        749      0.937      0.937      0.962      0.713\n",
            "\n",
            "     Epoch   gpu_mem       box       obj       cls    labels  img_size\n",
            "       7/9        0G   0.02107   0.01445         0        27       640: 100% 92/92 [25:29<00:00, 16.63s/it]\n",
            "               Class     Images     Labels          P          R     mAP@.5 mAP@.5:.95: 100% 29/29 [04:25<00:00,  9.16s/it]\n",
            "                 all        688        749      0.949      0.925      0.963      0.726\n",
            "\n",
            "     Epoch   gpu_mem       box       obj       cls    labels  img_size\n",
            "       8/9        0G   0.02005   0.01397         0        29       640: 100% 92/92 [25:13<00:00, 16.45s/it]\n",
            "               Class     Images     Labels          P          R     mAP@.5 mAP@.5:.95: 100% 29/29 [04:23<00:00,  9.08s/it]\n",
            "                 all        688        749      0.949      0.937      0.971      0.745\n",
            "\n",
            "     Epoch   gpu_mem       box       obj       cls    labels  img_size\n",
            "       9/9        0G   0.02126   0.01396         0        25       640: 100% 92/92 [25:03<00:00, 16.34s/it]\n",
            "               Class     Images     Labels          P          R     mAP@.5 mAP@.5:.95: 100% 29/29 [04:22<00:00,  9.05s/it]\n",
            "                 all        688        749       0.96      0.936      0.969      0.752\n",
            "\n",
            "10 epochs completed in 4.927 hours.\n",
            "Optimizer stripped from runs/train/exp/weights/last.pt, 14.4MB\n",
            "Optimizer stripped from runs/train/exp/weights/best.pt, 14.4MB\n",
            "\n",
            "Validating runs/train/exp/weights/best.pt...\n",
            "Fusing layers... \n",
            "Model summary: 213 layers, 7012822 parameters, 0 gradients, 15.8 GFLOPs\n",
            "               Class     Images     Labels          P          R     mAP@.5 mAP@.5:.95: 100% 29/29 [04:07<00:00,  8.55s/it]\n",
            "                 all        688        749       0.96      0.936      0.969      0.752\n",
            "Results saved to \u001b[1mruns/train/exp\u001b[0m\n"
          ]
        }
      ]
    },
    {
      "cell_type": "code",
      "source": [
        "!python val.py --weights /content/yolov5/runs/train/exp/weights/best.pt --data /content/yolov5/data/custom_dataset.yaml --img 640\n",
        "!python detect.py --weights /content/yolov5/runs/train/exp/weights/best.pt --img 640 --conf 0.5 --source /content/fypdataset/images/testing\n"
      ],
      "metadata": {
        "id": "1aSwwfxiz71h"
      },
      "execution_count": null,
      "outputs": []
    },
    {
      "cell_type": "code",
      "source": [
        "!zip /content/yolov5/runs/train/exp.zip -r /content/yolov5/runs/train/exp"
      ],
      "metadata": {
        "id": "Aev7dl4J23nX"
      },
      "execution_count": null,
      "outputs": []
    },
    {
      "cell_type": "code",
      "source": [
        "!python detect.py --weights /content/best.pt --img 640 --conf 0.5 --source /content/video1.mp4"
      ],
      "metadata": {
        "id": "zRyWpYD62w-V"
      },
      "execution_count": null,
      "outputs": []
    },
    {
      "cell_type": "markdown",
      "source": [
        "* Training chunk5:"
      ],
      "metadata": {
        "id": "6VNzSr-o0lHm"
      }
    },
    {
      "cell_type": "code",
      "source": [
        "!python train.py --img 640 --batch 12 --epochs 10  --data /content/yolov5/data/custom_dataset.yaml --weights /content/best.pt --cache"
      ],
      "metadata": {
        "colab": {
          "base_uri": "https://localhost:8080/"
        },
        "id": "k5YccTi70joi",
        "outputId": "801717a7-313f-45f9-f5b3-a2d1befde19e"
      },
      "execution_count": null,
      "outputs": [
        {
          "output_type": "stream",
          "name": "stdout",
          "text": [
            "\u001b[34m\u001b[1mtrain: \u001b[0mweights=/content/best.pt, cfg=, data=/content/yolov5/data/custom_dataset.yaml, hyp=data/hyps/hyp.scratch-low.yaml, epochs=10, batch_size=12, imgsz=640, rect=False, resume=False, nosave=False, noval=False, noautoanchor=False, noplots=False, evolve=None, bucket=, cache=ram, image_weights=False, device=, multi_scale=False, single_cls=False, optimizer=SGD, sync_bn=False, workers=8, project=runs/train, name=exp, exist_ok=False, quad=False, cos_lr=False, label_smoothing=0.0, patience=100, freeze=[0], save_period=-1, seed=0, local_rank=-1, entity=None, upload_dataset=False, bbox_interval=-1, artifact_alias=latest\n",
            "\u001b[34m\u001b[1mgithub: \u001b[0mup to date with https://github.com/ultralytics/yolov5 ✅\n",
            "YOLOv5 🚀 v6.1-307-g92e47b8 Python-3.7.13 torch-1.12.0+cu113 CPU\n",
            "\n",
            "\u001b[34m\u001b[1mhyperparameters: \u001b[0mlr0=0.01, lrf=0.01, momentum=0.937, weight_decay=0.0005, warmup_epochs=3.0, warmup_momentum=0.8, warmup_bias_lr=0.1, box=0.05, cls=0.5, cls_pw=1.0, obj=1.0, obj_pw=1.0, iou_t=0.2, anchor_t=4.0, fl_gamma=0.0, hsv_h=0.015, hsv_s=0.7, hsv_v=0.4, degrees=0.0, translate=0.1, scale=0.5, shear=0.0, perspective=0.0, flipud=0.0, fliplr=0.5, mosaic=1.0, mixup=0.0, copy_paste=0.0\n",
            "\u001b[34m\u001b[1mWeights & Biases: \u001b[0mrun 'pip install wandb' to automatically track and visualize YOLOv5 🚀 runs (RECOMMENDED)\n",
            "\u001b[34m\u001b[1mTensorBoard: \u001b[0mStart with 'tensorboard --logdir runs/train', view at http://localhost:6006/\n",
            "Downloading https://ultralytics.com/assets/Arial.ttf to /root/.config/Ultralytics/Arial.ttf...\n",
            "100% 755k/755k [00:00<00:00, 18.3MB/s]\n",
            "\n",
            "                 from  n    params  module                                  arguments                     \n",
            "  0                -1  1      3520  models.common.Conv                      [3, 32, 6, 2, 2]              \n",
            "  1                -1  1     18560  models.common.Conv                      [32, 64, 3, 2]                \n",
            "  2                -1  1     18816  models.common.C3                        [64, 64, 1]                   \n",
            "  3                -1  1     73984  models.common.Conv                      [64, 128, 3, 2]               \n",
            "  4                -1  2    115712  models.common.C3                        [128, 128, 2]                 \n",
            "  5                -1  1    295424  models.common.Conv                      [128, 256, 3, 2]              \n",
            "  6                -1  3    625152  models.common.C3                        [256, 256, 3]                 \n",
            "  7                -1  1   1180672  models.common.Conv                      [256, 512, 3, 2]              \n",
            "  8                -1  1   1182720  models.common.C3                        [512, 512, 1]                 \n",
            "  9                -1  1    656896  models.common.SPPF                      [512, 512, 5]                 \n",
            " 10                -1  1    131584  models.common.Conv                      [512, 256, 1, 1]              \n",
            " 11                -1  1         0  torch.nn.modules.upsampling.Upsample    [None, 2, 'nearest']          \n",
            " 12           [-1, 6]  1         0  models.common.Concat                    [1]                           \n",
            " 13                -1  1    361984  models.common.C3                        [512, 256, 1, False]          \n",
            " 14                -1  1     33024  models.common.Conv                      [256, 128, 1, 1]              \n",
            " 15                -1  1         0  torch.nn.modules.upsampling.Upsample    [None, 2, 'nearest']          \n",
            " 16           [-1, 4]  1         0  models.common.Concat                    [1]                           \n",
            " 17                -1  1     90880  models.common.C3                        [256, 128, 1, False]          \n",
            " 18                -1  1    147712  models.common.Conv                      [128, 128, 3, 2]              \n",
            " 19          [-1, 14]  1         0  models.common.Concat                    [1]                           \n",
            " 20                -1  1    296448  models.common.C3                        [256, 256, 1, False]          \n",
            " 21                -1  1    590336  models.common.Conv                      [256, 256, 3, 2]              \n",
            " 22          [-1, 10]  1         0  models.common.Concat                    [1]                           \n",
            " 23                -1  1   1182720  models.common.C3                        [512, 512, 1, False]          \n",
            " 24      [17, 20, 23]  1     16182  models.yolo.Detect                      [1, [[10, 13, 16, 30, 33, 23], [30, 61, 62, 45, 59, 119], [116, 90, 156, 198, 373, 326]], [128, 256, 512]]\n",
            "Model summary: 270 layers, 7022326 parameters, 7022326 gradients, 15.9 GFLOPs\n",
            "\n",
            "Transferred 349/349 items from /content/best.pt\n",
            "Scaled weight_decay = 0.00046875\n",
            "\u001b[34m\u001b[1moptimizer:\u001b[0m SGD with parameter groups 57 weight (no decay), 60 weight, 60 bias\n",
            "\u001b[34m\u001b[1malbumentations: \u001b[0mversion 1.0.3 required by YOLOv5, but version 0.1.12 is currently installed\n",
            "\u001b[34m\u001b[1mtrain: \u001b[0mScanning '/content/fypdataset/labels/training5' images and labels...1100 found, 0 missing, 0 empty, 0 corrupt: 100% 1100/1100 [00:00<00:00, 1482.44it/s]\n",
            "\u001b[34m\u001b[1mtrain: \u001b[0mNew cache created: /content/fypdataset/labels/training5.cache\n",
            "\u001b[34m\u001b[1mtrain: \u001b[0mCaching images (1.0GB ram): 100% 1100/1100 [00:06<00:00, 175.82it/s]\n",
            "\u001b[34m\u001b[1mval: \u001b[0mScanning '/content/fypdataset/labels/validation' images and labels...688 found, 0 missing, 0 empty, 0 corrupt: 100% 688/688 [00:00<00:00, 726.13it/s]\n",
            "\u001b[34m\u001b[1mval: \u001b[0mNew cache created: /content/fypdataset/labels/validation.cache\n",
            "\u001b[34m\u001b[1mval: \u001b[0mCaching images (0.6GB ram): 100% 688/688 [00:04<00:00, 169.09it/s]\n",
            "Plotting labels to runs/train/exp/labels.jpg... \n",
            "\n",
            "\u001b[34m\u001b[1mAutoAnchor: \u001b[0m2.53 anchors/target, 1.000 Best Possible Recall (BPR). Current anchors are a good fit to dataset ✅\n",
            "Image sizes 640 train, 640 val\n",
            "Using 2 dataloader workers\n",
            "Logging results to \u001b[1mruns/train/exp\u001b[0m\n",
            "Starting training for 10 epochs...\n",
            "\n",
            "     Epoch   gpu_mem       box       obj       cls    labels  img_size\n",
            "       0/9        0G   0.01879   0.01389         0        22       640: 100% 92/92 [24:27<00:00, 15.95s/it]\n",
            "               Class     Images     Labels          P          R     mAP@.5 mAP@.5:.95: 100% 29/29 [04:05<00:00,  8.48s/it]\n",
            "                 all        688        749      0.943      0.949      0.973       0.76\n",
            "\n",
            "     Epoch   gpu_mem       box       obj       cls    labels  img_size\n",
            "       1/9        0G   0.02081   0.01418         0        20       640: 100% 92/92 [24:39<00:00, 16.08s/it]\n",
            "               Class     Images     Labels          P          R     mAP@.5 mAP@.5:.95: 100% 29/29 [04:07<00:00,  8.54s/it]\n",
            "                 all        688        749      0.966      0.931      0.971      0.759\n",
            "\n",
            "     Epoch   gpu_mem       box       obj       cls    labels  img_size\n",
            "       2/9        0G   0.02183   0.01375         0        23       640: 100% 92/92 [24:34<00:00, 16.03s/it]\n",
            "               Class     Images     Labels          P          R     mAP@.5 mAP@.5:.95: 100% 29/29 [04:06<00:00,  8.49s/it]\n",
            "                 all        688        749       0.95      0.937      0.961      0.702\n",
            "\n",
            "     Epoch   gpu_mem       box       obj       cls    labels  img_size\n",
            "       3/9        0G   0.02236   0.01374         0        14       640: 100% 92/92 [24:20<00:00, 15.88s/it]\n",
            "               Class     Images     Labels          P          R     mAP@.5 mAP@.5:.95: 100% 29/29 [04:06<00:00,  8.49s/it]\n",
            "                 all        688        749      0.949      0.908      0.962      0.712\n",
            "\n",
            "     Epoch   gpu_mem       box       obj       cls    labels  img_size\n",
            "       4/9        0G   0.02187   0.01423         0        20       640: 100% 92/92 [24:18<00:00, 15.86s/it]\n",
            "               Class     Images     Labels          P          R     mAP@.5 mAP@.5:.95: 100% 29/29 [04:02<00:00,  8.36s/it]\n",
            "                 all        688        749      0.945      0.932      0.962      0.696\n",
            "\n",
            "     Epoch   gpu_mem       box       obj       cls    labels  img_size\n",
            "       5/9        0G   0.02351   0.01406         0        25       640: 100% 92/92 [23:43<00:00, 15.47s/it]\n",
            "               Class     Images     Labels          P          R     mAP@.5 mAP@.5:.95: 100% 29/29 [03:57<00:00,  8.19s/it]\n",
            "                 all        688        749      0.955      0.938      0.966      0.727\n",
            "\n",
            "     Epoch   gpu_mem       box       obj       cls    labels  img_size\n",
            "       6/9        0G   0.02106   0.01429         0        17       640: 100% 92/92 [24:10<00:00, 15.77s/it]\n",
            "               Class     Images     Labels          P          R     mAP@.5 mAP@.5:.95: 100% 29/29 [04:03<00:00,  8.39s/it]\n",
            "                 all        688        749      0.946       0.94       0.97      0.717\n",
            "\n",
            "     Epoch   gpu_mem       box       obj       cls    labels  img_size\n",
            "       7/9        0G   0.02235   0.01349         0        27       640: 100% 92/92 [24:03<00:00, 15.69s/it]\n",
            "               Class     Images     Labels          P          R     mAP@.5 mAP@.5:.95: 100% 29/29 [04:01<00:00,  8.32s/it]\n",
            "                 all        688        749      0.965       0.92      0.966      0.732\n",
            "\n",
            "     Epoch   gpu_mem       box       obj       cls    labels  img_size\n",
            "       8/9        0G   0.02011   0.01328         0        30       640: 100% 92/92 [23:55<00:00, 15.61s/it]\n",
            "               Class     Images     Labels          P          R     mAP@.5 mAP@.5:.95: 100% 29/29 [04:00<00:00,  8.30s/it]\n",
            "                 all        688        749      0.968      0.944      0.971       0.75\n",
            "\n",
            "     Epoch   gpu_mem       box       obj       cls    labels  img_size\n",
            "       9/9        0G   0.01762   0.01306         0        20       640: 100% 92/92 [23:55<00:00, 15.60s/it]\n",
            "               Class     Images     Labels          P          R     mAP@.5 mAP@.5:.95: 100% 29/29 [03:58<00:00,  8.21s/it]\n",
            "                 all        688        749      0.972      0.941      0.971      0.758\n",
            "\n",
            "10 epochs completed in 4.712 hours.\n",
            "Optimizer stripped from runs/train/exp/weights/last.pt, 14.4MB\n",
            "Optimizer stripped from runs/train/exp/weights/best.pt, 14.4MB\n",
            "\n",
            "Validating runs/train/exp/weights/best.pt...\n",
            "Fusing layers... \n",
            "Model summary: 213 layers, 7012822 parameters, 0 gradients, 15.8 GFLOPs\n",
            "               Class     Images     Labels          P          R     mAP@.5 mAP@.5:.95: 100% 29/29 [03:45<00:00,  7.78s/it]\n",
            "                 all        688        749      0.944      0.949      0.974      0.759\n",
            "Results saved to \u001b[1mruns/train/exp\u001b[0m\n"
          ]
        }
      ]
    },
    {
      "cell_type": "code",
      "source": [
        "!zip /content/yolov5/runs/train/exp -r /content/yolov5/runs/train/exp"
      ],
      "metadata": {
        "id": "E-zAmGgGHAKd"
      },
      "execution_count": null,
      "outputs": []
    },
    {
      "cell_type": "code",
      "source": [
        "!python val.py --weights /content/yolov5/runs/train/exp/weights/best.pt --data /content/yolov5/data/custom_dataset.yaml --img 640\n",
        "!python detect.py --weights /content/yolov5/runs/train/exp/weights/best.pt --img 640 --conf 0.5 --source /content/fypdataset/images/testing\n"
      ],
      "metadata": {
        "id": "GQlwoLSO1oYg"
      },
      "execution_count": null,
      "outputs": []
    },
    {
      "cell_type": "code",
      "source": [
        "!python detect.py --weights /content/yolov5/runs/train/exp/weights/best.pt --img 640 --conf 0.5 --source /content/video1.mp4\n",
        "!python detect.py --weights /content/yolov5/runs/train/exp/weights/best.pt --img 640 --conf 0.5 --source /content/video2.mp4"
      ],
      "metadata": {
        "id": "LbfmyLXCqBzu"
      },
      "execution_count": null,
      "outputs": []
    },
    {
      "cell_type": "code",
      "source": [
        "!zip /content/yolov5/runs/val/exp -r /content/yolov5/runs/val/exp"
      ],
      "metadata": {
        "id": "LS6i35G_oMQK"
      },
      "execution_count": null,
      "outputs": []
    },
    {
      "cell_type": "code",
      "source": [
        "!zip /content/yolov5/runs/detect/exp5 -r /content/yolov5/runs/detect/exp5"
      ],
      "metadata": {
        "id": "moOMKjVxvbXA"
      },
      "execution_count": null,
      "outputs": []
    },
    {
      "cell_type": "code",
      "source": [
        "!unzip /content/dogs.zip"
      ],
      "metadata": {
        "id": "nP1utx21xuzU"
      },
      "execution_count": null,
      "outputs": []
    },
    {
      "cell_type": "code",
      "source": [
        "!python detect.py --weights /content/yolov5/runs/train/exp/weights/best.pt --img 640 --conf 0.9 --source /content/yolov5/dogs\n"
      ],
      "metadata": {
        "colab": {
          "base_uri": "https://localhost:8080/"
        },
        "id": "fSZztRnLxyOm",
        "outputId": "414c837a-f82a-4a63-d251-ccb088c89469"
      },
      "execution_count": null,
      "outputs": [
        {
          "output_type": "stream",
          "name": "stdout",
          "text": [
            "\u001b[34m\u001b[1mdetect: \u001b[0mweights=['/content/yolov5/runs/train/exp/weights/best.pt'], source=/content/yolov5/dogs, data=data/coco128.yaml, imgsz=[640, 640], conf_thres=0.9, iou_thres=0.45, max_det=1000, device=, view_img=False, save_txt=False, save_conf=False, save_crop=False, nosave=False, classes=None, agnostic_nms=False, augment=False, visualize=False, update=False, project=runs/detect, name=exp, exist_ok=False, line_thickness=3, hide_labels=False, hide_conf=False, half=False, dnn=False\n",
            "YOLOv5 🚀 v6.1-307-g92e47b8 Python-3.7.13 torch-1.12.0+cu113 CPU\n",
            "\n",
            "Fusing layers... \n",
            "Model summary: 213 layers, 7012822 parameters, 0 gradients, 15.8 GFLOPs\n",
            "image 1/180 /content/yolov5/dogs/5d8fa8bb0c0b0.jpg: 288x640 Done. (0.186s)\n",
            "image 2/180 /content/yolov5/dogs/download (1).jpg: 448x640 Done. (0.292s)\n",
            "image 3/180 /content/yolov5/dogs/download (10).jpg: 352x640 Done. (0.219s)\n",
            "image 4/180 /content/yolov5/dogs/download (11).jpg: 416x640 Done. (0.266s)\n",
            "image 5/180 /content/yolov5/dogs/download (12).jpg: 384x640 Done. (0.239s)\n",
            "image 6/180 /content/yolov5/dogs/download (13).jpg: 384x640 Done. (0.231s)\n",
            "image 7/180 /content/yolov5/dogs/download (14).jpg: 384x640 Done. (0.226s)\n",
            "image 8/180 /content/yolov5/dogs/download (15).jpg: 384x640 Done. (0.231s)\n",
            "image 9/180 /content/yolov5/dogs/download (16).jpg: 448x640 Done. (0.284s)\n",
            "image 10/180 /content/yolov5/dogs/download (17).jpg: 384x640 Done. (0.232s)\n",
            "image 11/180 /content/yolov5/dogs/download (18).jpg: 640x640 Done. (0.406s)\n",
            "image 12/180 /content/yolov5/dogs/download (19).jpg: 480x640 Done. (0.309s)\n",
            "image 13/180 /content/yolov5/dogs/download (2).jpg: 384x640 1 Dog, Done. (0.234s)\n",
            "image 14/180 /content/yolov5/dogs/download (20).jpg: 640x448 Done. (0.280s)\n",
            "image 15/180 /content/yolov5/dogs/download (21).jpg: 480x640 Done. (0.296s)\n",
            "image 16/180 /content/yolov5/dogs/download (22).jpg: 640x480 Done. (0.294s)\n",
            "image 17/180 /content/yolov5/dogs/download (23).jpg: 480x640 Done. (0.286s)\n",
            "image 18/180 /content/yolov5/dogs/download (24).jpg: 480x640 Done. (0.272s)\n",
            "image 19/180 /content/yolov5/dogs/download (25).jpg: 448x640 1 Dog, Done. (0.271s)\n",
            "image 20/180 /content/yolov5/dogs/download (26).jpg: 480x640 Done. (0.286s)\n",
            "image 21/180 /content/yolov5/dogs/download (27).jpg: 640x640 Done. (0.389s)\n",
            "image 22/180 /content/yolov5/dogs/download (28).jpg: 448x640 1 Dog, Done. (0.281s)\n",
            "image 23/180 /content/yolov5/dogs/download (29).jpg: 448x640 Done. (0.271s)\n",
            "image 24/180 /content/yolov5/dogs/download (3).jpg: 352x640 Done. (0.215s)\n",
            "image 25/180 /content/yolov5/dogs/download (30).jpg: 448x640 1 Dog, Done. (0.275s)\n",
            "image 26/180 /content/yolov5/dogs/download (31).jpg: 640x640 Done. (0.396s)\n",
            "image 27/180 /content/yolov5/dogs/download (32).jpg: 384x640 Done. (0.232s)\n",
            "image 28/180 /content/yolov5/dogs/download (33).jpg: 448x640 1 Dog, Done. (0.271s)\n",
            "image 29/180 /content/yolov5/dogs/download (34).jpg: 384x640 Done. (0.229s)\n",
            "image 30/180 /content/yolov5/dogs/download (35).jpg: 448x640 Done. (0.283s)\n",
            "image 31/180 /content/yolov5/dogs/download (4).jpg: 384x640 Done. (0.233s)\n",
            "image 32/180 /content/yolov5/dogs/download (5).jpg: 448x640 Done. (0.261s)\n",
            "image 33/180 /content/yolov5/dogs/download (6).jpg: 384x640 Done. (0.229s)\n",
            "image 34/180 /content/yolov5/dogs/download (7).jpg: 384x640 Done. (0.242s)\n",
            "image 35/180 /content/yolov5/dogs/download (8).jpg: 448x640 Done. (0.270s)\n",
            "image 36/180 /content/yolov5/dogs/download (9).jpg: 352x640 Done. (0.205s)\n",
            "image 37/180 /content/yolov5/dogs/download.jpg: 480x640 Done. (0.280s)\n",
            "image 38/180 /content/yolov5/dogs/images (1).jpg: 480x640 Done. (0.298s)\n",
            "image 39/180 /content/yolov5/dogs/images (10).jpg: 384x640 Done. (0.235s)\n",
            "image 40/180 /content/yolov5/dogs/images (100).jpg: 416x640 Done. (0.256s)\n",
            "image 41/180 /content/yolov5/dogs/images (11).jpg: 352x640 Done. (0.218s)\n",
            "image 42/180 /content/yolov5/dogs/images (12).jpg: 480x640 Done. (0.289s)\n",
            "image 43/180 /content/yolov5/dogs/images (13).jpg: 384x640 Done. (0.230s)\n",
            "image 44/180 /content/yolov5/dogs/images (14).jpg: 416x640 Done. (0.253s)\n",
            "image 45/180 /content/yolov5/dogs/images (15).jpg: 384x640 Done. (0.238s)\n",
            "image 46/180 /content/yolov5/dogs/images (16).jpg: 480x640 Done. (0.295s)\n",
            "image 47/180 /content/yolov5/dogs/images (17).jpg: 416x640 Done. (0.248s)\n",
            "image 48/180 /content/yolov5/dogs/images (18).jpg: 480x640 Done. (0.283s)\n",
            "image 49/180 /content/yolov5/dogs/images (19).jpg: 384x640 Done. (0.242s)\n",
            "image 50/180 /content/yolov5/dogs/images (2).jpg: 480x640 1 Dog, Done. (0.288s)\n",
            "image 51/180 /content/yolov5/dogs/images (20).jpg: 352x640 1 Dog, Done. (0.211s)\n",
            "image 52/180 /content/yolov5/dogs/images (21).jpg: 384x640 2 Dogs, Done. (0.230s)\n",
            "image 53/180 /content/yolov5/dogs/images (22).jpg: 384x640 1 Dog, Done. (0.242s)\n",
            "image 54/180 /content/yolov5/dogs/images (23).jpg: 320x640 2 Dogs, Done. (0.205s)\n",
            "image 55/180 /content/yolov5/dogs/images (24).jpg: 416x640 Done. (0.257s)\n",
            "image 56/180 /content/yolov5/dogs/images (25).jpg: 480x640 Done. (0.294s)\n",
            "image 57/180 /content/yolov5/dogs/images (26).jpg: 480x640 Done. (0.320s)\n",
            "image 58/180 /content/yolov5/dogs/images (27).jpg: 384x640 Done. (0.234s)\n",
            "image 59/180 /content/yolov5/dogs/images (28).jpg: 448x640 Done. (0.273s)\n",
            "image 60/180 /content/yolov5/dogs/images (29).jpg: 384x640 Done. (0.240s)\n",
            "image 61/180 /content/yolov5/dogs/images (3).jpg: 448x640 Done. (0.292s)\n",
            "image 62/180 /content/yolov5/dogs/images (30).jpg: 384x640 Done. (0.238s)\n",
            "image 63/180 /content/yolov5/dogs/images (31).jpg: 384x640 Done. (0.228s)\n",
            "image 64/180 /content/yolov5/dogs/images (32).jpg: 480x640 Done. (0.289s)\n",
            "image 65/180 /content/yolov5/dogs/images (33).jpg: 416x640 Done. (0.267s)\n",
            "image 66/180 /content/yolov5/dogs/images (34).jpg: 384x640 1 Dog, Done. (0.232s)\n",
            "image 67/180 /content/yolov5/dogs/images (35).jpg: 384x640 1 Dog, Done. (0.238s)\n",
            "image 68/180 /content/yolov5/dogs/images (36).jpg: 480x640 Done. (0.291s)\n",
            "image 69/180 /content/yolov5/dogs/images (37).jpg: 448x640 Done. (0.279s)\n",
            "image 70/180 /content/yolov5/dogs/images (38).jpg: 352x640 Done. (0.210s)\n",
            "image 71/180 /content/yolov5/dogs/images (39).jpg: 480x640 Done. (0.278s)\n",
            "image 72/180 /content/yolov5/dogs/images (4).jpg: 352x640 1 Dog, Done. (0.210s)\n",
            "image 73/180 /content/yolov5/dogs/images (40).jpg: 288x640 Done. (0.188s)\n",
            "image 74/180 /content/yolov5/dogs/images (41).jpg: 384x640 Done. (0.239s)\n",
            "image 75/180 /content/yolov5/dogs/images (42).jpg: 448x640 Done. (0.279s)\n",
            "image 76/180 /content/yolov5/dogs/images (43).jpg: 416x640 Done. (0.251s)\n",
            "image 77/180 /content/yolov5/dogs/images (44).jpg: 384x640 Done. (0.245s)\n",
            "image 78/180 /content/yolov5/dogs/images (45).jpg: 480x640 1 Dog, Done. (0.284s)\n",
            "image 79/180 /content/yolov5/dogs/images (46).jpg: 352x640 Done. (0.209s)\n",
            "image 80/180 /content/yolov5/dogs/images (47).jpg: 480x640 Done. (0.290s)\n",
            "image 81/180 /content/yolov5/dogs/images (48).jpg: 640x640 Done. (0.395s)\n",
            "image 82/180 /content/yolov5/dogs/images (49).jpg: 448x640 Done. (0.269s)\n",
            "image 83/180 /content/yolov5/dogs/images (5).jpg: 352x640 Done. (0.211s)\n",
            "image 84/180 /content/yolov5/dogs/images (50).jpg: 384x640 Done. (0.235s)\n",
            "image 85/180 /content/yolov5/dogs/images (51).jpg: 384x640 Done. (0.236s)\n",
            "image 86/180 /content/yolov5/dogs/images (52).jpg: 480x640 Done. (0.295s)\n",
            "image 87/180 /content/yolov5/dogs/images (53).jpg: 320x640 1 Dog, Done. (0.199s)\n",
            "image 88/180 /content/yolov5/dogs/images (54).jpg: 384x640 Done. (0.235s)\n",
            "image 89/180 /content/yolov5/dogs/images (55).jpg: 352x640 1 Dog, Done. (0.230s)\n",
            "image 90/180 /content/yolov5/dogs/images (56).jpg: 320x640 Done. (0.204s)\n",
            "image 91/180 /content/yolov5/dogs/images (57).jpg: 384x640 1 Dog, Done. (0.243s)\n",
            "image 92/180 /content/yolov5/dogs/images (58).jpg: 480x640 1 Dog, Done. (0.298s)\n",
            "image 93/180 /content/yolov5/dogs/images (59).jpg: 384x640 1 Dog, Done. (0.245s)\n",
            "image 94/180 /content/yolov5/dogs/images (6).jpg: 448x640 Done. (0.274s)\n",
            "image 95/180 /content/yolov5/dogs/images (60).jpg: 448x640 Done. (0.273s)\n",
            "image 96/180 /content/yolov5/dogs/images (61).jpg: 352x640 Done. (0.221s)\n",
            "image 97/180 /content/yolov5/dogs/images (62).jpg: 480x640 Done. (0.310s)\n",
            "image 98/180 /content/yolov5/dogs/images (63).jpg: 416x640 Done. (0.270s)\n",
            "image 99/180 /content/yolov5/dogs/images (64).jpg: 416x640 Done. (0.271s)\n",
            "image 100/180 /content/yolov5/dogs/images (65).jpg: 448x640 1 Dog, Done. (0.291s)\n",
            "image 101/180 /content/yolov5/dogs/images (66).jpg: 320x640 Done. (0.202s)\n",
            "image 102/180 /content/yolov5/dogs/images (67).jpg: 384x640 1 Dog, Done. (0.248s)\n",
            "image 103/180 /content/yolov5/dogs/images (68).jpg: 384x640 1 Dog, Done. (0.240s)\n",
            "image 104/180 /content/yolov5/dogs/images (69).jpg: 384x640 1 Dog, Done. (0.242s)\n",
            "image 105/180 /content/yolov5/dogs/images (7).jpg: 384x640 Done. (0.236s)\n",
            "image 106/180 /content/yolov5/dogs/images (70).jpg: 480x640 Done. (0.296s)\n",
            "image 107/180 /content/yolov5/dogs/images (71).jpg: 416x640 1 Dog, Done. (0.254s)\n",
            "image 108/180 /content/yolov5/dogs/images (72).jpg: 384x640 1 Dog, Done. (0.242s)\n",
            "image 109/180 /content/yolov5/dogs/images (73).jpg: 384x640 Done. (0.236s)\n",
            "image 110/180 /content/yolov5/dogs/images (74).jpg: 448x640 Done. (0.273s)\n",
            "image 111/180 /content/yolov5/dogs/images (75).jpg: 480x640 Done. (0.301s)\n",
            "image 112/180 /content/yolov5/dogs/images (76).jpg: 384x640 Done. (0.259s)\n",
            "image 113/180 /content/yolov5/dogs/images (77).jpg: 416x640 2 Dogs, Done. (0.264s)\n",
            "image 114/180 /content/yolov5/dogs/images (78).jpg: 448x640 Done. (0.286s)\n",
            "image 115/180 /content/yolov5/dogs/images (79).jpg: 384x640 Done. (0.241s)\n",
            "image 116/180 /content/yolov5/dogs/images (8).jpg: 480x640 Done. (0.304s)\n",
            "image 117/180 /content/yolov5/dogs/images (80).jpg: 384x640 Done. (0.237s)\n",
            "image 118/180 /content/yolov5/dogs/images (81).jpg: 448x640 Done. (0.279s)\n",
            "image 119/180 /content/yolov5/dogs/images (82).jpg: 480x640 Done. (0.301s)\n",
            "image 120/180 /content/yolov5/dogs/images (83).jpg: 480x640 Done. (0.280s)\n",
            "image 121/180 /content/yolov5/dogs/images (84).jpg: 384x640 Done. (0.231s)\n",
            "image 122/180 /content/yolov5/dogs/images (85).jpg: 384x640 Done. (0.239s)\n",
            "image 123/180 /content/yolov5/dogs/images (86).jpg: 384x640 Done. (0.237s)\n",
            "image 124/180 /content/yolov5/dogs/images (87).jpg: 640x640 Done. (0.381s)\n",
            "image 125/180 /content/yolov5/dogs/images (88).jpg: 480x640 Done. (0.284s)\n",
            "image 126/180 /content/yolov5/dogs/images (89).jpg: 384x640 Done. (0.229s)\n",
            "image 127/180 /content/yolov5/dogs/images (9).jpg: 352x640 Done. (0.225s)\n",
            "image 128/180 /content/yolov5/dogs/images (90).jpg: 448x640 Done. (0.266s)\n",
            "image 129/180 /content/yolov5/dogs/images (91).jpg: 448x640 Done. (0.272s)\n",
            "image 130/180 /content/yolov5/dogs/images (92).jpg: 480x640 Done. (0.292s)\n",
            "image 131/180 /content/yolov5/dogs/images (93).jpg: 544x640 Done. (0.340s)\n",
            "image 132/180 /content/yolov5/dogs/images (94).jpg: 448x640 Done. (0.269s)\n",
            "image 133/180 /content/yolov5/dogs/images (95).jpg: 384x640 Done. (0.227s)\n",
            "image 134/180 /content/yolov5/dogs/images (96).jpg: 640x640 Done. (0.398s)\n",
            "image 135/180 /content/yolov5/dogs/images (97).jpg: 384x640 Done. (0.238s)\n",
            "image 136/180 /content/yolov5/dogs/images (98).jpg: 448x640 1 Dog, Done. (0.272s)\n",
            "image 137/180 /content/yolov5/dogs/images (99).jpg: 448x640 Done. (0.260s)\n",
            "image 138/180 /content/yolov5/dogs/images - 2022-04-24T173026.205.jpg: 480x640 Done. (0.288s)\n",
            "image 139/180 /content/yolov5/dogs/images - 2022-04-24T173039.522.jpg: 640x640 Done. (0.392s)\n",
            "image 140/180 /content/yolov5/dogs/images - 2022-04-24T173043.365.jpg: 640x448 1 Dog, Done. (0.273s)\n",
            "image 141/180 /content/yolov5/dogs/images - 2022-04-24T173046.987.jpg: 640x384 Done. (0.242s)\n",
            "image 142/180 /content/yolov5/dogs/images - 2022-04-24T173051.067.jpg: 480x640 1 Dog, Done. (0.302s)\n",
            "image 143/180 /content/yolov5/dogs/images - 2022-04-24T173055.552.jpg: 640x640 Done. (0.396s)\n",
            "image 144/180 /content/yolov5/dogs/images - 2022-04-24T173101.027.jpg: 480x640 Done. (0.307s)\n",
            "image 145/180 /content/yolov5/dogs/images - 2022-04-24T173105.378.jpg: 576x640 Done. (0.353s)\n",
            "image 146/180 /content/yolov5/dogs/images - 2022-04-24T173111.254.jpg: 384x640 Done. (0.229s)\n",
            "image 147/180 /content/yolov5/dogs/images - 2022-04-24T173114.353.jpg: 320x640 Done. (0.192s)\n",
            "image 148/180 /content/yolov5/dogs/images - 2022-04-24T173120.592.jpg: 448x640 Done. (0.278s)\n",
            "image 149/180 /content/yolov5/dogs/images - 2022-04-24T173136.045.jpg: 480x640 1 Dog, Done. (0.287s)\n",
            "image 150/180 /content/yolov5/dogs/images - 2022-04-24T173146.789.jpg: 544x640 Done. (0.323s)\n",
            "image 151/180 /content/yolov5/dogs/images - 2022-04-24T173150.635.jpg: 320x640 1 Dog, Done. (0.206s)\n",
            "image 152/180 /content/yolov5/dogs/images - 2022-04-24T173157.348.jpg: 480x640 1 Dog, Done. (0.303s)\n",
            "image 153/180 /content/yolov5/dogs/images - 2022-04-24T173207.289.jpg: 352x640 Done. (0.213s)\n",
            "image 154/180 /content/yolov5/dogs/images - 2022-04-24T173212.852.jpg: 448x640 Done. (0.274s)\n",
            "image 155/180 /content/yolov5/dogs/images - 2022-04-24T173348.862.jpg: 608x640 Done. (0.400s)\n",
            "image 156/180 /content/yolov5/dogs/images - 2022-04-24T173404.112.jpg: 384x640 Done. (0.245s)\n",
            "image 157/180 /content/yolov5/dogs/images - 2022-04-24T173506.535.jpg: 288x640 Done. (0.191s)\n",
            "image 158/180 /content/yolov5/dogs/images - 2022-04-24T173514.794.jpg: 384x640 Done. (0.230s)\n",
            "image 159/180 /content/yolov5/dogs/images - 2022-04-24T173517.965.jpg: 384x640 Done. (0.246s)\n",
            "image 160/180 /content/yolov5/dogs/images - 2022-04-24T173524.145.jpg: 320x640 1 Dog, Done. (0.198s)\n",
            "image 161/180 /content/yolov5/dogs/images - 2022-04-24T173529.322.jpg: 384x640 Done. (0.241s)\n",
            "image 162/180 /content/yolov5/dogs/images - 2022-04-24T173537.212.jpg: 384x640 Done. (0.243s)\n",
            "image 163/180 /content/yolov5/dogs/images - 2022-04-24T173541.020.jpg: 384x640 Done. (0.241s)\n",
            "image 164/180 /content/yolov5/dogs/images - 2022-04-24T173549.872.jpg: 448x640 Done. (0.273s)\n",
            "image 165/180 /content/yolov5/dogs/images - 2022-04-24T173601.634.jpg: 384x640 1 Dog, Done. (0.234s)\n",
            "image 166/180 /content/yolov5/dogs/images - 2022-04-24T173610.609.jpg: 480x640 Done. (0.287s)\n",
            "image 167/180 /content/yolov5/dogs/images - 2022-04-24T173613.818.jpg: 448x640 Done. (0.281s)\n",
            "image 168/180 /content/yolov5/dogs/images - 2022-04-24T173624.282.jpg: 384x640 Done. (0.236s)\n",
            "image 169/180 /content/yolov5/dogs/images - 2022-04-24T173628.619.jpg: 480x640 Done. (0.303s)\n",
            "image 170/180 /content/yolov5/dogs/images - 2022-04-24T173637.499.jpg: 416x640 1 Dog, Done. (0.261s)\n",
            "image 171/180 /content/yolov5/dogs/images - 2022-04-24T173642.392.jpg: 384x640 Done. (0.247s)\n",
            "image 172/180 /content/yolov5/dogs/images - 2022-04-24T173646.052.jpg: 384x640 1 Dog, Done. (0.237s)\n",
            "image 173/180 /content/yolov5/dogs/images - 2022-04-24T173651.596.jpg: 480x640 Done. (0.292s)\n",
            "image 174/180 /content/yolov5/dogs/images - 2022-04-24T173655.953.jpg: 640x576 1 Dog, Done. (0.367s)\n",
            "image 175/180 /content/yolov5/dogs/images - 2022-04-24T173659.642.jpg: 384x640 1 Dog, Done. (0.252s)\n",
            "image 176/180 /content/yolov5/dogs/images - 2022-04-24T173706.435.jpg: 384x640 Done. (0.237s)\n",
            "image 177/180 /content/yolov5/dogs/images - 2022-04-24T173718.721.jpg: 448x640 Done. (0.272s)\n",
            "image 178/180 /content/yolov5/dogs/images - 2022-04-24T173736.147.jpg: 416x640 1 Dog, Done. (0.300s)\n",
            "image 179/180 /content/yolov5/dogs/images - 2022-04-24T173748.352.jpg: 384x640 Done. (0.239s)\n",
            "image 180/180 /content/yolov5/dogs/images.jpg: 384x640 Done. (0.243s)\n",
            "Speed: 1.2ms pre-process, 264.2ms inference, 0.3ms NMS per image at shape (1, 3, 640, 640)\n",
            "Results saved to \u001b[1mruns/detect/exp8\u001b[0m\n"
          ]
        }
      ]
    },
    {
      "cell_type": "code",
      "source": [
        "!zip /content/yolov5/runs/detect/exp8 -r /content/yolov5/runs/detect/exp8"
      ],
      "metadata": {
        "id": "rf7IZlfwyYeO"
      },
      "execution_count": null,
      "outputs": []
    },
    {
      "cell_type": "code",
      "source": [
        "!python detect.py --weights /content/best.pt --img 640 --conf 0.9 --source /content/yolov5/dogs\n"
      ],
      "metadata": {
        "colab": {
          "base_uri": "https://localhost:8080/"
        },
        "id": "cenpAp90yzdH",
        "outputId": "f5ff0a36-2767-4a5f-a0ba-be002194b8c9"
      },
      "execution_count": null,
      "outputs": [
        {
          "output_type": "stream",
          "name": "stdout",
          "text": [
            "\u001b[34m\u001b[1mdetect: \u001b[0mweights=['/content/best.pt'], source=/content/yolov5/dogs, data=data/coco128.yaml, imgsz=[640, 640], conf_thres=0.9, iou_thres=0.45, max_det=1000, device=, view_img=False, save_txt=False, save_conf=False, save_crop=False, nosave=False, classes=None, agnostic_nms=False, augment=False, visualize=False, update=False, project=runs/detect, name=exp, exist_ok=False, line_thickness=3, hide_labels=False, hide_conf=False, half=False, dnn=False\n",
            "YOLOv5 🚀 v6.1-307-g92e47b8 Python-3.7.13 torch-1.12.0+cu113 CPU\n",
            "\n",
            "Fusing layers... \n",
            "Model summary: 213 layers, 7012822 parameters, 0 gradients, 15.8 GFLOPs\n",
            "image 1/180 /content/yolov5/dogs/5d8fa8bb0c0b0.jpg: 288x640 Done. (0.199s)\n",
            "image 2/180 /content/yolov5/dogs/download (1).jpg: 448x640 Done. (0.287s)\n",
            "image 3/180 /content/yolov5/dogs/download (10).jpg: 352x640 Done. (0.236s)\n",
            "image 4/180 /content/yolov5/dogs/download (11).jpg: 416x640 Done. (0.267s)\n",
            "image 5/180 /content/yolov5/dogs/download (12).jpg: 384x640 Done. (0.252s)\n",
            "image 6/180 /content/yolov5/dogs/download (13).jpg: 384x640 Done. (0.233s)\n",
            "image 7/180 /content/yolov5/dogs/download (14).jpg: 384x640 Done. (0.258s)\n",
            "image 8/180 /content/yolov5/dogs/download (15).jpg: 384x640 Done. (0.237s)\n",
            "image 9/180 /content/yolov5/dogs/download (16).jpg: 448x640 Done. (0.277s)\n",
            "image 10/180 /content/yolov5/dogs/download (17).jpg: 384x640 Done. (0.246s)\n",
            "image 11/180 /content/yolov5/dogs/download (18).jpg: 640x640 Done. (0.414s)\n",
            "image 12/180 /content/yolov5/dogs/download (19).jpg: 480x640 Done. (0.301s)\n",
            "image 13/180 /content/yolov5/dogs/download (2).jpg: 384x640 1 Dog, Done. (0.226s)\n",
            "image 14/180 /content/yolov5/dogs/download (20).jpg: 640x448 Done. (0.283s)\n",
            "image 15/180 /content/yolov5/dogs/download (21).jpg: 480x640 Done. (0.284s)\n",
            "image 16/180 /content/yolov5/dogs/download (22).jpg: 640x480 Done. (0.295s)\n",
            "image 17/180 /content/yolov5/dogs/download (23).jpg: 480x640 Done. (0.293s)\n",
            "image 18/180 /content/yolov5/dogs/download (24).jpg: 480x640 Done. (0.297s)\n",
            "image 19/180 /content/yolov5/dogs/download (25).jpg: 448x640 Done. (0.287s)\n",
            "image 20/180 /content/yolov5/dogs/download (26).jpg: 480x640 Done. (0.294s)\n",
            "image 21/180 /content/yolov5/dogs/download (27).jpg: 640x640 Done. (0.398s)\n",
            "image 22/180 /content/yolov5/dogs/download (28).jpg: 448x640 1 Dog, Done. (0.266s)\n",
            "image 23/180 /content/yolov5/dogs/download (29).jpg: 448x640 Done. (0.283s)\n",
            "image 24/180 /content/yolov5/dogs/download (3).jpg: 352x640 Done. (0.209s)\n",
            "image 25/180 /content/yolov5/dogs/download (30).jpg: 448x640 1 Dog, Done. (0.282s)\n",
            "image 26/180 /content/yolov5/dogs/download (31).jpg: 640x640 Done. (0.384s)\n",
            "image 27/180 /content/yolov5/dogs/download (32).jpg: 384x640 Done. (0.227s)\n",
            "image 28/180 /content/yolov5/dogs/download (33).jpg: 448x640 Done. (0.284s)\n",
            "image 29/180 /content/yolov5/dogs/download (34).jpg: 384x640 Done. (0.240s)\n",
            "image 30/180 /content/yolov5/dogs/download (35).jpg: 448x640 Done. (0.283s)\n",
            "image 31/180 /content/yolov5/dogs/download (4).jpg: 384x640 Done. (0.242s)\n",
            "image 32/180 /content/yolov5/dogs/download (5).jpg: 448x640 Done. (0.283s)\n",
            "image 33/180 /content/yolov5/dogs/download (6).jpg: 384x640 Done. (0.244s)\n",
            "image 34/180 /content/yolov5/dogs/download (7).jpg: 384x640 Done. (0.234s)\n",
            "image 35/180 /content/yolov5/dogs/download (8).jpg: 448x640 Done. (0.266s)\n",
            "image 36/180 /content/yolov5/dogs/download (9).jpg: 352x640 Done. (0.223s)\n",
            "image 37/180 /content/yolov5/dogs/download.jpg: 480x640 Done. (0.296s)\n",
            "image 38/180 /content/yolov5/dogs/images (1).jpg: 480x640 Done. (0.289s)\n",
            "image 39/180 /content/yolov5/dogs/images (10).jpg: 384x640 Done. (0.237s)\n",
            "image 40/180 /content/yolov5/dogs/images (100).jpg: 416x640 Done. (0.255s)\n",
            "image 41/180 /content/yolov5/dogs/images (11).jpg: 352x640 Done. (0.213s)\n",
            "image 42/180 /content/yolov5/dogs/images (12).jpg: 480x640 Done. (0.287s)\n",
            "image 43/180 /content/yolov5/dogs/images (13).jpg: 384x640 Done. (0.239s)\n",
            "image 44/180 /content/yolov5/dogs/images (14).jpg: 416x640 Done. (0.256s)\n",
            "image 45/180 /content/yolov5/dogs/images (15).jpg: 384x640 Done. (0.236s)\n",
            "image 46/180 /content/yolov5/dogs/images (16).jpg: 480x640 Done. (0.291s)\n",
            "image 47/180 /content/yolov5/dogs/images (17).jpg: 416x640 Done. (0.283s)\n",
            "image 48/180 /content/yolov5/dogs/images (18).jpg: 480x640 Done. (0.299s)\n",
            "image 49/180 /content/yolov5/dogs/images (19).jpg: 384x640 Done. (0.235s)\n",
            "image 50/180 /content/yolov5/dogs/images (2).jpg: 480x640 Done. (0.292s)\n",
            "image 51/180 /content/yolov5/dogs/images (20).jpg: 352x640 1 Dog, Done. (0.222s)\n",
            "image 52/180 /content/yolov5/dogs/images (21).jpg: 384x640 2 Dogs, Done. (0.236s)\n",
            "image 53/180 /content/yolov5/dogs/images (22).jpg: 384x640 1 Dog, Done. (0.232s)\n",
            "image 54/180 /content/yolov5/dogs/images (23).jpg: 320x640 1 Dog, Done. (0.207s)\n",
            "image 55/180 /content/yolov5/dogs/images (24).jpg: 416x640 Done. (0.268s)\n",
            "image 56/180 /content/yolov5/dogs/images (25).jpg: 480x640 Done. (0.295s)\n",
            "image 57/180 /content/yolov5/dogs/images (26).jpg: 480x640 Done. (0.290s)\n",
            "image 58/180 /content/yolov5/dogs/images (27).jpg: 384x640 Done. (0.231s)\n",
            "image 59/180 /content/yolov5/dogs/images (28).jpg: 448x640 Done. (0.285s)\n",
            "image 60/180 /content/yolov5/dogs/images (29).jpg: 384x640 Done. (0.233s)\n",
            "image 61/180 /content/yolov5/dogs/images (3).jpg: 448x640 Done. (0.264s)\n",
            "image 62/180 /content/yolov5/dogs/images (30).jpg: 384x640 Done. (0.246s)\n",
            "image 63/180 /content/yolov5/dogs/images (31).jpg: 384x640 1 Dog, Done. (0.255s)\n",
            "image 64/180 /content/yolov5/dogs/images (32).jpg: 480x640 Done. (0.295s)\n",
            "image 65/180 /content/yolov5/dogs/images (33).jpg: 416x640 Done. (0.250s)\n",
            "image 66/180 /content/yolov5/dogs/images (34).jpg: 384x640 1 Dog, Done. (0.239s)\n",
            "image 67/180 /content/yolov5/dogs/images (35).jpg: 384x640 1 Dog, Done. (0.251s)\n",
            "image 68/180 /content/yolov5/dogs/images (36).jpg: 480x640 Done. (0.297s)\n",
            "image 69/180 /content/yolov5/dogs/images (37).jpg: 448x640 Done. (0.265s)\n",
            "image 70/180 /content/yolov5/dogs/images (38).jpg: 352x640 Done. (0.220s)\n",
            "image 71/180 /content/yolov5/dogs/images (39).jpg: 480x640 Done. (0.305s)\n",
            "image 72/180 /content/yolov5/dogs/images (4).jpg: 352x640 1 Dog, Done. (0.212s)\n",
            "image 73/180 /content/yolov5/dogs/images (40).jpg: 288x640 Done. (0.183s)\n",
            "image 74/180 /content/yolov5/dogs/images (41).jpg: 384x640 Done. (0.237s)\n",
            "image 75/180 /content/yolov5/dogs/images (42).jpg: 448x640 Done. (0.292s)\n",
            "image 76/180 /content/yolov5/dogs/images (43).jpg: 416x640 Done. (0.263s)\n",
            "image 77/180 /content/yolov5/dogs/images (44).jpg: 384x640 Done. (0.242s)\n",
            "image 78/180 /content/yolov5/dogs/images (45).jpg: 480x640 1 Dog, Done. (0.307s)\n",
            "image 79/180 /content/yolov5/dogs/images (46).jpg: 352x640 Done. (0.219s)\n",
            "image 80/180 /content/yolov5/dogs/images (47).jpg: 480x640 Done. (0.292s)\n",
            "image 81/180 /content/yolov5/dogs/images (48).jpg: 640x640 Done. (0.406s)\n",
            "image 82/180 /content/yolov5/dogs/images (49).jpg: 448x640 Done. (0.281s)\n",
            "image 83/180 /content/yolov5/dogs/images (5).jpg: 352x640 Done. (0.203s)\n",
            "image 84/180 /content/yolov5/dogs/images (50).jpg: 384x640 Done. (0.238s)\n",
            "image 85/180 /content/yolov5/dogs/images (51).jpg: 384x640 Done. (0.235s)\n",
            "image 86/180 /content/yolov5/dogs/images (52).jpg: 480x640 Done. (0.300s)\n",
            "image 87/180 /content/yolov5/dogs/images (53).jpg: 320x640 Done. (0.209s)\n",
            "image 88/180 /content/yolov5/dogs/images (54).jpg: 384x640 Done. (0.244s)\n",
            "image 89/180 /content/yolov5/dogs/images (55).jpg: 352x640 1 Dog, Done. (0.221s)\n",
            "image 90/180 /content/yolov5/dogs/images (56).jpg: 320x640 Done. (0.218s)\n",
            "image 91/180 /content/yolov5/dogs/images (57).jpg: 384x640 1 Dog, Done. (0.247s)\n",
            "image 92/180 /content/yolov5/dogs/images (58).jpg: 480x640 Done. (0.295s)\n",
            "image 93/180 /content/yolov5/dogs/images (59).jpg: 384x640 1 Dog, Done. (0.244s)\n",
            "image 94/180 /content/yolov5/dogs/images (6).jpg: 448x640 Done. (0.294s)\n",
            "image 95/180 /content/yolov5/dogs/images (60).jpg: 448x640 1 Dog, Done. (0.280s)\n",
            "image 96/180 /content/yolov5/dogs/images (61).jpg: 352x640 Done. (0.224s)\n",
            "image 97/180 /content/yolov5/dogs/images (62).jpg: 480x640 Done. (0.297s)\n",
            "image 98/180 /content/yolov5/dogs/images (63).jpg: 416x640 Done. (0.265s)\n",
            "image 99/180 /content/yolov5/dogs/images (64).jpg: 416x640 Done. (0.251s)\n",
            "image 100/180 /content/yolov5/dogs/images (65).jpg: 448x640 Done. (0.271s)\n",
            "image 101/180 /content/yolov5/dogs/images (66).jpg: 320x640 Done. (0.190s)\n",
            "image 102/180 /content/yolov5/dogs/images (67).jpg: 384x640 Done. (0.244s)\n",
            "image 103/180 /content/yolov5/dogs/images (68).jpg: 384x640 Done. (0.235s)\n",
            "image 104/180 /content/yolov5/dogs/images (69).jpg: 384x640 Done. (0.239s)\n",
            "image 105/180 /content/yolov5/dogs/images (7).jpg: 384x640 Done. (0.243s)\n",
            "image 106/180 /content/yolov5/dogs/images (70).jpg: 480x640 Done. (0.306s)\n",
            "image 107/180 /content/yolov5/dogs/images (71).jpg: 416x640 1 Dog, Done. (0.250s)\n",
            "image 108/180 /content/yolov5/dogs/images (72).jpg: 384x640 1 Dog, Done. (0.248s)\n",
            "image 109/180 /content/yolov5/dogs/images (73).jpg: 384x640 Done. (0.241s)\n",
            "image 110/180 /content/yolov5/dogs/images (74).jpg: 448x640 Done. (0.278s)\n",
            "image 111/180 /content/yolov5/dogs/images (75).jpg: 480x640 Done. (0.302s)\n",
            "image 112/180 /content/yolov5/dogs/images (76).jpg: 384x640 Done. (0.244s)\n",
            "image 113/180 /content/yolov5/dogs/images (77).jpg: 416x640 2 Dogs, Done. (0.269s)\n",
            "image 114/180 /content/yolov5/dogs/images (78).jpg: 448x640 1 Dog, Done. (0.261s)\n",
            "image 115/180 /content/yolov5/dogs/images (79).jpg: 384x640 Done. (0.229s)\n",
            "image 116/180 /content/yolov5/dogs/images (8).jpg: 480x640 Done. (0.288s)\n",
            "image 117/180 /content/yolov5/dogs/images (80).jpg: 384x640 1 Dog, Done. (0.237s)\n",
            "image 118/180 /content/yolov5/dogs/images (81).jpg: 448x640 Done. (0.275s)\n",
            "image 119/180 /content/yolov5/dogs/images (82).jpg: 480x640 Done. (0.308s)\n",
            "image 120/180 /content/yolov5/dogs/images (83).jpg: 480x640 Done. (0.303s)\n",
            "image 121/180 /content/yolov5/dogs/images (84).jpg: 384x640 Done. (0.254s)\n",
            "image 122/180 /content/yolov5/dogs/images (85).jpg: 384x640 Done. (0.237s)\n",
            "image 123/180 /content/yolov5/dogs/images (86).jpg: 384x640 Done. (0.231s)\n",
            "image 124/180 /content/yolov5/dogs/images (87).jpg: 640x640 Done. (0.396s)\n",
            "image 125/180 /content/yolov5/dogs/images (88).jpg: 480x640 Done. (0.291s)\n",
            "image 126/180 /content/yolov5/dogs/images (89).jpg: 384x640 Done. (0.258s)\n",
            "image 127/180 /content/yolov5/dogs/images (9).jpg: 352x640 1 Dog, Done. (0.219s)\n",
            "image 128/180 /content/yolov5/dogs/images (90).jpg: 448x640 Done. (0.278s)\n",
            "image 129/180 /content/yolov5/dogs/images (91).jpg: 448x640 Done. (0.275s)\n",
            "image 130/180 /content/yolov5/dogs/images (92).jpg: 480x640 Done. (0.289s)\n",
            "image 131/180 /content/yolov5/dogs/images (93).jpg: 544x640 Done. (0.337s)\n",
            "image 132/180 /content/yolov5/dogs/images (94).jpg: 448x640 Done. (0.269s)\n",
            "image 133/180 /content/yolov5/dogs/images (95).jpg: 384x640 Done. (0.234s)\n",
            "image 134/180 /content/yolov5/dogs/images (96).jpg: 640x640 Done. (0.381s)\n",
            "image 135/180 /content/yolov5/dogs/images (97).jpg: 384x640 Done. (0.239s)\n",
            "image 136/180 /content/yolov5/dogs/images (98).jpg: 448x640 1 Dog, Done. (0.268s)\n",
            "image 137/180 /content/yolov5/dogs/images (99).jpg: 448x640 Done. (0.273s)\n",
            "image 138/180 /content/yolov5/dogs/images - 2022-04-24T173026.205.jpg: 480x640 Done. (0.296s)\n",
            "image 139/180 /content/yolov5/dogs/images - 2022-04-24T173039.522.jpg: 640x640 Done. (0.392s)\n",
            "image 140/180 /content/yolov5/dogs/images - 2022-04-24T173043.365.jpg: 640x448 1 Dog, Done. (0.280s)\n",
            "image 141/180 /content/yolov5/dogs/images - 2022-04-24T173046.987.jpg: 640x384 Done. (0.235s)\n",
            "image 142/180 /content/yolov5/dogs/images - 2022-04-24T173051.067.jpg: 480x640 2 Dogs, Done. (0.300s)\n",
            "image 143/180 /content/yolov5/dogs/images - 2022-04-24T173055.552.jpg: 640x640 Done. (0.389s)\n",
            "image 144/180 /content/yolov5/dogs/images - 2022-04-24T173101.027.jpg: 480x640 Done. (0.294s)\n",
            "image 145/180 /content/yolov5/dogs/images - 2022-04-24T173105.378.jpg: 576x640 Done. (0.369s)\n",
            "image 146/180 /content/yolov5/dogs/images - 2022-04-24T173111.254.jpg: 384x640 Done. (0.235s)\n",
            "image 147/180 /content/yolov5/dogs/images - 2022-04-24T173114.353.jpg: 320x640 Done. (0.192s)\n",
            "image 148/180 /content/yolov5/dogs/images - 2022-04-24T173120.592.jpg: 448x640 Done. (0.273s)\n",
            "image 149/180 /content/yolov5/dogs/images - 2022-04-24T173136.045.jpg: 480x640 Done. (0.302s)\n",
            "image 150/180 /content/yolov5/dogs/images - 2022-04-24T173146.789.jpg: 544x640 Done. (0.336s)\n",
            "image 151/180 /content/yolov5/dogs/images - 2022-04-24T173150.635.jpg: 320x640 2 Dogs, Done. (0.201s)\n",
            "image 152/180 /content/yolov5/dogs/images - 2022-04-24T173157.348.jpg: 480x640 Done. (0.297s)\n",
            "image 153/180 /content/yolov5/dogs/images - 2022-04-24T173207.289.jpg: 352x640 Done. (0.226s)\n",
            "image 154/180 /content/yolov5/dogs/images - 2022-04-24T173212.852.jpg: 448x640 Done. (0.278s)\n",
            "image 155/180 /content/yolov5/dogs/images - 2022-04-24T173348.862.jpg: 608x640 Done. (0.380s)\n",
            "image 156/180 /content/yolov5/dogs/images - 2022-04-24T173404.112.jpg: 384x640 Done. (0.247s)\n",
            "image 157/180 /content/yolov5/dogs/images - 2022-04-24T173506.535.jpg: 288x640 Done. (0.190s)\n",
            "image 158/180 /content/yolov5/dogs/images - 2022-04-24T173514.794.jpg: 384x640 Done. (0.249s)\n",
            "image 159/180 /content/yolov5/dogs/images - 2022-04-24T173517.965.jpg: 384x640 Done. (0.243s)\n",
            "image 160/180 /content/yolov5/dogs/images - 2022-04-24T173524.145.jpg: 320x640 1 Dog, Done. (0.209s)\n",
            "image 161/180 /content/yolov5/dogs/images - 2022-04-24T173529.322.jpg: 384x640 Done. (0.248s)\n",
            "image 162/180 /content/yolov5/dogs/images - 2022-04-24T173537.212.jpg: 384x640 Done. (0.240s)\n",
            "image 163/180 /content/yolov5/dogs/images - 2022-04-24T173541.020.jpg: 384x640 Done. (0.255s)\n",
            "image 164/180 /content/yolov5/dogs/images - 2022-04-24T173549.872.jpg: 448x640 Done. (0.282s)\n",
            "image 165/180 /content/yolov5/dogs/images - 2022-04-24T173601.634.jpg: 384x640 Done. (0.234s)\n",
            "image 166/180 /content/yolov5/dogs/images - 2022-04-24T173610.609.jpg: 480x640 Done. (0.297s)\n",
            "image 167/180 /content/yolov5/dogs/images - 2022-04-24T173613.818.jpg: 448x640 Done. (0.279s)\n",
            "image 168/180 /content/yolov5/dogs/images - 2022-04-24T173624.282.jpg: 384x640 Done. (0.247s)\n",
            "image 169/180 /content/yolov5/dogs/images - 2022-04-24T173628.619.jpg: 480x640 Done. (0.283s)\n",
            "image 170/180 /content/yolov5/dogs/images - 2022-04-24T173637.499.jpg: 416x640 Done. (0.246s)\n",
            "image 171/180 /content/yolov5/dogs/images - 2022-04-24T173642.392.jpg: 384x640 Done. (0.228s)\n",
            "image 172/180 /content/yolov5/dogs/images - 2022-04-24T173646.052.jpg: 384x640 1 Dog, Done. (0.243s)\n",
            "image 173/180 /content/yolov5/dogs/images - 2022-04-24T173651.596.jpg: 480x640 Done. (0.278s)\n",
            "image 174/180 /content/yolov5/dogs/images - 2022-04-24T173655.953.jpg: 640x576 Done. (0.339s)\n",
            "image 175/180 /content/yolov5/dogs/images - 2022-04-24T173659.642.jpg: 384x640 1 Dog, Done. (0.231s)\n",
            "image 176/180 /content/yolov5/dogs/images - 2022-04-24T173706.435.jpg: 384x640 Done. (0.226s)\n",
            "image 177/180 /content/yolov5/dogs/images - 2022-04-24T173718.721.jpg: 448x640 Done. (0.265s)\n",
            "image 178/180 /content/yolov5/dogs/images - 2022-04-24T173736.147.jpg: 416x640 1 Dog, Done. (0.251s)\n",
            "image 179/180 /content/yolov5/dogs/images - 2022-04-24T173748.352.jpg: 384x640 Done. (0.244s)\n",
            "image 180/180 /content/yolov5/dogs/images.jpg: 384x640 Done. (0.238s)\n",
            "Speed: 1.2ms pre-process, 265.9ms inference, 0.4ms NMS per image at shape (1, 3, 640, 640)\n",
            "Results saved to \u001b[1mruns/detect/exp9\u001b[0m\n"
          ]
        }
      ]
    },
    {
      "cell_type": "code",
      "source": [
        "!zip /content/yolov5/runs/detect/exp9 -r /content/yolov5/runs/detect/exp9"
      ],
      "metadata": {
        "id": "Kt0Zf_tKz0K5"
      },
      "execution_count": null,
      "outputs": []
    },
    {
      "cell_type": "code",
      "source": [
        "# until chunk 4 was trained:\n",
        "\n",
        "!python detect.py --weights /content/best.pt --img 640 --conf 0.5 --source /content/yolov5/dogs"
      ],
      "metadata": {
        "id": "J8gpJmlv0RPI"
      },
      "execution_count": null,
      "outputs": []
    },
    {
      "cell_type": "code",
      "source": [
        "#until chunk 5 was trained:\n",
        "\n",
        "!python detect.py --weights /content/yolov5/runs/train/exp/weights/best.pt --img 640 --conf 0.5 --source /content/yolov5/dogs"
      ],
      "metadata": {
        "colab": {
          "base_uri": "https://localhost:8080/"
        },
        "id": "QaG5oyjl0RD0",
        "outputId": "7ee0937a-95b9-46d2-86ed-0066d7a6d9b7"
      },
      "execution_count": null,
      "outputs": [
        {
          "output_type": "stream",
          "name": "stdout",
          "text": [
            "\u001b[34m\u001b[1mdetect: \u001b[0mweights=['/content/yolov5/runs/train/exp/weights/best.pt'], source=/content/yolov5/dogs, data=data/coco128.yaml, imgsz=[640, 640], conf_thres=0.5, iou_thres=0.45, max_det=1000, device=, view_img=False, save_txt=False, save_conf=False, save_crop=False, nosave=False, classes=None, agnostic_nms=False, augment=False, visualize=False, update=False, project=runs/detect, name=exp, exist_ok=False, line_thickness=3, hide_labels=False, hide_conf=False, half=False, dnn=False\n",
            "YOLOv5 🚀 v6.1-307-g92e47b8 Python-3.7.13 torch-1.12.0+cu113 CPU\n",
            "\n",
            "Fusing layers... \n",
            "Model summary: 213 layers, 7012822 parameters, 0 gradients, 15.8 GFLOPs\n",
            "image 1/180 /content/yolov5/dogs/5d8fa8bb0c0b0.jpg: 288x640 5 Dogs, Done. (0.209s)\n",
            "image 2/180 /content/yolov5/dogs/download (1).jpg: 448x640 2 Dogs, Done. (0.297s)\n",
            "image 3/180 /content/yolov5/dogs/download (10).jpg: 352x640 2 Dogs, Done. (0.242s)\n",
            "image 4/180 /content/yolov5/dogs/download (11).jpg: 416x640 4 Dogs, Done. (0.268s)\n",
            "image 5/180 /content/yolov5/dogs/download (12).jpg: 384x640 4 Dogs, Done. (0.260s)\n",
            "image 6/180 /content/yolov5/dogs/download (13).jpg: 384x640 1 Dog, Done. (0.239s)\n",
            "image 7/180 /content/yolov5/dogs/download (14).jpg: 384x640 1 Dog, Done. (0.249s)\n",
            "image 8/180 /content/yolov5/dogs/download (15).jpg: 384x640 3 Dogs, Done. (0.235s)\n",
            "image 9/180 /content/yolov5/dogs/download (16).jpg: 448x640 Done. (0.279s)\n",
            "image 10/180 /content/yolov5/dogs/download (17).jpg: 384x640 Done. (0.234s)\n",
            "image 11/180 /content/yolov5/dogs/download (18).jpg: 640x640 1 Dog, Done. (0.420s)\n",
            "image 12/180 /content/yolov5/dogs/download (19).jpg: 480x640 1 Dog, Done. (0.301s)\n",
            "image 13/180 /content/yolov5/dogs/download (2).jpg: 384x640 3 Dogs, Done. (0.235s)\n",
            "image 14/180 /content/yolov5/dogs/download (20).jpg: 640x448 1 Dog, Done. (0.296s)\n",
            "image 15/180 /content/yolov5/dogs/download (21).jpg: 480x640 1 Dog, Done. (0.311s)\n",
            "image 16/180 /content/yolov5/dogs/download (22).jpg: 640x480 1 Dog, Done. (0.334s)\n",
            "image 17/180 /content/yolov5/dogs/download (23).jpg: 480x640 1 Dog, Done. (0.312s)\n",
            "image 18/180 /content/yolov5/dogs/download (24).jpg: 480x640 1 Dog, Done. (0.313s)\n",
            "image 19/180 /content/yolov5/dogs/download (25).jpg: 448x640 1 Dog, Done. (0.279s)\n",
            "image 20/180 /content/yolov5/dogs/download (26).jpg: 480x640 1 Dog, Done. (0.298s)\n",
            "image 21/180 /content/yolov5/dogs/download (27).jpg: 640x640 1 Dog, Done. (0.418s)\n",
            "image 22/180 /content/yolov5/dogs/download (28).jpg: 448x640 1 Dog, Done. (0.298s)\n",
            "image 23/180 /content/yolov5/dogs/download (29).jpg: 448x640 1 Dog, Done. (0.301s)\n",
            "image 24/180 /content/yolov5/dogs/download (3).jpg: 352x640 2 Dogs, Done. (0.237s)\n",
            "image 25/180 /content/yolov5/dogs/download (30).jpg: 448x640 1 Dog, Done. (0.289s)\n",
            "image 26/180 /content/yolov5/dogs/download (31).jpg: 640x640 1 Dog, Done. (0.412s)\n",
            "image 27/180 /content/yolov5/dogs/download (32).jpg: 384x640 1 Dog, Done. (0.259s)\n",
            "image 28/180 /content/yolov5/dogs/download (33).jpg: 448x640 1 Dog, Done. (0.281s)\n",
            "image 29/180 /content/yolov5/dogs/download (34).jpg: 384x640 1 Dog, Done. (0.248s)\n",
            "image 30/180 /content/yolov5/dogs/download (35).jpg: 448x640 1 Dog, Done. (0.283s)\n",
            "image 31/180 /content/yolov5/dogs/download (4).jpg: 384x640 5 Dogs, Done. (0.266s)\n",
            "image 32/180 /content/yolov5/dogs/download (5).jpg: 448x640 1 Dog, Done. (0.286s)\n",
            "image 33/180 /content/yolov5/dogs/download (6).jpg: 384x640 Done. (0.240s)\n",
            "image 34/180 /content/yolov5/dogs/download (7).jpg: 384x640 1 Dog, Done. (0.252s)\n",
            "image 35/180 /content/yolov5/dogs/download (8).jpg: 448x640 2 Dogs, Done. (0.277s)\n",
            "image 36/180 /content/yolov5/dogs/download (9).jpg: 352x640 2 Dogs, Done. (0.220s)\n",
            "image 37/180 /content/yolov5/dogs/download.jpg: 480x640 7 Dogs, Done. (0.300s)\n",
            "image 38/180 /content/yolov5/dogs/images (1).jpg: 480x640 1 Dog, Done. (0.313s)\n",
            "image 39/180 /content/yolov5/dogs/images (10).jpg: 384x640 3 Dogs, Done. (0.246s)\n",
            "image 40/180 /content/yolov5/dogs/images (100).jpg: 416x640 1 Dog, Done. (0.260s)\n",
            "image 41/180 /content/yolov5/dogs/images (11).jpg: 352x640 3 Dogs, Done. (0.220s)\n",
            "image 42/180 /content/yolov5/dogs/images (12).jpg: 480x640 3 Dogs, Done. (0.303s)\n",
            "image 43/180 /content/yolov5/dogs/images (13).jpg: 384x640 4 Dogs, Done. (0.234s)\n",
            "image 44/180 /content/yolov5/dogs/images (14).jpg: 416x640 4 Dogs, Done. (0.262s)\n",
            "image 45/180 /content/yolov5/dogs/images (15).jpg: 384x640 2 Dogs, Done. (0.239s)\n",
            "image 46/180 /content/yolov5/dogs/images (16).jpg: 480x640 4 Dogs, Done. (0.311s)\n",
            "image 47/180 /content/yolov5/dogs/images (17).jpg: 416x640 3 Dogs, Done. (0.259s)\n",
            "image 48/180 /content/yolov5/dogs/images (18).jpg: 480x640 2 Dogs, Done. (0.302s)\n",
            "image 49/180 /content/yolov5/dogs/images (19).jpg: 384x640 3 Dogs, Done. (0.251s)\n",
            "image 50/180 /content/yolov5/dogs/images (2).jpg: 480x640 1 Dog, Done. (0.299s)\n",
            "image 51/180 /content/yolov5/dogs/images (20).jpg: 352x640 2 Dogs, Done. (0.221s)\n",
            "image 52/180 /content/yolov5/dogs/images (21).jpg: 384x640 2 Dogs, Done. (0.256s)\n",
            "image 53/180 /content/yolov5/dogs/images (22).jpg: 384x640 2 Dogs, Done. (0.250s)\n",
            "image 54/180 /content/yolov5/dogs/images (23).jpg: 320x640 2 Dogs, Done. (0.211s)\n",
            "image 55/180 /content/yolov5/dogs/images (24).jpg: 416x640 2 Dogs, Done. (0.268s)\n",
            "image 56/180 /content/yolov5/dogs/images (25).jpg: 480x640 Done. (0.295s)\n",
            "image 57/180 /content/yolov5/dogs/images (26).jpg: 480x640 1 Dog, Done. (0.322s)\n",
            "image 58/180 /content/yolov5/dogs/images (27).jpg: 384x640 5 Dogs, Done. (0.253s)\n",
            "image 59/180 /content/yolov5/dogs/images (28).jpg: 448x640 2 Dogs, Done. (0.278s)\n",
            "image 60/180 /content/yolov5/dogs/images (29).jpg: 384x640 3 Dogs, Done. (0.232s)\n",
            "image 61/180 /content/yolov5/dogs/images (3).jpg: 448x640 2 Dogs, Done. (0.284s)\n",
            "image 62/180 /content/yolov5/dogs/images (30).jpg: 384x640 7 Dogs, Done. (0.235s)\n",
            "image 63/180 /content/yolov5/dogs/images (31).jpg: 384x640 1 Dog, Done. (0.238s)\n",
            "image 64/180 /content/yolov5/dogs/images (32).jpg: 480x640 4 Dogs, Done. (0.296s)\n",
            "image 65/180 /content/yolov5/dogs/images (33).jpg: 416x640 3 Dogs, Done. (0.268s)\n",
            "image 66/180 /content/yolov5/dogs/images (34).jpg: 384x640 3 Dogs, Done. (0.245s)\n",
            "image 67/180 /content/yolov5/dogs/images (35).jpg: 384x640 4 Dogs, Done. (0.249s)\n",
            "image 68/180 /content/yolov5/dogs/images (36).jpg: 480x640 4 Dogs, Done. (0.310s)\n",
            "image 69/180 /content/yolov5/dogs/images (37).jpg: 448x640 3 Dogs, Done. (0.283s)\n",
            "image 70/180 /content/yolov5/dogs/images (38).jpg: 352x640 1 Dog, Done. (0.219s)\n",
            "image 71/180 /content/yolov5/dogs/images (39).jpg: 480x640 1 Dog, Done. (0.298s)\n",
            "image 72/180 /content/yolov5/dogs/images (4).jpg: 352x640 2 Dogs, Done. (0.222s)\n",
            "image 73/180 /content/yolov5/dogs/images (40).jpg: 288x640 5 Dogs, Done. (0.179s)\n",
            "image 74/180 /content/yolov5/dogs/images (41).jpg: 384x640 1 Dog, Done. (0.242s)\n",
            "image 75/180 /content/yolov5/dogs/images (42).jpg: 448x640 1 Dog, Done. (0.282s)\n",
            "image 76/180 /content/yolov5/dogs/images (43).jpg: 416x640 3 Dogs, Done. (0.273s)\n",
            "image 77/180 /content/yolov5/dogs/images (44).jpg: 384x640 4 Dogs, Done. (0.252s)\n",
            "image 78/180 /content/yolov5/dogs/images (45).jpg: 480x640 4 Dogs, Done. (0.311s)\n",
            "image 79/180 /content/yolov5/dogs/images (46).jpg: 352x640 2 Dogs, Done. (0.224s)\n",
            "image 80/180 /content/yolov5/dogs/images (47).jpg: 480x640 1 Dog, Done. (0.311s)\n",
            "image 81/180 /content/yolov5/dogs/images (48).jpg: 640x640 1 Dog, Done. (0.402s)\n",
            "image 82/180 /content/yolov5/dogs/images (49).jpg: 448x640 2 Dogs, Done. (0.280s)\n",
            "image 83/180 /content/yolov5/dogs/images (5).jpg: 352x640 2 Dogs, Done. (0.228s)\n",
            "image 84/180 /content/yolov5/dogs/images (50).jpg: 384x640 7 Dogs, Done. (0.242s)\n",
            "image 85/180 /content/yolov5/dogs/images (51).jpg: 384x640 2 Dogs, Done. (0.249s)\n",
            "image 86/180 /content/yolov5/dogs/images (52).jpg: 480x640 2 Dogs, Done. (0.295s)\n",
            "image 87/180 /content/yolov5/dogs/images (53).jpg: 320x640 3 Dogs, Done. (0.203s)\n",
            "image 88/180 /content/yolov5/dogs/images (54).jpg: 384x640 2 Dogs, Done. (0.244s)\n",
            "image 89/180 /content/yolov5/dogs/images (55).jpg: 352x640 2 Dogs, Done. (0.230s)\n",
            "image 90/180 /content/yolov5/dogs/images (56).jpg: 320x640 2 Dogs, Done. (0.216s)\n",
            "image 91/180 /content/yolov5/dogs/images (57).jpg: 384x640 4 Dogs, Done. (0.275s)\n",
            "image 92/180 /content/yolov5/dogs/images (58).jpg: 480x640 1 Dog, Done. (0.311s)\n",
            "image 93/180 /content/yolov5/dogs/images (59).jpg: 384x640 2 Dogs, Done. (0.319s)\n",
            "image 94/180 /content/yolov5/dogs/images (6).jpg: 448x640 2 Dogs, Done. (0.450s)\n",
            "image 95/180 /content/yolov5/dogs/images (60).jpg: 448x640 2 Dogs, Done. (0.467s)\n",
            "image 96/180 /content/yolov5/dogs/images (61).jpg: 352x640 2 Dogs, Done. (0.463s)\n",
            "image 97/180 /content/yolov5/dogs/images (62).jpg: 480x640 1 Dog, Done. (0.349s)\n",
            "image 98/180 /content/yolov5/dogs/images (63).jpg: 416x640 3 Dogs, Done. (0.461s)\n",
            "image 99/180 /content/yolov5/dogs/images (64).jpg: 416x640 1 Dog, Done. (0.452s)\n",
            "image 100/180 /content/yolov5/dogs/images (65).jpg: 448x640 1 Dog, Done. (0.551s)\n",
            "image 101/180 /content/yolov5/dogs/images (66).jpg: 320x640 2 Dogs, Done. (0.526s)\n",
            "image 102/180 /content/yolov5/dogs/images (67).jpg: 384x640 1 Dog, Done. (0.463s)\n",
            "image 103/180 /content/yolov5/dogs/images (68).jpg: 384x640 1 Dog, Done. (0.256s)\n",
            "image 104/180 /content/yolov5/dogs/images (69).jpg: 384x640 1 Dog, Done. (0.243s)\n",
            "image 105/180 /content/yolov5/dogs/images (7).jpg: 384x640 3 Dogs, Done. (0.241s)\n",
            "image 106/180 /content/yolov5/dogs/images (70).jpg: 480x640 4 Dogs, Done. (0.300s)\n",
            "image 107/180 /content/yolov5/dogs/images (71).jpg: 416x640 2 Dogs, Done. (0.280s)\n",
            "image 108/180 /content/yolov5/dogs/images (72).jpg: 384x640 3 Dogs, Done. (0.250s)\n",
            "image 109/180 /content/yolov5/dogs/images (73).jpg: 384x640 2 Dogs, Done. (0.246s)\n",
            "image 110/180 /content/yolov5/dogs/images (74).jpg: 448x640 1 Dog, Done. (0.292s)\n",
            "image 111/180 /content/yolov5/dogs/images (75).jpg: 480x640 1 Dog, Done. (0.315s)\n",
            "image 112/180 /content/yolov5/dogs/images (76).jpg: 384x640 1 Dog, Done. (0.242s)\n",
            "image 113/180 /content/yolov5/dogs/images (77).jpg: 416x640 2 Dogs, Done. (0.267s)\n",
            "image 114/180 /content/yolov5/dogs/images (78).jpg: 448x640 2 Dogs, Done. (0.293s)\n",
            "image 115/180 /content/yolov5/dogs/images (79).jpg: 384x640 2 Dogs, Done. (0.247s)\n",
            "image 116/180 /content/yolov5/dogs/images (8).jpg: 480x640 2 Dogs, Done. (0.306s)\n",
            "image 117/180 /content/yolov5/dogs/images (80).jpg: 384x640 1 Dog, Done. (0.249s)\n",
            "image 118/180 /content/yolov5/dogs/images (81).jpg: 448x640 2 Dogs, Done. (0.305s)\n",
            "image 119/180 /content/yolov5/dogs/images (82).jpg: 480x640 1 Dog, Done. (0.311s)\n",
            "image 120/180 /content/yolov5/dogs/images (83).jpg: 480x640 1 Dog, Done. (0.314s)\n",
            "image 121/180 /content/yolov5/dogs/images (84).jpg: 384x640 Done. (0.259s)\n",
            "image 122/180 /content/yolov5/dogs/images (85).jpg: 384x640 1 Dog, Done. (0.241s)\n",
            "image 123/180 /content/yolov5/dogs/images (86).jpg: 384x640 5 Dogs, Done. (0.246s)\n",
            "image 124/180 /content/yolov5/dogs/images (87).jpg: 640x640 1 Dog, Done. (0.398s)\n",
            "image 125/180 /content/yolov5/dogs/images (88).jpg: 480x640 1 Dog, Done. (0.318s)\n",
            "image 126/180 /content/yolov5/dogs/images (89).jpg: 384x640 2 Dogs, Done. (0.241s)\n",
            "image 127/180 /content/yolov5/dogs/images (9).jpg: 352x640 1 Dog, Done. (0.225s)\n",
            "image 128/180 /content/yolov5/dogs/images (90).jpg: 448x640 3 Dogs, Done. (0.291s)\n",
            "image 129/180 /content/yolov5/dogs/images (91).jpg: 448x640 1 Dog, Done. (0.293s)\n",
            "image 130/180 /content/yolov5/dogs/images (92).jpg: 480x640 1 Dog, Done. (0.303s)\n",
            "image 131/180 /content/yolov5/dogs/images (93).jpg: 544x640 1 Dog, Done. (0.355s)\n",
            "image 132/180 /content/yolov5/dogs/images (94).jpg: 448x640 1 Dog, Done. (0.307s)\n",
            "image 133/180 /content/yolov5/dogs/images (95).jpg: 384x640 1 Dog, Done. (0.253s)\n",
            "image 134/180 /content/yolov5/dogs/images (96).jpg: 640x640 1 Dog, Done. (0.421s)\n",
            "image 135/180 /content/yolov5/dogs/images (97).jpg: 384x640 2 Dogs, Done. (0.243s)\n",
            "image 136/180 /content/yolov5/dogs/images (98).jpg: 448x640 1 Dog, Done. (0.299s)\n",
            "image 137/180 /content/yolov5/dogs/images (99).jpg: 448x640 1 Dog, Done. (0.291s)\n",
            "image 138/180 /content/yolov5/dogs/images - 2022-04-24T173026.205.jpg: 480x640 1 Dog, Done. (0.324s)\n",
            "image 139/180 /content/yolov5/dogs/images - 2022-04-24T173039.522.jpg: 640x640 Done. (0.419s)\n",
            "image 140/180 /content/yolov5/dogs/images - 2022-04-24T173043.365.jpg: 640x448 1 Dog, Done. (0.289s)\n",
            "image 141/180 /content/yolov5/dogs/images - 2022-04-24T173046.987.jpg: 640x384 1 Dog, Done. (0.263s)\n",
            "image 142/180 /content/yolov5/dogs/images - 2022-04-24T173051.067.jpg: 480x640 2 Dogs, Done. (0.334s)\n",
            "image 143/180 /content/yolov5/dogs/images - 2022-04-24T173055.552.jpg: 640x640 1 Dog, Done. (0.425s)\n",
            "image 144/180 /content/yolov5/dogs/images - 2022-04-24T173101.027.jpg: 480x640 1 Dog, Done. (0.324s)\n",
            "image 145/180 /content/yolov5/dogs/images - 2022-04-24T173105.378.jpg: 576x640 1 Dog, Done. (0.380s)\n",
            "image 146/180 /content/yolov5/dogs/images - 2022-04-24T173111.254.jpg: 384x640 2 Dogs, Done. (0.250s)\n",
            "image 147/180 /content/yolov5/dogs/images - 2022-04-24T173114.353.jpg: 320x640 1 Dog, Done. (0.217s)\n",
            "image 148/180 /content/yolov5/dogs/images - 2022-04-24T173120.592.jpg: 448x640 1 Dog, Done. (0.302s)\n",
            "image 149/180 /content/yolov5/dogs/images - 2022-04-24T173136.045.jpg: 480x640 1 Dog, Done. (0.303s)\n",
            "image 150/180 /content/yolov5/dogs/images - 2022-04-24T173146.789.jpg: 544x640 1 Dog, Done. (0.370s)\n",
            "image 151/180 /content/yolov5/dogs/images - 2022-04-24T173150.635.jpg: 320x640 2 Dogs, Done. (0.215s)\n",
            "image 152/180 /content/yolov5/dogs/images - 2022-04-24T173157.348.jpg: 480x640 1 Dog, Done. (0.319s)\n",
            "image 153/180 /content/yolov5/dogs/images - 2022-04-24T173207.289.jpg: 352x640 1 Dog, Done. (0.232s)\n",
            "image 154/180 /content/yolov5/dogs/images - 2022-04-24T173212.852.jpg: 448x640 1 Dog, Done. (0.311s)\n",
            "image 155/180 /content/yolov5/dogs/images - 2022-04-24T173348.862.jpg: 608x640 1 Dog, Done. (0.393s)\n",
            "image 156/180 /content/yolov5/dogs/images - 2022-04-24T173404.112.jpg: 384x640 1 Dog, Done. (0.273s)\n",
            "image 157/180 /content/yolov5/dogs/images - 2022-04-24T173506.535.jpg: 288x640 4 Dogs, Done. (0.196s)\n",
            "image 158/180 /content/yolov5/dogs/images - 2022-04-24T173514.794.jpg: 384x640 4 Dogs, Done. (0.255s)\n",
            "image 159/180 /content/yolov5/dogs/images - 2022-04-24T173517.965.jpg: 384x640 2 Dogs, Done. (0.247s)\n",
            "image 160/180 /content/yolov5/dogs/images - 2022-04-24T173524.145.jpg: 320x640 1 Dog, Done. (0.212s)\n",
            "image 161/180 /content/yolov5/dogs/images - 2022-04-24T173529.322.jpg: 384x640 1 Dog, Done. (0.246s)\n",
            "image 162/180 /content/yolov5/dogs/images - 2022-04-24T173537.212.jpg: 384x640 1 Dog, Done. (0.250s)\n",
            "image 163/180 /content/yolov5/dogs/images - 2022-04-24T173541.020.jpg: 384x640 1 Dog, Done. (0.239s)\n",
            "image 164/180 /content/yolov5/dogs/images - 2022-04-24T173549.872.jpg: 448x640 1 Dog, Done. (0.290s)\n",
            "image 165/180 /content/yolov5/dogs/images - 2022-04-24T173601.634.jpg: 384x640 1 Dog, Done. (0.257s)\n",
            "image 166/180 /content/yolov5/dogs/images - 2022-04-24T173610.609.jpg: 480x640 1 Dog, Done. (0.304s)\n",
            "image 167/180 /content/yolov5/dogs/images - 2022-04-24T173613.818.jpg: 448x640 3 Dogs, Done. (0.287s)\n",
            "image 168/180 /content/yolov5/dogs/images - 2022-04-24T173624.282.jpg: 384x640 Done. (0.250s)\n",
            "image 169/180 /content/yolov5/dogs/images - 2022-04-24T173628.619.jpg: 480x640 2 Dogs, Done. (0.331s)\n",
            "image 170/180 /content/yolov5/dogs/images - 2022-04-24T173637.499.jpg: 416x640 1 Dog, Done. (0.287s)\n",
            "image 171/180 /content/yolov5/dogs/images - 2022-04-24T173642.392.jpg: 384x640 1 Dog, Done. (0.256s)\n",
            "image 172/180 /content/yolov5/dogs/images - 2022-04-24T173646.052.jpg: 384x640 4 Dogs, Done. (0.292s)\n",
            "image 173/180 /content/yolov5/dogs/images - 2022-04-24T173651.596.jpg: 480x640 1 Dog, Done. (0.341s)\n",
            "image 174/180 /content/yolov5/dogs/images - 2022-04-24T173655.953.jpg: 640x576 1 Dog, Done. (0.397s)\n",
            "image 175/180 /content/yolov5/dogs/images - 2022-04-24T173659.642.jpg: 384x640 1 Dog, Done. (0.307s)\n",
            "image 176/180 /content/yolov5/dogs/images - 2022-04-24T173706.435.jpg: 384x640 2 Dogs, Done. (0.270s)\n",
            "image 177/180 /content/yolov5/dogs/images - 2022-04-24T173718.721.jpg: 448x640 2 Dogs, Done. (0.305s)\n",
            "image 178/180 /content/yolov5/dogs/images - 2022-04-24T173736.147.jpg: 416x640 2 Dogs, Done. (0.287s)\n",
            "image 179/180 /content/yolov5/dogs/images - 2022-04-24T173748.352.jpg: 384x640 4 Dogs, Done. (0.271s)\n",
            "image 180/180 /content/yolov5/dogs/images.jpg: 384x640 2 Dogs, Done. (0.267s)\n",
            "Speed: 1.3ms pre-process, 288.9ms inference, 0.9ms NMS per image at shape (1, 3, 640, 640)\n",
            "Results saved to \u001b[1mruns/detect/exp13\u001b[0m\n"
          ]
        }
      ]
    },
    {
      "cell_type": "markdown",
      "source": [
        "exp13 --> chunk5\n",
        "exp12 --> chunk4"
      ],
      "metadata": {
        "id": "80wiasZk3psX"
      }
    },
    {
      "cell_type": "code",
      "source": [
        "\n",
        "!zip /content/yolov5/runs/detect/exp13 -r /content/yolov5/runs/detect/exp13"
      ],
      "metadata": {
        "id": "-ZDIWZWG2M94"
      },
      "execution_count": null,
      "outputs": []
    },
    {
      "cell_type": "markdown",
      "source": [
        "* ------------- the weights of chunk5 are the best! :))\n"
      ],
      "metadata": {
        "id": "r939iV0x5Zvq"
      }
    },
    {
      "cell_type": "markdown",
      "source": [
        "# working on fypdataset3"
      ],
      "metadata": {
        "id": "fvAk18eHQ81r"
      }
    },
    {
      "cell_type": "code",
      "source": [
        "!unzip /content/fypdataset3.zip"
      ],
      "metadata": {
        "id": "wk9XPv5QRCM5"
      },
      "execution_count": null,
      "outputs": []
    },
    {
      "cell_type": "markdown",
      "source": [
        "* we got some png images, so changing them into jpg:"
      ],
      "metadata": {
        "id": "Yjpy_HBcRXao"
      }
    },
    {
      "cell_type": "code",
      "source": [
        "import os\n",
        "from pathlib import Path\n",
        "\n",
        "image_path = \"/content/fypdataset3/images\"\n",
        "\n",
        "for i in os.listdir(image_path):\n",
        "    base = os.path.splitext(i)[0]\n",
        "    os.rename(\"/content/fypdataset3/images/\"+i, \"/content/fypdataset3/images/\" +base + '.jpg')\n"
      ],
      "metadata": {
        "id": "kOQ-FvnCQ_Vc"
      },
      "execution_count": null,
      "outputs": []
    },
    {
      "cell_type": "markdown",
      "source": [
        "* train, val, test split:"
      ],
      "metadata": {
        "id": "k9awV1qfSnzY"
      }
    },
    {
      "cell_type": "code",
      "source": [
        "from sklearn.model_selection import train_test_split\n",
        "import re\n",
        "\n",
        "annotation_root=\"/content/fypdataset3/labels\"\n",
        "root_path=\"/content/fypdataset3\"\n",
        "\n",
        "data = {}\n",
        "path_to_annotation_files = []\n",
        "path_to_image_files = []\n",
        "for i in os.listdir(annotation_root):\n",
        "  annotation_path = os.path.join(annotation_root, i)\n",
        "  y= re.split(\".txt\",i)\n",
        "  image_path = os.path.join(root_path, f\"images/{y[0]}.jpg\")\n",
        "  path_to_annotation_files.append(annotation_path)\n",
        "  path_to_image_files.append(image_path)\n",
        "\n",
        "\n",
        "print(\"no of images: \", len(path_to_annotation_files))\n",
        "print(\"no of labels: \", len(path_to_image_files))\n",
        "\n",
        "train_images, val_images, train_annotations, val_annotations= train_test_split(path_to_image_files, path_to_annotation_files,\n",
        "                                                                               test_size=0.2, random_state=1)\n",
        "\n",
        "val_images, test_images, val_annotations, test_annotations=train_test_split(val_images, val_annotations,\n",
        "                                                                           test_size=0.5, random_state=1)\n",
        "\n"
      ],
      "metadata": {
        "id": "SxsTBoDaSqJI"
      },
      "execution_count": null,
      "outputs": []
    },
    {
      "cell_type": "code",
      "source": [
        "import shutil\n",
        "\n",
        "def moves_files_to_folder(list_of_files, destination_folder):\n",
        "  for f in list_of_files:\n",
        "    try:\n",
        "      shutil.copy(f, destination_folder)\n",
        "    except:\n",
        "      print(f)\n",
        "      assert False\n",
        "\n",
        "moves_files_to_folder(train_images, \"/content/fypdataset3/images/training\")\n",
        "moves_files_to_folder(val_images, \"/content/fypdataset3/images/validation\")\n",
        "moves_files_to_folder(test_images, \"/content/fypdataset3/images/testing\")\n",
        "moves_files_to_folder(train_annotations, \"/content/fypdataset3/labels/training\")\n",
        "moves_files_to_folder(val_annotations, \"/content/fypdataset3/labels/validation\")\n",
        "moves_files_to_folder(test_annotations, \"/content/fypdataset3/labels/testing\")\n",
        "\n"
      ],
      "metadata": {
        "id": "PEZVTskfSvG0"
      },
      "execution_count": null,
      "outputs": []
    },
    {
      "cell_type": "code",
      "source": [
        "import shutil\n",
        "shutil.rmtree(\"/content/fypdataset3/labels1\")\n",
        "shutil.rmtree(\"/content/fypdataset3/images1\")"
      ],
      "metadata": {
        "id": "GiWiFZm9S-OC"
      },
      "execution_count": null,
      "outputs": []
    },
    {
      "cell_type": "code",
      "source": [
        "!git clone https://github.com/ultralytics/yolov5\n",
        "%cd yolov5\n",
        "%pip install -r requirements.txt"
      ],
      "metadata": {
        "id": "6mEzsJWnTEep"
      },
      "execution_count": null,
      "outputs": []
    },
    {
      "cell_type": "markdown",
      "source": [
        "* train, detect and validate your data :))"
      ],
      "metadata": {
        "id": "cQLCn130TSi5"
      }
    },
    {
      "cell_type": "code",
      "source": [
        "!python train.py --img 640 --batch 12 --epochs 10  --data /content/yolov5/data/custom_dataset.yaml --weights /content/best.pt --cache"
      ],
      "metadata": {
        "id": "BCc_sCbdTHTe"
      },
      "execution_count": null,
      "outputs": []
    },
    {
      "cell_type": "markdown",
      "source": [
        "# 100th epoch:"
      ],
      "metadata": {
        "id": "aAGh7GwMOAMK"
      }
    },
    {
      "cell_type": "code",
      "source": [
        "!unzip /content/drive/MyDrive/fyp/fypdataset.zip\n",
        "!unzip /content/drive/MyDrive/fyp/fypdataset2.zip"
      ],
      "metadata": {
        "id": "0VyjWq0zODYh"
      },
      "execution_count": null,
      "outputs": []
    },
    {
      "cell_type": "code",
      "source": [
        "!git clone https://github.com/ultralytics/yolov5\n",
        "%cd yolov5\n",
        "%pip install -r requirements.txt"
      ],
      "metadata": {
        "colab": {
          "base_uri": "https://localhost:8080/"
        },
        "id": "YmyhxkdoOsB3",
        "outputId": "8458ae0f-b0bb-4ead-c003-0265348d2972"
      },
      "execution_count": null,
      "outputs": [
        {
          "output_type": "stream",
          "name": "stdout",
          "text": [
            "Cloning into 'yolov5'...\n",
            "remote: Enumerating objects: 13289, done.\u001b[K\n",
            "remote: Counting objects: 100% (101/101), done.\u001b[K\n",
            "remote: Compressing objects: 100% (67/67), done.\u001b[K\n",
            "remote: Total 13289 (delta 53), reused 72 (delta 34), pack-reused 13188\u001b[K\n",
            "Receiving objects: 100% (13289/13289), 12.57 MiB | 23.93 MiB/s, done.\n",
            "Resolving deltas: 100% (9108/9108), done.\n",
            "/content/yolov5\n",
            "Looking in indexes: https://pypi.org/simple, https://us-python.pkg.dev/colab-wheels/public/simple/\n",
            "Requirement already satisfied: matplotlib>=3.2.2 in /usr/local/lib/python3.7/dist-packages (from -r requirements.txt (line 5)) (3.2.2)\n",
            "Requirement already satisfied: numpy>=1.18.5 in /usr/local/lib/python3.7/dist-packages (from -r requirements.txt (line 6)) (1.21.6)\n",
            "Requirement already satisfied: opencv-python>=4.1.1 in /usr/local/lib/python3.7/dist-packages (from -r requirements.txt (line 7)) (4.6.0.66)\n",
            "Requirement already satisfied: Pillow>=7.1.2 in /usr/local/lib/python3.7/dist-packages (from -r requirements.txt (line 8)) (7.1.2)\n",
            "Collecting PyYAML>=5.3.1\n",
            "  Downloading PyYAML-6.0-cp37-cp37m-manylinux_2_5_x86_64.manylinux1_x86_64.manylinux_2_12_x86_64.manylinux2010_x86_64.whl (596 kB)\n",
            "\u001b[K     |████████████████████████████████| 596 kB 4.8 MB/s \n",
            "\u001b[?25hRequirement already satisfied: requests>=2.23.0 in /usr/local/lib/python3.7/dist-packages (from -r requirements.txt (line 10)) (2.23.0)\n",
            "Requirement already satisfied: scipy>=1.4.1 in /usr/local/lib/python3.7/dist-packages (from -r requirements.txt (line 11)) (1.7.3)\n",
            "Requirement already satisfied: torch>=1.7.0 in /usr/local/lib/python3.7/dist-packages (from -r requirements.txt (line 12)) (1.12.0+cu113)\n",
            "Requirement already satisfied: torchvision>=0.8.1 in /usr/local/lib/python3.7/dist-packages (from -r requirements.txt (line 13)) (0.13.0+cu113)\n",
            "Requirement already satisfied: tqdm>=4.64.0 in /usr/local/lib/python3.7/dist-packages (from -r requirements.txt (line 14)) (4.64.0)\n",
            "Requirement already satisfied: protobuf<=3.20.1 in /usr/local/lib/python3.7/dist-packages (from -r requirements.txt (line 15)) (3.17.3)\n",
            "Requirement already satisfied: tensorboard>=2.4.1 in /usr/local/lib/python3.7/dist-packages (from -r requirements.txt (line 18)) (2.8.0)\n",
            "Requirement already satisfied: pandas>=1.1.4 in /usr/local/lib/python3.7/dist-packages (from -r requirements.txt (line 22)) (1.3.5)\n",
            "Requirement already satisfied: seaborn>=0.11.0 in /usr/local/lib/python3.7/dist-packages (from -r requirements.txt (line 23)) (0.11.2)\n",
            "Requirement already satisfied: ipython in /usr/local/lib/python3.7/dist-packages (from -r requirements.txt (line 37)) (5.5.0)\n",
            "Requirement already satisfied: psutil in /usr/local/lib/python3.7/dist-packages (from -r requirements.txt (line 38)) (5.4.8)\n",
            "Collecting thop>=0.1.1\n",
            "  Downloading thop-0.1.1.post2207130030-py3-none-any.whl (15 kB)\n",
            "Requirement already satisfied: pyparsing!=2.0.4,!=2.1.2,!=2.1.6,>=2.0.1 in /usr/local/lib/python3.7/dist-packages (from matplotlib>=3.2.2->-r requirements.txt (line 5)) (3.0.9)\n",
            "Requirement already satisfied: kiwisolver>=1.0.1 in /usr/local/lib/python3.7/dist-packages (from matplotlib>=3.2.2->-r requirements.txt (line 5)) (1.4.4)\n",
            "Requirement already satisfied: python-dateutil>=2.1 in /usr/local/lib/python3.7/dist-packages (from matplotlib>=3.2.2->-r requirements.txt (line 5)) (2.8.2)\n",
            "Requirement already satisfied: cycler>=0.10 in /usr/local/lib/python3.7/dist-packages (from matplotlib>=3.2.2->-r requirements.txt (line 5)) (0.11.0)\n",
            "Requirement already satisfied: chardet<4,>=3.0.2 in /usr/local/lib/python3.7/dist-packages (from requests>=2.23.0->-r requirements.txt (line 10)) (3.0.4)\n",
            "Requirement already satisfied: certifi>=2017.4.17 in /usr/local/lib/python3.7/dist-packages (from requests>=2.23.0->-r requirements.txt (line 10)) (2022.6.15)\n",
            "Requirement already satisfied: urllib3!=1.25.0,!=1.25.1,<1.26,>=1.21.1 in /usr/local/lib/python3.7/dist-packages (from requests>=2.23.0->-r requirements.txt (line 10)) (1.24.3)\n",
            "Requirement already satisfied: idna<3,>=2.5 in /usr/local/lib/python3.7/dist-packages (from requests>=2.23.0->-r requirements.txt (line 10)) (2.10)\n",
            "Requirement already satisfied: typing-extensions in /usr/local/lib/python3.7/dist-packages (from torch>=1.7.0->-r requirements.txt (line 12)) (4.1.1)\n",
            "Requirement already satisfied: six>=1.9 in /usr/local/lib/python3.7/dist-packages (from protobuf<=3.20.1->-r requirements.txt (line 15)) (1.15.0)\n",
            "Requirement already satisfied: grpcio>=1.24.3 in /usr/local/lib/python3.7/dist-packages (from tensorboard>=2.4.1->-r requirements.txt (line 18)) (1.47.0)\n",
            "Requirement already satisfied: tensorboard-data-server<0.7.0,>=0.6.0 in /usr/local/lib/python3.7/dist-packages (from tensorboard>=2.4.1->-r requirements.txt (line 18)) (0.6.1)\n",
            "Requirement already satisfied: absl-py>=0.4 in /usr/local/lib/python3.7/dist-packages (from tensorboard>=2.4.1->-r requirements.txt (line 18)) (1.2.0)\n",
            "Requirement already satisfied: werkzeug>=0.11.15 in /usr/local/lib/python3.7/dist-packages (from tensorboard>=2.4.1->-r requirements.txt (line 18)) (1.0.1)\n",
            "Requirement already satisfied: markdown>=2.6.8 in /usr/local/lib/python3.7/dist-packages (from tensorboard>=2.4.1->-r requirements.txt (line 18)) (3.4.1)\n",
            "Requirement already satisfied: google-auth-oauthlib<0.5,>=0.4.1 in /usr/local/lib/python3.7/dist-packages (from tensorboard>=2.4.1->-r requirements.txt (line 18)) (0.4.6)\n",
            "Requirement already satisfied: setuptools>=41.0.0 in /usr/local/lib/python3.7/dist-packages (from tensorboard>=2.4.1->-r requirements.txt (line 18)) (57.4.0)\n",
            "Requirement already satisfied: tensorboard-plugin-wit>=1.6.0 in /usr/local/lib/python3.7/dist-packages (from tensorboard>=2.4.1->-r requirements.txt (line 18)) (1.8.1)\n",
            "Requirement already satisfied: wheel>=0.26 in /usr/local/lib/python3.7/dist-packages (from tensorboard>=2.4.1->-r requirements.txt (line 18)) (0.37.1)\n",
            "Requirement already satisfied: google-auth<3,>=1.6.3 in /usr/local/lib/python3.7/dist-packages (from tensorboard>=2.4.1->-r requirements.txt (line 18)) (1.35.0)\n",
            "Requirement already satisfied: pytz>=2017.3 in /usr/local/lib/python3.7/dist-packages (from pandas>=1.1.4->-r requirements.txt (line 22)) (2022.1)\n",
            "Requirement already satisfied: rsa<5,>=3.1.4 in /usr/local/lib/python3.7/dist-packages (from google-auth<3,>=1.6.3->tensorboard>=2.4.1->-r requirements.txt (line 18)) (4.9)\n",
            "Requirement already satisfied: cachetools<5.0,>=2.0.0 in /usr/local/lib/python3.7/dist-packages (from google-auth<3,>=1.6.3->tensorboard>=2.4.1->-r requirements.txt (line 18)) (4.2.4)\n",
            "Requirement already satisfied: pyasn1-modules>=0.2.1 in /usr/local/lib/python3.7/dist-packages (from google-auth<3,>=1.6.3->tensorboard>=2.4.1->-r requirements.txt (line 18)) (0.2.8)\n",
            "Requirement already satisfied: requests-oauthlib>=0.7.0 in /usr/local/lib/python3.7/dist-packages (from google-auth-oauthlib<0.5,>=0.4.1->tensorboard>=2.4.1->-r requirements.txt (line 18)) (1.3.1)\n",
            "Requirement already satisfied: importlib-metadata>=4.4 in /usr/local/lib/python3.7/dist-packages (from markdown>=2.6.8->tensorboard>=2.4.1->-r requirements.txt (line 18)) (4.12.0)\n",
            "Requirement already satisfied: zipp>=0.5 in /usr/local/lib/python3.7/dist-packages (from importlib-metadata>=4.4->markdown>=2.6.8->tensorboard>=2.4.1->-r requirements.txt (line 18)) (3.8.1)\n",
            "Requirement already satisfied: pyasn1<0.5.0,>=0.4.6 in /usr/local/lib/python3.7/dist-packages (from pyasn1-modules>=0.2.1->google-auth<3,>=1.6.3->tensorboard>=2.4.1->-r requirements.txt (line 18)) (0.4.8)\n",
            "Requirement already satisfied: oauthlib>=3.0.0 in /usr/local/lib/python3.7/dist-packages (from requests-oauthlib>=0.7.0->google-auth-oauthlib<0.5,>=0.4.1->tensorboard>=2.4.1->-r requirements.txt (line 18)) (3.2.0)\n",
            "Requirement already satisfied: traitlets>=4.2 in /usr/local/lib/python3.7/dist-packages (from ipython->-r requirements.txt (line 37)) (5.1.1)\n",
            "Requirement already satisfied: pexpect in /usr/local/lib/python3.7/dist-packages (from ipython->-r requirements.txt (line 37)) (4.8.0)\n",
            "Requirement already satisfied: pygments in /usr/local/lib/python3.7/dist-packages (from ipython->-r requirements.txt (line 37)) (2.6.1)\n",
            "Requirement already satisfied: simplegeneric>0.8 in /usr/local/lib/python3.7/dist-packages (from ipython->-r requirements.txt (line 37)) (0.8.1)\n",
            "Requirement already satisfied: pickleshare in /usr/local/lib/python3.7/dist-packages (from ipython->-r requirements.txt (line 37)) (0.7.5)\n",
            "Requirement already satisfied: prompt-toolkit<2.0.0,>=1.0.4 in /usr/local/lib/python3.7/dist-packages (from ipython->-r requirements.txt (line 37)) (1.0.18)\n",
            "Requirement already satisfied: decorator in /usr/local/lib/python3.7/dist-packages (from ipython->-r requirements.txt (line 37)) (4.4.2)\n",
            "Requirement already satisfied: wcwidth in /usr/local/lib/python3.7/dist-packages (from prompt-toolkit<2.0.0,>=1.0.4->ipython->-r requirements.txt (line 37)) (0.2.5)\n",
            "Requirement already satisfied: ptyprocess>=0.5 in /usr/local/lib/python3.7/dist-packages (from pexpect->ipython->-r requirements.txt (line 37)) (0.7.0)\n",
            "Installing collected packages: thop, PyYAML\n",
            "  Attempting uninstall: PyYAML\n",
            "    Found existing installation: PyYAML 3.13\n",
            "    Uninstalling PyYAML-3.13:\n",
            "      Successfully uninstalled PyYAML-3.13\n",
            "Successfully installed PyYAML-6.0 thop-0.1.1.post2207130030\n"
          ]
        }
      ]
    },
    {
      "cell_type": "code",
      "source": [
        "import subprocess\n",
        "subprocess.call([\"/content/yolov5/data/scripts/download_weights.sh\"])"
      ],
      "metadata": {
        "colab": {
          "base_uri": "https://localhost:8080/"
        },
        "id": "OMaZPttWQbdU",
        "outputId": "62b0a6d0-2e93-4833-ac9b-d106cf8d50af"
      },
      "execution_count": null,
      "outputs": [
        {
          "output_type": "execute_result",
          "data": {
            "text/plain": [
              "0"
            ]
          },
          "metadata": {},
          "execution_count": 3
        }
      ]
    },
    {
      "cell_type": "code",
      "source": [
        "!python train.py --img 640 --cfg /content/yolov5/models/yolov5m.yaml --hyp /content/yolov5/data/hyps/hyp.scratch-med.yaml --batch 32 --epochs 10 --data /content/yolov5/data/custom_dataset.yaml --weights /content/drive/MyDrive/FYP/exp/content/yolov5/runs/train/exp3/weights/best.pt --workers 24"
      ],
      "metadata": {
        "id": "guhivGnGQd7d",
        "colab": {
          "base_uri": "https://localhost:8080/"
        },
        "outputId": "20e857bf-3836-4d48-86c1-9f1af7ed9b93"
      },
      "execution_count": null,
      "outputs": [
        {
          "output_type": "stream",
          "name": "stdout",
          "text": [
            "\u001b[34m\u001b[1mtrain: \u001b[0mweights=/content/drive/MyDrive/FYP/exp/content/yolov5/runs/train/exp3/weights/best.pt, cfg=/content/yolov5/models/yolov5m.yaml, data=/content/yolov5/data/custom_dataset.yaml, hyp=/content/yolov5/data/hyps/hyp.scratch-med.yaml, epochs=10, batch_size=32, imgsz=640, rect=False, resume=False, nosave=False, noval=False, noautoanchor=False, noplots=False, evolve=None, bucket=, cache=None, image_weights=False, device=, multi_scale=False, single_cls=False, optimizer=SGD, sync_bn=False, workers=24, project=runs/train, name=exp, exist_ok=False, quad=False, cos_lr=False, label_smoothing=0.0, patience=100, freeze=[0], save_period=-1, seed=0, local_rank=-1, entity=None, upload_dataset=False, bbox_interval=-1, artifact_alias=latest\n",
            "\u001b[34m\u001b[1mgithub: \u001b[0mskipping check (Docker image), for updates see https://github.com/ultralytics/yolov5\n",
            "YOLOv5 🚀 v6.1-344-g0e165c5 Python-3.7.13 torch-1.12.0+cu113 CUDA:0 (Tesla T4, 15110MiB)\n",
            "\n",
            "\u001b[34m\u001b[1mhyperparameters: \u001b[0mlr0=0.01, lrf=0.1, momentum=0.937, weight_decay=0.0005, warmup_epochs=3.0, warmup_momentum=0.8, warmup_bias_lr=0.1, box=0.05, cls=0.3, cls_pw=1.0, obj=0.7, obj_pw=1.0, iou_t=0.2, anchor_t=4.0, fl_gamma=0.0, hsv_h=0.015, hsv_s=0.7, hsv_v=0.4, degrees=0.0, translate=0.1, scale=0.9, shear=0.0, perspective=0.0, flipud=0.0, fliplr=0.5, mosaic=1.0, mixup=0.1, copy_paste=0.0\n",
            "\u001b[34m\u001b[1mWeights & Biases: \u001b[0mrun 'pip install wandb' to automatically track and visualize YOLOv5 🚀 runs (RECOMMENDED)\n",
            "\u001b[34m\u001b[1mTensorBoard: \u001b[0mStart with 'tensorboard --logdir runs/train', view at http://localhost:6006/\n",
            "Overriding model.yaml nc=80 with nc=4\n",
            "\n",
            "                 from  n    params  module                                  arguments                     \n",
            "  0                -1  1      5280  models.common.Conv                      [3, 48, 6, 2, 2]              \n",
            "  1                -1  1     41664  models.common.Conv                      [48, 96, 3, 2]                \n",
            "  2                -1  2     65280  models.common.C3                        [96, 96, 2]                   \n",
            "  3                -1  1    166272  models.common.Conv                      [96, 192, 3, 2]               \n",
            "  4                -1  4    444672  models.common.C3                        [192, 192, 4]                 \n",
            "  5                -1  1    664320  models.common.Conv                      [192, 384, 3, 2]              \n",
            "  6                -1  6   2512896  models.common.C3                        [384, 384, 6]                 \n",
            "  7                -1  1   2655744  models.common.Conv                      [384, 768, 3, 2]              \n",
            "  8                -1  2   4134912  models.common.C3                        [768, 768, 2]                 \n",
            "  9                -1  1   1476864  models.common.SPPF                      [768, 768, 5]                 \n",
            " 10                -1  1    295680  models.common.Conv                      [768, 384, 1, 1]              \n",
            " 11                -1  1         0  torch.nn.modules.upsampling.Upsample    [None, 2, 'nearest']          \n",
            " 12           [-1, 6]  1         0  models.common.Concat                    [1]                           \n",
            " 13                -1  2   1182720  models.common.C3                        [768, 384, 2, False]          \n",
            " 14                -1  1     74112  models.common.Conv                      [384, 192, 1, 1]              \n",
            " 15                -1  1         0  torch.nn.modules.upsampling.Upsample    [None, 2, 'nearest']          \n",
            " 16           [-1, 4]  1         0  models.common.Concat                    [1]                           \n",
            " 17                -1  2    296448  models.common.C3                        [384, 192, 2, False]          \n",
            " 18                -1  1    332160  models.common.Conv                      [192, 192, 3, 2]              \n",
            " 19          [-1, 14]  1         0  models.common.Concat                    [1]                           \n",
            " 20                -1  2   1035264  models.common.C3                        [384, 384, 2, False]          \n",
            " 21                -1  1   1327872  models.common.Conv                      [384, 384, 3, 2]              \n",
            " 22          [-1, 10]  1         0  models.common.Concat                    [1]                           \n",
            " 23                -1  2   4134912  models.common.C3                        [768, 768, 2, False]          \n",
            " 24      [17, 20, 23]  1     36369  models.yolo.Detect                      [4, [[10, 13, 16, 30, 33, 23], [30, 61, 62, 45, 59, 119], [116, 90, 156, 198, 373, 326]], [192, 384, 768]]\n",
            "YOLOv5m summary: 369 layers, 20883441 parameters, 20883441 gradients, 48.3 GFLOPs\n",
            "\n",
            "Transferred 480/481 items from /content/drive/MyDrive/FYP/exp/content/yolov5/runs/train/exp3/weights/best.pt\n",
            "\u001b[34m\u001b[1mAMP: \u001b[0mchecks passed ✅\n",
            "Scaled weight_decay = 0.0005\n",
            "\u001b[34m\u001b[1moptimizer:\u001b[0m SGD with parameter groups 79 weight (no decay), 82 weight, 82 bias\n",
            "\u001b[34m\u001b[1malbumentations: \u001b[0mversion 1.0.3 required by YOLOv5, but version 0.1.12 is currently installed\n",
            "\u001b[34m\u001b[1mtrain: \u001b[0mScanning '/content/fypdataset4/labels.cache' images and labels... 10149 found, 8 missing, 0 empty, 3 corrupt: 100% 10160/10160 [00:00<?, ?it/s]\n",
            "\u001b[34m\u001b[1mtrain: \u001b[0mWARNING: /content/fypdataset4/images/10026.jpg: corrupt JPEG restored and saved\n",
            "\u001b[34m\u001b[1mtrain: \u001b[0mWARNING: /content/fypdataset4/images/8470.jpg: ignoring corrupt image/label: invalid image format GIF\n",
            "\u001b[34m\u001b[1mtrain: \u001b[0mWARNING: /content/fypdataset4/images/8577.jpg: corrupt JPEG restored and saved\n",
            "\u001b[34m\u001b[1mtrain: \u001b[0mWARNING: /content/fypdataset4/images/8646.jpg: corrupt JPEG restored and saved\n",
            "\u001b[34m\u001b[1mtrain: \u001b[0mWARNING: /content/fypdataset4/images/9297.jpg: corrupt JPEG restored and saved\n",
            "\u001b[34m\u001b[1mtrain: \u001b[0mWARNING: /content/fypdataset4/images/9565.jpg: ignoring corrupt image/label: invalid image format GIF\n",
            "\u001b[34m\u001b[1mtrain: \u001b[0mWARNING: /content/fypdataset4/images/9778.jpg: ignoring corrupt image/label: invalid image format GIF\n",
            "\u001b[34m\u001b[1mtrain: \u001b[0mWARNING: /content/fypdataset4/images/9815.jpg: corrupt JPEG restored and saved\n",
            "\u001b[34m\u001b[1mtrain: \u001b[0mWARNING: /content/fypdataset4/images/n02089973_1763.jpg: corrupt JPEG restored and saved\n",
            "\u001b[34m\u001b[1mtrain: \u001b[0mWARNING: /content/fypdataset4/images/n02089973_2054.jpg: corrupt JPEG restored and saved\n",
            "\u001b[34m\u001b[1mval: \u001b[0mScanning '/content/content/fypdataset/labels/validation.cache' images and labels... 407 found, 0 missing, 0 empty, 0 corrupt: 100% 407/407 [00:00<?, ?it/s]\n",
            "\u001b[34m\u001b[1mval: \u001b[0mWARNING: /content/content/fypdataset/images/validation/9297.jpg: corrupt JPEG restored and saved\n",
            "Plotting labels to runs/train/exp4/labels.jpg... \n",
            "\n",
            "\u001b[34m\u001b[1mAutoAnchor: \u001b[0m2.56 anchors/target, 1.000 Best Possible Recall (BPR). Current anchors are a good fit to dataset ✅\n",
            "Image sizes 640 train, 640 val\n",
            "Using 2 dataloader workers\n",
            "Logging results to \u001b[1mruns/train/exp4\u001b[0m\n",
            "Starting training for 10 epochs...\n",
            "\n",
            "     Epoch   gpu_mem       box       obj       cls    labels  img_size\n",
            "       0/9     12.1G    0.0179  0.008679 0.0008283        41       640: 100% 318/318 [05:25<00:00,  1.02s/it]\n",
            "               Class     Images     Labels          P          R     mAP@.5 mAP@.5:.95: 100% 7/7 [00:06<00:00,  1.09it/s]\n",
            "                 all        407        444      0.956       0.97       0.99      0.757\n",
            "\n",
            "     Epoch   gpu_mem       box       obj       cls    labels  img_size\n",
            "       1/9     10.8G   0.02142  0.009351   0.00148        40       640: 100% 318/318 [05:20<00:00,  1.01s/it]\n",
            "               Class     Images     Labels          P          R     mAP@.5 mAP@.5:.95: 100% 7/7 [00:06<00:00,  1.15it/s]\n",
            "                 all        407        444      0.972      0.969      0.988      0.766\n",
            "\n",
            "     Epoch   gpu_mem       box       obj       cls    labels  img_size\n",
            "       2/9     10.8G   0.02182  0.009677  0.001634        47       640: 100% 318/318 [05:17<00:00,  1.00it/s]\n",
            "               Class     Images     Labels          P          R     mAP@.5 mAP@.5:.95: 100% 7/7 [00:06<00:00,  1.16it/s]\n",
            "                 all        407        444      0.926      0.909      0.956       0.71\n",
            "\n",
            "     Epoch   gpu_mem       box       obj       cls    labels  img_size\n",
            "       3/9     10.8G   0.02311   0.01013  0.001806        42       640: 100% 318/318 [05:33<00:00,  1.05s/it]\n",
            "               Class     Images     Labels          P          R     mAP@.5 mAP@.5:.95: 100% 7/7 [00:06<00:00,  1.03it/s]\n",
            "                 all        407        444      0.949      0.944      0.964      0.708\n",
            "\n",
            "     Epoch   gpu_mem       box       obj       cls    labels  img_size\n",
            "       4/9     10.8G   0.02352   0.01039  0.002039        44       640: 100% 318/318 [05:41<00:00,  1.08s/it]\n",
            "               Class     Images     Labels          P          R     mAP@.5 mAP@.5:.95: 100% 7/7 [00:06<00:00,  1.14it/s]\n",
            "                 all        407        444      0.936      0.958      0.978      0.694\n",
            "\n",
            "     Epoch   gpu_mem       box       obj       cls    labels  img_size\n",
            "       5/9     10.8G   0.02282   0.01009  0.001948        31       640: 100% 318/318 [05:25<00:00,  1.02s/it]\n",
            "               Class     Images     Labels          P          R     mAP@.5 mAP@.5:.95: 100% 7/7 [00:06<00:00,  1.04it/s]\n",
            "                 all        407        444      0.952      0.949      0.978      0.714\n",
            "\n",
            "     Epoch   gpu_mem       box       obj       cls    labels  img_size\n",
            "       6/9     10.8G   0.02239  0.009966  0.001838        42       640: 100% 318/318 [05:17<00:00,  1.00it/s]\n",
            "               Class     Images     Labels          P          R     mAP@.5 mAP@.5:.95: 100% 7/7 [00:06<00:00,  1.12it/s]\n",
            "                 all        407        444      0.946      0.954       0.98      0.732\n",
            "\n",
            "     Epoch   gpu_mem       box       obj       cls    labels  img_size\n",
            "       7/9     10.8G   0.02168  0.009826  0.001672        47       640: 100% 318/318 [05:22<00:00,  1.02s/it]\n",
            "               Class     Images     Labels          P          R     mAP@.5 mAP@.5:.95: 100% 7/7 [00:06<00:00,  1.13it/s]\n",
            "                 all        407        444      0.962      0.956      0.983      0.764\n",
            "\n",
            "     Epoch   gpu_mem       box       obj       cls    labels  img_size\n",
            "       8/9     10.8G   0.02127  0.009601  0.001581        39       640: 100% 318/318 [05:21<00:00,  1.01s/it]\n",
            "               Class     Images     Labels          P          R     mAP@.5 mAP@.5:.95: 100% 7/7 [00:05<00:00,  1.19it/s]\n",
            "                 all        407        444      0.971      0.951      0.984      0.749\n",
            "\n",
            "     Epoch   gpu_mem       box       obj       cls    labels  img_size\n",
            "       9/9     10.8G   0.02109  0.009605  0.001462        38       640: 100% 318/318 [05:15<00:00,  1.01it/s]\n",
            "               Class     Images     Labels          P          R     mAP@.5 mAP@.5:.95: 100% 7/7 [00:06<00:00,  1.14it/s]\n",
            "                 all        407        444      0.947      0.979      0.989      0.766\n",
            "\n",
            "10 epochs completed in 0.921 hours.\n",
            "Optimizer stripped from runs/train/exp4/weights/last.pt, 42.2MB\n",
            "Optimizer stripped from runs/train/exp4/weights/best.pt, 42.2MB\n",
            "\n",
            "Validating runs/train/exp4/weights/best.pt...\n",
            "Fusing layers... \n",
            "YOLOv5m summary: 290 layers, 20865057 parameters, 0 gradients, 47.9 GFLOPs\n",
            "               Class     Images     Labels          P          R     mAP@.5 mAP@.5:.95: 100% 7/7 [00:07<00:00,  1.00s/it]\n",
            "                 all        407        444      0.947      0.979      0.989      0.767\n",
            "                 Dog        407        303       0.96      0.997      0.991      0.884\n",
            "                 Cat        407         75      0.934      0.939      0.977      0.694\n",
            "               Horse        407         17      0.956          1      0.995      0.855\n",
            "               Human        407         49      0.938       0.98      0.991      0.634\n",
            "Results saved to \u001b[1mruns/train/exp4\u001b[0m\n"
          ]
        }
      ]
    },
    {
      "cell_type": "code",
      "source": [
        "!zip /content/exp4 -r /content/yolov5/runs/train/exp4\n",
        "\n",
        "\n",
        "\n",
        "\n",
        "# 120 epochs,, haha"
      ],
      "metadata": {
        "id": "BVdFqjabPoIF"
      },
      "execution_count": null,
      "outputs": []
    },
    {
      "cell_type": "code",
      "source": [
        "!python detect.py --weights /content/yolov5/runs/train/exp4/weights/best.pt --img 640 --conf 0.5 --source /content/drive/MyDrive/FYP/test_videos/cat_dog.mp4"
      ],
      "metadata": {
        "id": "NqRGvNnVQDm5"
      },
      "execution_count": null,
      "outputs": []
    },
    {
      "cell_type": "code",
      "source": [
        "!python detect.py --weights /content/drive/MyDrive/FYP/exp/content/yolov5/runs/train/exp3/weights/best.pt --img 640 --conf 0.5 --source /content/drive/MyDrive/FYP/test_videos/cat_dog.mp4"
      ],
      "metadata": {
        "id": "cnKh-tPNjotr"
      },
      "execution_count": null,
      "outputs": []
    }
  ],
  "metadata": {
    "colab": {
      "provenance": [],
      "mount_file_id": "1FScWB8wATq5bdN6x9H_BZOVxE9KipENo",
      "authorship_tag": "ABX9TyOjGmyZS5940ofDzJFquY/g",
      "include_colab_link": true
    },
    "kernelspec": {
      "display_name": "Python 3",
      "name": "python3"
    },
    "language_info": {
      "name": "python"
    },
    "gpuClass": "standard"
  },
  "nbformat": 4,
  "nbformat_minor": 0
}