{
  "nbformat": 4,
  "nbformat_minor": 0,
  "metadata": {
    "colab": {
      "provenance": [],
      "name": "data-preprocessing-2.ipynb",
      "authorship_tag": "ABX9TyP9g6NcroFPyo8zMeF8aa15",
      "include_colab_link": true
    },
    "kernelspec": {
      "name": "python3",
      "display_name": "Python 3"
    },
    "language_info": {
      "name": "python"
    },
    "gpuClass": "standard"
  },
  "cells": [
    {
      "cell_type": "markdown",
      "metadata": {
        "id": "view-in-github",
        "colab_type": "text"
      },
      "source": [
        "<a href=\"https://colab.research.google.com/github/tselane2110/stray-dogs-detection-system/blob/main/Model%20Training/data_preprocessing_2.ipynb\" target=\"_parent\"><img src=\"https://colab.research.google.com/assets/colab-badge.svg\" alt=\"Open In Colab\"/></a>"
      ]
    },
    {
      "cell_type": "markdown",
      "source": [
        "# Data Pre-Processing for other datasets (human, cat, horse)"
      ],
      "metadata": {
        "id": "xDebQnZw9C5Y"
      }
    },
    {
      "cell_type": "code",
      "execution_count": null,
      "metadata": {
        "colab": {
          "base_uri": "https://localhost:8080/"
        },
        "id": "Alyr2zyNycyj",
        "outputId": "3863e3eb-2c85-4757-efa0-bac59cc9c403"
      },
      "outputs": [
        {
          "output_type": "stream",
          "name": "stdout",
          "text": [
            "Looking in indexes: https://pypi.org/simple, https://us-python.pkg.dev/colab-wheels/public/simple/\n",
            "Requirement already satisfied: Pillow in /usr/local/lib/python3.7/dist-packages (7.1.2)\n"
          ]
        }
      ],
      "source": [
        "!pip install Pillow"
      ]
    },
    {
      "cell_type": "code",
      "source": [
        "!unzip /content/horsedata.zip\n",
        "!unzip /content/cat.zip\n",
        "!unzip /content/human.zip"
      ],
      "metadata": {
        "id": "qQpXetRDAq-v"
      },
      "execution_count": null,
      "outputs": []
    },
    {
      "cell_type": "code",
      "source": [
        "import os\n",
        "from pathlib import Path\n",
        "\n",
        "horse=\"/content/horsedata/images\"\n",
        "humans=\"/content/human/images\"\n",
        "\n",
        "for i in os.listdir(horse):\n",
        "    base = os.path.splitext(i)[0]\n",
        "    os.rename(\"/content/horsedata/images/\"+i, \"/content/horsedata/images/\" +base + '.jpg')\n",
        "\n",
        "\n",
        "for i in os.listdir(humans):\n",
        "    base = os.path.splitext(i)[0]\n",
        "    os.rename(\"/content/human/images/\"+i, \"/content/human/images/\" +base + '.jpg')\n",
        "\n",
        "\n"
      ],
      "metadata": {
        "id": "NBuQay6mykVI"
      },
      "execution_count": null,
      "outputs": []
    },
    {
      "cell_type": "code",
      "source": [
        "import os\n",
        "\n",
        "files = []\n",
        "# Add the path of txt folder\n",
        "for i in os.listdir(\"/content/cat/labels\"):\n",
        "    if i.endswith('.txt'):\n",
        "        files.append(i)\n",
        "\n",
        "for item in files:\n",
        "    # define an empty list\n",
        "    file_data = []\n",
        "\n",
        "    # open file and read the content in a list\n",
        "    with open(\"/content/cat/labels/\"+item, 'r') as myfile:\n",
        "      for line in myfile:\n",
        "        # remove linebreak which is the last character of the string\n",
        "        currentLine = line[:-1]\n",
        "        data = currentLine.split(\" \")\n",
        "        # add item to the list\n",
        "        file_data.append(data)\n",
        "\n",
        "    # Decrease the first number in any line by one\n",
        "    for i in file_data:\n",
        "        if type(i[0])==str:\n",
        "          temp = int(i[0]) + 1\n",
        "          i[0] = str(temp)\n",
        "\n",
        "    # Write back to the file\n",
        "    f = open(\"/content/cat/labels/\"+item, 'w')\n",
        "    for i in file_data:\n",
        "      res = \"\"\n",
        "      for j in i:\n",
        "        res += j + \" \"\n",
        "    f.write(res)\n",
        "    f.write(\"\\n\")\n",
        "    f.close()"
      ],
      "metadata": {
        "id": "jFjspGTMXxBO"
      },
      "execution_count": null,
      "outputs": []
    },
    {
      "cell_type": "code",
      "source": [
        "import os\n",
        "\n",
        "files = []\n",
        "# Add the path of txt folder\n",
        "for i in os.listdir(\"/content/horsedata/labels\"):\n",
        "    if i.endswith('.txt'):\n",
        "        files.append(i)\n",
        "\n",
        "for item in files:\n",
        "    # define an empty list\n",
        "    file_data = []\n",
        "\n",
        "    # open file and read the content in a list\n",
        "    with open(\"/content/horsedata/labels/\"+item, 'r') as myfile:\n",
        "      for line in myfile:\n",
        "        # remove linebreak which is the last character of the string\n",
        "        currentLine = line[:-1]\n",
        "        data = currentLine.split(\" \")\n",
        "        # add item to the list\n",
        "        file_data.append(data)\n",
        "\n",
        "    # Decrease the first number in any line by one\n",
        "    for i in file_data:\n",
        "        if type(i[0])==str:\n",
        "          temp = int(i[0]) + 2\n",
        "          i[0] = str(temp)\n",
        "\n",
        "    # Write back to the file\n",
        "    f = open(\"/content/horsedata/labels/\"+item, 'w')\n",
        "    for i in file_data:\n",
        "      res = \"\"\n",
        "      for j in i:\n",
        "        res += j + \" \"\n",
        "    f.write(res)\n",
        "    f.write(\"\\n\")\n",
        "    f.close()"
      ],
      "metadata": {
        "id": "HUGCGHoA0cCi"
      },
      "execution_count": null,
      "outputs": []
    },
    {
      "cell_type": "code",
      "source": [
        "import os\n",
        "\n",
        "files = []\n",
        "# Add the path of txt folder\n",
        "for i in os.listdir(\"/content/human/labels\"):\n",
        "    if i.endswith('.txt'):\n",
        "        files.append(i)\n",
        "\n",
        "for item in files:\n",
        "    # define an empty list\n",
        "    file_data = []\n",
        "\n",
        "    # open file and read the content in a list\n",
        "    with open(\"/content/human/labels/\"+item, 'r') as myfile:\n",
        "      for line in myfile:\n",
        "        # remove linebreak which is the last character of the string\n",
        "        currentLine = line[:-1]\n",
        "        data = currentLine.split(\" \")\n",
        "        # add item to the list\n",
        "        file_data.append(data)\n",
        "\n",
        "    # Decrease the first number in any line by one\n",
        "    for i in file_data:\n",
        "        if type(i[0])==str:\n",
        "          temp = int(i[0]) + 3\n",
        "          i[0] = str(temp)\n",
        "\n",
        "    # Write back to the file\n",
        "    f = open(\"/content/human/labels/\"+item, 'w')\n",
        "    for i in file_data:\n",
        "      res = \"\"\n",
        "      for j in i:\n",
        "        res += j + \" \"\n",
        "    f.write(res)\n",
        "    f.write(\"\\n\")\n",
        "    f.close()"
      ],
      "metadata": {
        "id": "KIIlDvvg0sWa"
      },
      "execution_count": null,
      "outputs": []
    },
    {
      "cell_type": "code",
      "source": [
        "!zip /content/human.zip -r /content/human\n",
        "!zip /content/horsedata.zip -r /content/horsedata\n",
        "!zip /content/cat.zip -r /content/cat"
      ],
      "metadata": {
        "id": "Fo6Nn-dD1N0k"
      },
      "execution_count": null,
      "outputs": []
    },
    {
      "cell_type": "code",
      "source": [],
      "metadata": {
        "id": "Qc4O_iLp9aPU"
      },
      "execution_count": null,
      "outputs": []
    }
  ]
}